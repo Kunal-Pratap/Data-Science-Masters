{
 "cells": [
  {
   "cell_type": "markdown",
   "id": "bd2f295d",
   "metadata": {},
   "source": [
    "## Q1. What is the main difference between the Euclidean distance metric and the Manhattan distance metric in KNN? How might this difference affect the performance of a KNN classifier or regressor?"
   ]
  },
  {
   "cell_type": "markdown",
   "id": "dcc12fb9",
   "metadata": {},
   "source": [
    "Euclidean distance is the shortest path between source and destination.\n",
    "but Manhattan distance is sum of all the real distances between source(s) and destination(d).\n",
    "This difference affects in the prediction of new data."
   ]
  },
  {
   "cell_type": "markdown",
   "id": "d20da9f6",
   "metadata": {},
   "source": [
    "## Q2. How do you choose the optimal value of k for a KNN classifier or regressor? What techniques can be used to determine the optimal k value?"
   ]
  },
  {
   "cell_type": "markdown",
   "id": "a8c3bac7",
   "metadata": {},
   "source": [
    "1. Square Root Method: Take square root of the number of samples in the training dataset.\n",
    "\n",
    "2. Cross Validation Method: We should also use cross validation to find out the optimal value of K in KNN. Start with K=1, run cross validation (5 to 10 fold),  measure the accuracy and keep repeating till the results become consistent. \n",
    "\n",
    "K=1, 2, 3... As K increases, the error usually goes down, then stabilizes, and then raises again. Pick the optimum K at the beginning of the stable zone. This is also called Elbow Method.\n",
    "\n",
    "3. Domain Knowledge also plays a vital role while choosing the optimum value of K.\n",
    "\n",
    "4. K should be an odd number."
   ]
  },
  {
   "cell_type": "markdown",
   "id": "a8003c3d",
   "metadata": {},
   "source": [
    "## Q3. How does the choice of distance metric affect the performance of a KNN classifier or regressor? In what situations might you choose one distance metric over the other?"
   ]
  },
  {
   "cell_type": "markdown",
   "id": "c3110f55",
   "metadata": {},
   "source": [
    "Actually, it depends on the problem and dataset to use in KNN. Each distance metric has a specific area. Euclidean distance, Manhattan Distance, and Minkowski Distance can be used for continous variables. Hamming Distance, Dice Distance, and Jaccard Similarity can be used for categorical variables. Cosine similarity can be used for text data. If you are unsure then you can use cross-validation with different matrics and see which metrics gives high performance."
   ]
  },
  {
   "cell_type": "markdown",
   "id": "b3175b29",
   "metadata": {},
   "source": [
    "## Q4. What are some common hyperparameters in KNN classifiers and regressors, and how do they affect the performance of the model? How might you go about tuning these hyperparameters to improve model performance?"
   ]
  },
  {
   "cell_type": "markdown",
   "id": "f5cb8fea",
   "metadata": {},
   "source": [
    "Things to keep in mind when performing turning:\n",
    "1.    Understand the parameters: The main hyperparameter to tune in k-nearest neighbors is k, the number of neighbors to consider. Other parameters include distance metrics, weights, and algorithm types.\n",
    "2.    Select a distance metric: Choose the right distance metric to measure the similarity between the data points. Common distance metrics include Euclidean, Manhattan, and cosine distance.\n",
    "3.    Select an appropriate value for k: Selecting a value for k is crucial in k-nearest neighbors. A larger value of k provides a smoother decision boundary but may not be suitable for all datasets. A smaller value of k may lead to overfitting.\n",
    "4.    Choose an algorithm type: k-nearest neighbors has two algorithm types: brute-force and tree-based. Brute-force algorithm computes the distances between all pairs of points in the dataset while tree-based algorithm divides the dataset into smaller parts.\n",
    "5.    Cross-validation: Cross-validation is a technique used to validate the performance of the model. It involves splitting the dataset into training and testing sets and evaluating the model's performance on the testing set.\n",
    "6.    Grid search: Grid search is a hyperparameter tuning technique that involves testing a range of values for each hyperparameter to find the best combination of values.\n",
    "7.    Random search: Random search is another hyperparameter tuning technique that randomly selects a combination of hyperparameter values to test.\n",
    "8.    Bias-variance tradeoff: k-nearest neighbors is prone to overfitting due to the high variance in the model. Regularization techniques such as L1 and L2 regularization can be used to mitigate overfitting.\n",
    "9.    Data preprocessing: Data preprocessing plays a crucial role in k-nearest neighbors. Scaling the data using techniques such as normalization and standardization can improve the model's performance. Outlier removal and feature selection can also help improve the model's performance."
   ]
  },
  {
   "cell_type": "markdown",
   "id": "49372aea",
   "metadata": {},
   "source": [
    "## Q5. How does the size of the training set affect the performance of a KNN classifier or regressor? What techniques can be used to optimize the size of the training set?"
   ]
  },
  {
   "cell_type": "markdown",
   "id": "8fbeccfd",
   "metadata": {},
   "source": [
    "The KNN algorithm does not work well with large datasets. The cost of calculating the distance between the new point and each existing point is huge, which degrades performance.\n",
    "Feature scaling (standardization and normalization) is required before applying the KNN algorithm to any dataset. Otherwise, KNN may generate wrong predictions."
   ]
  },
  {
   "cell_type": "markdown",
   "id": "634f8a7d",
   "metadata": {},
   "source": [
    "## Q6. What are some potential drawbacks of using KNN as a classifier or regressor? How might you overcome these drawbacks to improve the performance of the model?"
   ]
  },
  {
   "cell_type": "markdown",
   "id": "4bf47d1c",
   "metadata": {},
   "source": [
    "It's main disadvantages are that it is quite computationally inefficient and its difficult to pick the “correct” value of K. However, the advantages of this algorithm is that it is versatile to different calculations of proximity, it's very intuitive and that it's a memory based approach."
   ]
  }
 ],
 "metadata": {
  "kernelspec": {
   "display_name": "Python 3 (ipykernel)",
   "language": "python",
   "name": "python3"
  },
  "language_info": {
   "codemirror_mode": {
    "name": "ipython",
    "version": 3
   },
   "file_extension": ".py",
   "mimetype": "text/x-python",
   "name": "python",
   "nbconvert_exporter": "python",
   "pygments_lexer": "ipython3",
   "version": "3.11.5"
  }
 },
 "nbformat": 4,
 "nbformat_minor": 5
}
