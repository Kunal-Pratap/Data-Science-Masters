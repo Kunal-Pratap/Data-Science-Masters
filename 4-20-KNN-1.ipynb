{
 "cells": [
  {
   "cell_type": "markdown",
   "id": "e19fcd84-c559-433b-baa3-b83ee47fbe18",
   "metadata": {},
   "source": [
    "## KNN"
   ]
  },
  {
   "cell_type": "markdown",
   "id": "2d210859-bb4e-47db-8c53-df72e1ac22a8",
   "metadata": {},
   "source": [
    "## Q1. What is the KNN algorithm?"
   ]
  },
  {
   "cell_type": "code",
   "execution_count": 1,
   "id": "b80ab01f-c438-402f-8899-951ffc05bffc",
   "metadata": {},
   "outputs": [],
   "source": [
    "## It is K Nearest Neighbor algorithm.\n",
    "## Closest data points are selected for giving output."
   ]
  },
  {
   "cell_type": "markdown",
   "id": "1d89d4af-a037-497e-8f80-cc947819b3a8",
   "metadata": {},
   "source": [
    "## Q2. How do you choose the value of K in KNN?"
   ]
  },
  {
   "cell_type": "code",
   "execution_count": 2,
   "id": "3ecbfa94-876e-434c-b8b2-cdea470e2159",
   "metadata": {},
   "outputs": [],
   "source": [
    "## We choose the value of K at random.\n",
    "## K value ranges from 1 to infinity."
   ]
  },
  {
   "cell_type": "markdown",
   "id": "253264d2-a43a-450e-9db6-194fb2ae82e1",
   "metadata": {},
   "source": [
    "## Q3. What is the difference between KNN classifier and KNN regressor?"
   ]
  },
  {
   "cell_type": "code",
   "execution_count": 3,
   "id": "4431ddfc-d7d5-4b5e-bc27-4aa29d0444b7",
   "metadata": {},
   "outputs": [],
   "source": [
    "## KNN classifier gives categorical output.\n",
    "## KNN Regressor gives continuous output."
   ]
  },
  {
   "cell_type": "markdown",
   "id": "247ab190-7462-4c55-b9b5-c0304c9ba7d3",
   "metadata": {},
   "source": [
    "## Q4. How do you measure the performance of KNN?"
   ]
  },
  {
   "cell_type": "code",
   "execution_count": 4,
   "id": "a413beb5-24e8-4b8b-96b2-334430ba8f62",
   "metadata": {},
   "outputs": [],
   "source": [
    "## We measure the performance of KNN by by different methods.\n",
    "## It is measured by accuracy score, r2 score, classification report etc."
   ]
  },
  {
   "cell_type": "markdown",
   "id": "6afbcfb0-a5f6-40f9-8d97-e36b6f77dd1e",
   "metadata": {},
   "source": [
    "## Q5. What is the curse of dimensionality in KNN?"
   ]
  },
  {
   "cell_type": "code",
   "execution_count": 5,
   "id": "1ba324ee-6731-4641-811b-a3b61a5b6b66",
   "metadata": {},
   "outputs": [],
   "source": [
    "## The size of the data space grows exponentially with the number of dimensions. \n",
    "## This means that the size of your data set must also grow exponentially in order to keep the same density."
   ]
  },
  {
   "cell_type": "markdown",
   "id": "e8b9b821-3000-4873-83d7-6dac4c052ebb",
   "metadata": {},
   "source": [
    "## Q6. How do you handle missing values in KNN?"
   ]
  },
  {
   "cell_type": "code",
   "execution_count": 6,
   "id": "746a881f-9565-4d09-94a1-d95433fbb725",
   "metadata": {},
   "outputs": [],
   "source": [
    "## Missing values in KNN can be handled by different intution techniques.\n",
    "## Mean, Mode, Median."
   ]
  },
  {
   "cell_type": "markdown",
   "id": "f2629ee2-fdb5-4366-96e4-31e506238a0e",
   "metadata": {},
   "source": [
    "## Q7. Compare and contrast the performance of the KNN classifier and regressor. Which one is better for which type of problem?"
   ]
  },
  {
   "cell_type": "code",
   "execution_count": 7,
   "id": "137b6ec4-43fd-4e4d-8218-bcc94b01a4cc",
   "metadata": {},
   "outputs": [],
   "source": [
    "## KNN classifier gives categorical output.\n",
    "## KNN Regressor gives continuous output.\n",
    "## KNN classifier is used when data is categorical.\n",
    "## KNN Regressor is used when data is continuous."
   ]
  },
  {
   "cell_type": "markdown",
   "id": "304a7bb4-006a-4a02-a135-9c87c64b4802",
   "metadata": {},
   "source": [
    "## Q8. What are the strengths and weaknesses of the KNN algorithm for classification and regression tasks, and how can these be addressed?"
   ]
  },
  {
   "cell_type": "code",
   "execution_count": 8,
   "id": "350bb4c3-a2fc-4b86-8245-c881704c3d0b",
   "metadata": {},
   "outputs": [],
   "source": [
    "## KNN classifier gives categorical output.\n",
    "## KNN Regressor gives continuous output.\n",
    "## KNN classifier is used when data is categorical.\n",
    "## KNN Regressor is used when data is continuous."
   ]
  },
  {
   "cell_type": "markdown",
   "id": "aa0dfd4e-2614-4500-a25c-e0a8a3405fda",
   "metadata": {},
   "source": [
    "## Q9. What is the difference between Euclidean distance and Manhattan distance in KNN?"
   ]
  },
  {
   "cell_type": "code",
   "execution_count": 9,
   "id": "9e381284-85d3-49b8-a0aa-1651c8418163",
   "metadata": {},
   "outputs": [],
   "source": [
    "## Euclidean distance is is actual distance betweeen two coordinates.\n",
    "## Manhattan distance is not actual distance, it is the distance travelled across the axis."
   ]
  },
  {
   "cell_type": "markdown",
   "id": "82524827-9052-4e5f-ac10-110bd22e8571",
   "metadata": {},
   "source": [
    "## Q10. What is the role of feature scaling in KNN?"
   ]
  },
  {
   "cell_type": "code",
   "execution_count": 10,
   "id": "41dc7007-ec63-4414-9936-704f11cb2d76",
   "metadata": {},
   "outputs": [],
   "source": [
    "## Model is trained well.\n",
    "## Accuracy is increased.\n",
    "## Helps in predecting correct outputs."
   ]
  }
 ],
 "metadata": {
  "kernelspec": {
   "display_name": "Python 3 (ipykernel)",
   "language": "python",
   "name": "python3"
  },
  "language_info": {
   "codemirror_mode": {
    "name": "ipython",
    "version": 3
   },
   "file_extension": ".py",
   "mimetype": "text/x-python",
   "name": "python",
   "nbconvert_exporter": "python",
   "pygments_lexer": "ipython3",
   "version": "3.10.8"
  }
 },
 "nbformat": 4,
 "nbformat_minor": 5
}
