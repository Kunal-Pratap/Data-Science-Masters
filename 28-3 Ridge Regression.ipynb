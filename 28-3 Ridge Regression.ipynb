{
 "cells": [
  {
   "cell_type": "markdown",
   "id": "267a52ed-871e-4d11-9d4f-a537264f74d4",
   "metadata": {},
   "source": [
    "## Ridge Regression"
   ]
  },
  {
   "cell_type": "markdown",
   "id": "64c80c79-c96a-4e26-9821-16873195c8a9",
   "metadata": {},
   "source": [
    "## Q1. What is Ridge Regression, and how does it differ from ordinary least squares regression?"
   ]
  },
  {
   "cell_type": "code",
   "execution_count": 1,
   "id": "b00495c3-2e68-4c3f-82fa-ce907f985c5e",
   "metadata": {},
   "outputs": [],
   "source": [
    "## Ridge regression is a technique which is used to reduce the overfitting condition of model.\n",
    "## It is also known as l2 reguralization.\n",
    "## ordinary least square regression is a common technique for estimating coefficients of linear regression equations."
   ]
  },
  {
   "cell_type": "markdown",
   "id": "0c959a02-1ee8-410a-9c68-171d42273a56",
   "metadata": {},
   "source": [
    "## Q2. What are the assumptions of Ridge Regression?"
   ]
  },
  {
   "cell_type": "code",
   "execution_count": 2,
   "id": "310f24af-f2f6-4439-b80c-f8373622ec7e",
   "metadata": {},
   "outputs": [],
   "source": [
    "## Assumptions of ridge regression are same as that of linear regression.\n",
    "## Graph between test data and predicted data should be uniform.\n",
    "## Adjusted r square score should be less than r square score."
   ]
  },
  {
   "cell_type": "markdown",
   "id": "ee01b354-0015-4de0-b4b6-cafab58dd536",
   "metadata": {},
   "source": [
    "## Q3. How do you select the value of the tuning parameter (lambda) in Ridge Regression?"
   ]
  },
  {
   "cell_type": "code",
   "execution_count": 3,
   "id": "f16116ca-7f8c-4216-8030-60ca8a531ffd",
   "metadata": {},
   "outputs": [],
   "source": [
    "## We select the value of lambda from 1.\n",
    "## We does not take it as 0 because if we take it 0 then cost function becomes 0 again.\n",
    "## As we go on increasing the value of lambda the value of cost function decreases."
   ]
  },
  {
   "cell_type": "markdown",
   "id": "b6a13de8-3708-448c-a0d8-2639c30a285e",
   "metadata": {},
   "source": [
    "## Q4. Can Ridge Regression be used for feature selection? If yes, how?"
   ]
  },
  {
   "cell_type": "code",
   "execution_count": 1,
   "id": "1d833558-c306-40b4-9730-4b830e448211",
   "metadata": {},
   "outputs": [],
   "source": [
    "## Ridge regression cannot be used for feature selection.\n",
    "## As it is used for reducing overfitting condition."
   ]
  },
  {
   "cell_type": "markdown",
   "id": "ead9b82a-f2af-4e81-a1f5-f037aeab7954",
   "metadata": {},
   "source": [
    "## Q5. How does the Ridge Regression model perform in the presence of multicollinearity?"
   ]
  },
  {
   "cell_type": "code",
   "execution_count": 2,
   "id": "1b7ec90b-3518-4fe7-9744-71797aeab174",
   "metadata": {},
   "outputs": [],
   "source": [
    "## When there is multicollinearity then overfitting condition occurs.\n",
    "## Then features which are similar that are removed."
   ]
  },
  {
   "cell_type": "markdown",
   "id": "001465a0-dd3b-4721-8ae8-fae6a9eaf398",
   "metadata": {},
   "source": [
    "## Q6. Can Ridge Regression handle both categorical and continuous independent variables?"
   ]
  },
  {
   "cell_type": "code",
   "execution_count": 3,
   "id": "1d36c9a8-a474-4415-a788-a536c7374a4b",
   "metadata": {},
   "outputs": [],
   "source": [
    "## Yes ridge regression can handle both categorical and continuous independent variables."
   ]
  },
  {
   "cell_type": "markdown",
   "id": "4175e98b-1d9d-4e70-92c1-24727fe6dede",
   "metadata": {},
   "source": [
    "## Q7. How do you interpret the coefficients of Ridge Regression?"
   ]
  },
  {
   "cell_type": "code",
   "execution_count": 4,
   "id": "f803ca29-91dd-450c-a818-421e009920f4",
   "metadata": {},
   "outputs": [],
   "source": [
    "## there are two coefficient of ridge regression.\n",
    "## Intercept:- Point on y axis where best fit line cuts.\n",
    "## Slope :- Slope of line at any point. "
   ]
  },
  {
   "cell_type": "markdown",
   "id": "c97cef78-2fb2-48e9-a77a-032dba7ebe8b",
   "metadata": {},
   "source": [
    "## Q8. Can Ridge Regression be used for time-series data analysis? If yes, how?"
   ]
  },
  {
   "cell_type": "code",
   "execution_count": 5,
   "id": "91c61094-85c2-43cc-9bbd-21af3b90fecd",
   "metadata": {},
   "outputs": [],
   "source": [
    "## It cannot be used for time series data analysis."
   ]
  }
 ],
 "metadata": {
  "kernelspec": {
   "display_name": "Python 3 (ipykernel)",
   "language": "python",
   "name": "python3"
  },
  "language_info": {
   "codemirror_mode": {
    "name": "ipython",
    "version": 3
   },
   "file_extension": ".py",
   "mimetype": "text/x-python",
   "name": "python",
   "nbconvert_exporter": "python",
   "pygments_lexer": "ipython3",
   "version": "3.10.8"
  }
 },
 "nbformat": 4,
 "nbformat_minor": 5
}
