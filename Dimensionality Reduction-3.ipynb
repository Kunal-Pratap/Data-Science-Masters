{
 "cells": [
  {
   "cell_type": "markdown",
   "id": "e33405b7",
   "metadata": {},
   "source": [
    "## Q1. What are Eigenvalues and Eigenvectors? How are they related to the Eigen-Decomposition approach? Explain with an example."
   ]
  },
  {
   "cell_type": "markdown",
   "id": "09bb3760",
   "metadata": {},
   "source": [
    "Eigenvalues are scalar values representing the scaling factor in a matrix transformation, and eigenvectors are corresponding non-zero vectors that only scale during the transformation. In the Eigen-Decomposition approach, a square matrix is decomposed into the product of its eigenvectors and a diagonal matrix of eigenvalues. For example, given a 2x2 matrix A, its eigenvalues λ are 5 and 2, and corresponding eigenvectors form the matrix V. The Eigen-Decomposition of A is expressed as A = VΛV^(-1)."
   ]
  },
  {
   "cell_type": "markdown",
   "id": "ba5cb434",
   "metadata": {},
   "source": [
    "## Q2. What is eigen decomposition and what is its significance in linear algebra?"
   ]
  },
  {
   "cell_type": "markdown",
   "id": "b8786279",
   "metadata": {},
   "source": [
    "Eigen-decomposition is a process in linear algebra where a square matrix is decomposed into its eigenvectors and eigenvalues. It is significant as it provides a diagonal representation of the matrix, simplifying computations and revealing fundamental properties of the linear transformation encoded by the matrix.\n",
    "\n",
    "\n",
    "\n",
    "\n",
    "\n",
    "\n"
   ]
  },
  {
   "cell_type": "markdown",
   "id": "33c911c4",
   "metadata": {},
   "source": [
    "## Q3. What are the conditions that must be satisfied for a square matrix to be diagonalizable using the Eigen-Decomposition approach? Provide a brief proof to support your answer."
   ]
  },
  {
   "cell_type": "markdown",
   "id": "e71c3877",
   "metadata": {},
   "source": [
    "A square matrix is diagonalizable using the Eigen-Decomposition approach if it has n linearly independent eigenvectors, where n is the size of the matrix. This condition ensures that the eigenvectors can form an invertible matrix used in the decomposition. The proof involves showing that the eigenvectors form a full set, and if the matrix is of size n, there are n linearly independent eigenvectors, allowing for the construction of an invertible matrix for decomposition."
   ]
  },
  {
   "cell_type": "markdown",
   "id": "eeb413a0",
   "metadata": {},
   "source": [
    "## Q4. What is the significance of the spectral theorem in the context of the Eigen-Decomposition approach? How is it related to the diagonalizability of a matrix? Explain with an example."
   ]
  },
  {
   "cell_type": "markdown",
   "id": "3b4ff55d",
   "metadata": {},
   "source": [
    "The spectral theorem is significant in the Eigen-Decomposition approach as it guarantees the diagonalizability of a symmetric matrix. It states that for any real symmetric matrix, there exists an orthogonal matrix of eigenvectors and a diagonal matrix of corresponding eigenvalues. This theorem ensures that symmetric matrices can be decomposed into eigenvectors and eigenvalues, simplifying computations. For example, a symmetric matrix A can be decomposed as A = PDP^T, where P is an orthogonal matrix of eigenvectors and D is a diagonal matrix of eigenvalues."
   ]
  },
  {
   "cell_type": "markdown",
   "id": "b505b989",
   "metadata": {},
   "source": [
    "## Q5. How do you find the eigenvalues of a matrix and what do they represent?"
   ]
  },
  {
   "cell_type": "markdown",
   "id": "04b18990",
   "metadata": {},
   "source": [
    "\n",
    "Eigenvalues of a matrix are found by solving the characteristic equation det(A - λI) = 0, where A is the matrix, λ is the eigenvalue, and I is the identity matrix. The solutions to this equation are the eigenvalues. Eigenvalues represent the scalar values by which eigenvectors are scaled during a linear transformation, providing insight into the matrix's behavior and properties."
   ]
  },
  {
   "cell_type": "markdown",
   "id": "ad99736e",
   "metadata": {},
   "source": [
    "## Q6. What are eigenvectors and how are they related to eigenvalues?"
   ]
  },
  {
   "cell_type": "markdown",
   "id": "8026670e",
   "metadata": {},
   "source": [
    "Eigenvectors are non-zero vectors that only scale by eigenvalues during a linear transformation. They are related to eigenvalues through the equation \n",
    "Av=λv, where \n",
    "A is the matrix, \n",
    "v is the eigenvector, and \n",
    "λ is the eigenvalue."
   ]
  },
  {
   "cell_type": "markdown",
   "id": "ebcef634",
   "metadata": {},
   "source": [
    "## Q7. Can you explain the geometric interpretation of eigenvectors and eigenvalues?"
   ]
  },
  {
   "cell_type": "markdown",
   "id": "d1320179",
   "metadata": {},
   "source": [
    "Eigenvectors represent directions that remain unchanged in a linear transformation, and eigenvalues scale the corresponding eigenvectors. Geometrically, they indicate the stretching or compression and orientation of the transformation in the vector space."
   ]
  },
  {
   "cell_type": "markdown",
   "id": "71e843b5",
   "metadata": {},
   "source": [
    "## Q8. What are some real-world applications of eigen decomposition?"
   ]
  },
  {
   "cell_type": "markdown",
   "id": "d5383300",
   "metadata": {},
   "source": [
    "Eigen decomposition finds applications in various real-world scenarios, including image and signal processing, recommendation systems, quantum mechanics, finance (portfolio optimization), and structural engineering (vibrational analysis).\n",
    "\n",
    "\n",
    "\n",
    "\n",
    "\n",
    "\n"
   ]
  },
  {
   "cell_type": "markdown",
   "id": "f604207b",
   "metadata": {},
   "source": [
    "## Q9. Can a matrix have more than one set of eigenvectors and eigenvalues?"
   ]
  },
  {
   "cell_type": "markdown",
   "id": "f9fdf7f6",
   "metadata": {},
   "source": [
    "No, a matrix has a unique set of eigenvalues, but it can have multiple sets of linearly independent eigenvectors corresponding to each eigenvalue."
   ]
  },
  {
   "cell_type": "markdown",
   "id": "b8b407b5",
   "metadata": {},
   "source": [
    "## Q10. In what ways is the Eigen-Decomposition approach useful in data analysis and machine learning? Discuss at least three specific applications or techniques that rely on Eigen-Decomposition."
   ]
  },
  {
   "cell_type": "markdown",
   "id": "f8e34c38",
   "metadata": {},
   "source": [
    "The Eigen-Decomposition approach is valuable in data analysis and machine learning for dimensionality reduction, covariance matrix analysis, and Principal Component Analysis (PCA). It is widely used in techniques like Singular Value Decomposition (SVD), Eigenfaces in facial recognition, and spectral clustering for pattern recognition."
   ]
  }
 ],
 "metadata": {
  "kernelspec": {
   "display_name": "Python 3 (ipykernel)",
   "language": "python",
   "name": "python3"
  },
  "language_info": {
   "codemirror_mode": {
    "name": "ipython",
    "version": 3
   },
   "file_extension": ".py",
   "mimetype": "text/x-python",
   "name": "python",
   "nbconvert_exporter": "python",
   "pygments_lexer": "ipython3",
   "version": "3.11.5"
  }
 },
 "nbformat": 4,
 "nbformat_minor": 5
}
