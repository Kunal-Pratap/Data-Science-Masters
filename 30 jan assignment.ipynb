{
 "cells": [
  {
   "cell_type": "markdown",
   "id": "e4f25567-61f0-41c1-a5db-d652686d969f",
   "metadata": {},
   "source": [
    "## Q.1) Write a program to accept percentage from user and display grades accordingly."
   ]
  },
  {
   "cell_type": "code",
   "execution_count": 2,
   "id": "2b7e8d0d-8459-49d7-bc01-5615fcfc8168",
   "metadata": {},
   "outputs": [
    {
     "name": "stdin",
     "output_type": "stream",
     "text": [
      "Enter percentage:  75\n"
     ]
    },
    {
     "name": "stdout",
     "output_type": "stream",
     "text": [
      "You scored 'C' grade\n"
     ]
    }
   ],
   "source": [
    "marks=int(input(\"Enter percentage: \"))\n",
    "if marks > 90:\n",
    "    print(\"You scored 'A' grade\")\n",
    "elif marks > 80 and marks <= 90:\n",
    "    print(\"You scored 'B' grade\")\n",
    "elif marks >= 60 and marks <= 80:\n",
    "    print(\"You scored 'C' grade\")\n",
    "else:\n",
    "    print(\"You scored 'D' grade\")"
   ]
  },
  {
   "cell_type": "markdown",
   "id": "cb159e19-da82-424e-b4b8-ab25e38fcc3b",
   "metadata": {},
   "source": [
    "## Q.2) Write a program to accept cost price of bike and display the road tax to be paid"
   ]
  },
  {
   "cell_type": "code",
   "execution_count": 8,
   "id": "994051f6-b439-4b7b-b136-b03e29c20f05",
   "metadata": {},
   "outputs": [
    {
     "name": "stdin",
     "output_type": "stream",
     "text": [
      "Enter cost of bike:  150000\n"
     ]
    },
    {
     "name": "stdout",
     "output_type": "stream",
     "text": [
      "Tax to be paid is : 22500.0\n"
     ]
    }
   ],
   "source": [
    "cost_price=int(input(\"Enter cost of bike: \"))\n",
    "if cost_price > 100000:\n",
    "    print(\"Tax to be paid is :\",cost_price*0.15)\n",
    "elif cost_price>50000 and cost_price<=100000:\n",
    "    print(\"Tax to be paid is :\",cost_price*0.10)\n",
    "else:\n",
    "    print(\"Tax to be paid is :\",cost_price*0.05)"
   ]
  },
  {
   "cell_type": "markdown",
   "id": "5fffe441-0440-4776-8e70-4f6bd905dd26",
   "metadata": {},
   "source": [
    "## Q.3) Accept any city from user and display monuments"
   ]
  },
  {
   "cell_type": "code",
   "execution_count": 9,
   "id": "b9010f52-48cd-4d4d-9b40-e19b0fab6a79",
   "metadata": {},
   "outputs": [
    {
     "name": "stdout",
     "output_type": "stream",
     "text": [
      "Enter your choice:\n",
      "1 for Delhi\n",
      "2 for Agra\n",
      "3 for Jaipur\n"
     ]
    },
    {
     "name": "stdin",
     "output_type": "stream",
     "text": [
      " 2\n"
     ]
    },
    {
     "name": "stdout",
     "output_type": "stream",
     "text": [
      "Monument in your city Agra is Taj Mahal\n"
     ]
    }
   ],
   "source": [
    "print(\"Enter your choice:\\n1 for Delhi\\n2 for Agra\\n3 for Jaipur\")\n",
    "choice=int(input())\n",
    "if choice==1:\n",
    "    print(\"Monument in your city Delhi is Red Fort\")\n",
    "elif choice==2:\n",
    "    print(\"Monument in your city Agra is Taj Mahal\")\n",
    "elif choice==3:\n",
    "    print(\"Monument in your city Jaipur is Jai Mahal\")"
   ]
  },
  {
   "cell_type": "markdown",
   "id": "d9aecf29-debe-4976-a1b0-ce4073a00910",
   "metadata": {},
   "source": [
    "## Q.4) Check how many times given number can be divided by 3 before it is less than or equal to 10"
   ]
  },
  {
   "cell_type": "code",
   "execution_count": 4,
   "id": "0cd99933-53af-451a-9656-a929bcf8369b",
   "metadata": {},
   "outputs": [
    {
     "name": "stdin",
     "output_type": "stream",
     "text": [
      "Enter any number:  20\n"
     ]
    },
    {
     "name": "stdout",
     "output_type": "stream",
     "text": [
      "1\n",
      "2\n",
      "3\n"
     ]
    }
   ],
   "source": [
    "n=int(input(\"Enter any number: \"))\n",
    "c=0\n",
    "for i in range(10,n):\n",
    "    if i%3==0:\n",
    "        c=c+1\n",
    "        print(c)"
   ]
  },
  {
   "cell_type": "markdown",
   "id": "48d443ff-4393-401d-8331-68afd854477a",
   "metadata": {},
   "source": [
    "## Q.5) Why and when to use while loop in python give a detailed description with example"
   ]
  },
  {
   "cell_type": "code",
   "execution_count": 15,
   "id": "759dc80a-b2fa-4655-9c7a-c57d95281caf",
   "metadata": {},
   "outputs": [
    {
     "name": "stdout",
     "output_type": "stream",
     "text": [
      "55\n"
     ]
    }
   ],
   "source": [
    "\"\"\"\n",
    "While loop is used to repeat the execution of block of code again and again.\n",
    "And it is used when we dont know how much time we have to repeat the loop.\n",
    "Untill the given condition is true while loop will be executed. once the condition becomes false loop is terminated.\n",
    "\n",
    "## Syntax:-\n",
    "while condition :\n",
    "    block of code\n",
    "\n",
    "## Example:-\n",
    "Sum of first 10 numbers.\n",
    "\"\"\"\n",
    "\n",
    "\"\"\"\n",
    "Here condition for while loop is i<=10, so till i is greater less than equal to 10 the loop will repeat. When i is 1 then\n",
    "sum is 1 then i value is incremented bt one. Now i is 2 so sum will be 1+2=3 again i will be incremented. In such way it\n",
    "will be incremented till value of i is 10. And final sum will be 55.\n",
    "\"\"\"\n",
    "i=1\n",
    "sum=0\n",
    "while i<=10:\n",
    "    sum=sum+i\n",
    "    i=i+1\n",
    "print(sum)"
   ]
  },
  {
   "cell_type": "markdown",
   "id": "5d6f8cb7-5718-41d5-bce4-04dc35b3c0be",
   "metadata": {},
   "source": [
    "## Q.6) Use nested while to print 3 different patterns."
   ]
  },
  {
   "cell_type": "markdown",
   "id": "469f3ce7-a03d-47ce-852a-86dfdfc7f83a",
   "metadata": {},
   "source": [
    "### 1"
   ]
  },
  {
   "cell_type": "code",
   "execution_count": 26,
   "id": "83fa97b4-2283-46d0-8a2c-36b524da8c79",
   "metadata": {},
   "outputs": [
    {
     "name": "stdin",
     "output_type": "stream",
     "text": [
      "Enter number of rows:  5\n"
     ]
    },
    {
     "name": "stdout",
     "output_type": "stream",
     "text": [
      "* \n",
      "* * \n",
      "* * * \n",
      "* * * * \n",
      "* * * * * \n"
     ]
    }
   ],
   "source": [
    "i=0\n",
    "rows=int(input(\"Enter number of rows: \"))\n",
    "while i < rows:\n",
    "    j=0\n",
    "    while j < i+1:\n",
    "        print(\"* \",end='')\n",
    "        j=j+1\n",
    "    print('\\r')\n",
    "    i=i+1"
   ]
  },
  {
   "cell_type": "markdown",
   "id": "896a652f-dc68-4ab1-a46b-d672f7e64703",
   "metadata": {},
   "source": [
    "### 2"
   ]
  },
  {
   "cell_type": "code",
   "execution_count": 34,
   "id": "d29f8d93-da9a-4764-acfb-3ab216b7d218",
   "metadata": {},
   "outputs": [
    {
     "name": "stdin",
     "output_type": "stream",
     "text": [
      "Enter number of rows:  5\n"
     ]
    },
    {
     "name": "stdout",
     "output_type": "stream",
     "text": [
      "0\n",
      "11\n",
      "222\n",
      "3333\n",
      "44444\n"
     ]
    }
   ],
   "source": [
    "i=0\n",
    "rows=int(input(\"Enter number of rows: \"))\n",
    "while i < rows:\n",
    "    j=0\n",
    "    while j < i+1:\n",
    "        print(i ,end='')\n",
    "        j=j+1\n",
    "    print('\\r')\n",
    "    i=i+1"
   ]
  },
  {
   "cell_type": "markdown",
   "id": "6c393b78-ce6d-495c-874e-6359fec7ccdd",
   "metadata": {},
   "source": [
    "### 3"
   ]
  },
  {
   "cell_type": "code",
   "execution_count": 33,
   "id": "a71e4948-0fd3-435f-8842-3d652302c488",
   "metadata": {},
   "outputs": [
    {
     "name": "stdin",
     "output_type": "stream",
     "text": [
      "Enter number of rows:  5\n"
     ]
    },
    {
     "name": "stdout",
     "output_type": "stream",
     "text": [
      "1 \n",
      "1 2 \n",
      "1 2 3 \n",
      "1 2 3 4 \n",
      "1 2 3 4 5 \n"
     ]
    }
   ],
   "source": [
    "i=1\n",
    "rows=int(input(\"Enter number of rows: \"))\n",
    "while i <= rows:\n",
    "    j=1\n",
    "    while j <= i:\n",
    "        print(j,end=' ')\n",
    "        j=j+1\n",
    "    print('\\r')\n",
    "    i=i+1"
   ]
  },
  {
   "cell_type": "markdown",
   "id": "c701fac6-80a8-4dff-8385-174c427088e7",
   "metadata": {},
   "source": [
    "### 4"
   ]
  },
  {
   "cell_type": "code",
   "execution_count": 2,
   "id": "34237a75-e3ea-4107-9ef5-dd295569ce6b",
   "metadata": {},
   "outputs": [
    {
     "name": "stdin",
     "output_type": "stream",
     "text": [
      "Enter number of rows:  5\n"
     ]
    },
    {
     "name": "stdout",
     "output_type": "stream",
     "text": [
      "5 4 3 2 1 \n",
      "4 3 2 1 \n",
      "3 2 1 \n",
      "2 1 \n",
      "1 \n"
     ]
    }
   ],
   "source": [
    "rows=int(input(\"Enter number of rows: \"))\n",
    "while rows>=1:\n",
    "    j=rows\n",
    "    while j <= rows:\n",
    "        print(j,end=' ')\n",
    "        j=j-1\n",
    "        if j==0:\n",
    "            break\n",
    "    print('\\r')\n",
    "    rows=rows-1\n",
    "    if rows==0:\n",
    "        break"
   ]
  },
  {
   "cell_type": "markdown",
   "id": "29169228-e3d7-48d9-8b3a-31934b1488a6",
   "metadata": {},
   "source": [
    "## 5"
   ]
  },
  {
   "cell_type": "code",
   "execution_count": 3,
   "id": "f5fe5747-3928-413e-8a28-3201a6d62937",
   "metadata": {},
   "outputs": [
    {
     "name": "stdin",
     "output_type": "stream",
     "text": [
      "Enter number of rows:  5\n"
     ]
    },
    {
     "name": "stdout",
     "output_type": "stream",
     "text": [
      "5 5 5 5 5 \n",
      "4 4 4 4 \n",
      "3 3 3 \n",
      "2 2 \n",
      "1 \n"
     ]
    }
   ],
   "source": [
    "rows=int(input(\"Enter number of rows: \"))\n",
    "while rows>=1:\n",
    "    j=rows\n",
    "    while j <= rows:\n",
    "        print(rows,end=' ')\n",
    "        j=j-1\n",
    "        if j==0:\n",
    "            break\n",
    "    print('\\r')\n",
    "    rows=rows-1\n",
    "    if rows==0:\n",
    "        break"
   ]
  },
  {
   "cell_type": "markdown",
   "id": "9ea29e6a-32cd-4de0-9811-7b4a0716a392",
   "metadata": {},
   "source": [
    "## Q.7) Reverse a while loop to display numbers from 10 to 1"
   ]
  },
  {
   "cell_type": "code",
   "execution_count": 1,
   "id": "8efa8831-09d2-4e3f-8295-edf110c76c15",
   "metadata": {},
   "outputs": [
    {
     "name": "stdout",
     "output_type": "stream",
     "text": [
      "10\n",
      "9\n",
      "8\n",
      "7\n",
      "6\n",
      "5\n",
      "4\n",
      "3\n",
      "2\n",
      "1\n"
     ]
    }
   ],
   "source": [
    "i=10\n",
    "while i>=1:\n",
    "    print(i)\n",
    "    i=i-1\n",
    "    "
   ]
  }
 ],
 "metadata": {
  "kernelspec": {
   "display_name": "Python 3 (ipykernel)",
   "language": "python",
   "name": "python3"
  },
  "language_info": {
   "codemirror_mode": {
    "name": "ipython",
    "version": 3
   },
   "file_extension": ".py",
   "mimetype": "text/x-python",
   "name": "python",
   "nbconvert_exporter": "python",
   "pygments_lexer": "ipython3",
   "version": "3.10.8"
  }
 },
 "nbformat": 4,
 "nbformat_minor": 5
}
