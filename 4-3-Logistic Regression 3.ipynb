{
 "cells": [
  {
   "cell_type": "markdown",
   "id": "0d298f62-f415-428e-a265-a669597d2735",
   "metadata": {},
   "source": [
    "## Logistic Regression"
   ]
  },
  {
   "cell_type": "markdown",
   "id": "bc010bde-aaf4-46b8-9e7f-e8f42623bfd4",
   "metadata": {},
   "source": [
    "## Q1. Explain the concept of precision and recall in the context of classification models."
   ]
  },
  {
   "cell_type": "code",
   "execution_count": 1,
   "id": "0421e30c-5cd9-44ef-a529-dfdf4529dd59",
   "metadata": {},
   "outputs": [],
   "source": [
    "## Precision :- out of all actual values how many are correctly predected.\n",
    "## prescision = TP/TP+FP\n",
    "\n",
    "## Recall :- out of all predicted values how many are correctly predicted.\n",
    "## Recall = TP/TP+FN"
   ]
  },
  {
   "cell_type": "markdown",
   "id": "3def9fd4-2918-4657-bb5e-a81809ca284e",
   "metadata": {},
   "source": [
    "## Q2. What is the F1 score and how is it calculated? How is it different from precision and recall?"
   ]
  },
  {
   "cell_type": "code",
   "execution_count": 2,
   "id": "d4a6d36c-14ff-49de-a427-0722b5a17276",
   "metadata": {},
   "outputs": [],
   "source": [
    "## When false negative and false positive both are important then f1 score is calculated.\n",
    "## Value B=1\n",
    "## f1 score = 2*(Precision*Recall)/Precision + Recall"
   ]
  },
  {
   "cell_type": "markdown",
   "id": "e6d33741-d8ce-4a9f-83dd-043be51218b5",
   "metadata": {},
   "source": [
    "## Q3. What is ROC and AUC, and how are they used to evaluate the performance of classification models?"
   ]
  },
  {
   "cell_type": "code",
   "execution_count": 10,
   "id": "d6f18ef0-cefd-45d0-b5cf-1c624370b147",
   "metadata": {},
   "outputs": [],
   "source": [
    "## ROC is a probability curve and AUC represents the degree or measure of separability. \n",
    "## It tells how much the model is capable of distinguishing between classes. \n",
    "## Higher the AUC, the better the model is at predicting 0 classes as 0 and 1 classes as 1."
   ]
  },
  {
   "cell_type": "markdown",
   "id": "98096db7-e48d-4f0e-aaff-fbb4e3ef80f8",
   "metadata": {},
   "source": [
    "## Q4. How do you choose the best metric to evaluate the performance of a classification model?"
   ]
  },
  {
   "cell_type": "code",
   "execution_count": 3,
   "id": "e83e3847-3ea7-493b-a790-8b45bf3b76ab",
   "metadata": {},
   "outputs": [],
   "source": [
    "## we use grid search cv and\n",
    "## Randomized search cv for metric choosing."
   ]
  },
  {
   "cell_type": "markdown",
   "id": "d7b53fd4-41ef-4c87-97a1-51ce7c569621",
   "metadata": {},
   "source": [
    "## Q5. Explain how logistic regression can be used for multiclass classification."
   ]
  },
  {
   "cell_type": "code",
   "execution_count": 4,
   "id": "961a6b5d-40e9-4f77-950a-13698ae11370",
   "metadata": {},
   "outputs": [],
   "source": [
    "## Logistic regression can be used for multiclass classification.\n",
    "## The concept of one versus other is used ny regression model\n",
    "## or we can use multinomial logistic regression."
   ]
  },
  {
   "cell_type": "markdown",
   "id": "24aba6eb-e00b-4f9b-bb5f-8c64528b61e6",
   "metadata": {},
   "source": [
    "## Q6. Describe the steps involved in an end-to-end project for multiclass classification."
   ]
  },
  {
   "cell_type": "code",
   "execution_count": 5,
   "id": "23f7aa67-52d9-4493-94c9-5eb55349c00e",
   "metadata": {},
   "outputs": [],
   "source": [
    "## 1) Create Model with logistic regression.\n",
    "## 2) Create the pickle file.\n",
    "## 3) Use that file for predicting the output.\n",
    "## 4) host the complete model on github."
   ]
  },
  {
   "cell_type": "markdown",
   "id": "9bedcc42-77ea-465a-aecd-bf6228ccd507",
   "metadata": {},
   "source": [
    "## Q7. What is model deployment and why is it important?"
   ]
  },
  {
   "cell_type": "code",
   "execution_count": 6,
   "id": "d8d4930d-72fd-48ea-907e-2a7fd525c2fb",
   "metadata": {},
   "outputs": [],
   "source": [
    "## Depyoying the model on platforms like aws , azure etc.\n",
    "## It is important to deploy model on cloud platforms so that anyone can access the model and do the prediction."
   ]
  },
  {
   "cell_type": "markdown",
   "id": "240c36f3-f025-4dad-bc5d-e1f2c5470cfc",
   "metadata": {},
   "source": [
    "## Q8. Explain how multi-cloud platforms are used for model deployment."
   ]
  },
  {
   "cell_type": "code",
   "execution_count": 7,
   "id": "3bde4245-42a8-4beb-85ce-1eb33670f779",
   "metadata": {},
   "outputs": [],
   "source": [
    "## Models are deployed on cloud platform using cicd pipeline.\n",
    "## our models are deployed on cloud platform for use of everyone."
   ]
  },
  {
   "cell_type": "markdown",
   "id": "cb01f0ea-2caa-4672-9502-89c038c61b5b",
   "metadata": {},
   "source": [
    "## Q9. Discuss the benefits and challenges of deploying machine learning models in a multi-cloud environment."
   ]
  },
  {
   "cell_type": "code",
   "execution_count": 8,
   "id": "6412ae58-13d7-40a2-b386-41699cefd449",
   "metadata": {},
   "outputs": [],
   "source": [
    "## Anyone can access the model for prediction.\n",
    "## It helps everyone to predict the output.\n",
    "\n",
    "## If server is not working then we cannot access the model.\n",
    "## If there is netork error then we cannot access our model."
   ]
  },
  {
   "cell_type": "markdown",
   "id": "14ec126a-66a6-41c1-8292-40e192fb3bf0",
   "metadata": {},
   "source": [
    "## Q10.What is multiclass classification and how is it different from binary classification?"
   ]
  },
  {
   "cell_type": "code",
   "execution_count": 9,
   "id": "88ef671e-673f-47bb-b6b2-66742bbe1845",
   "metadata": {},
   "outputs": [],
   "source": [
    "## Multiclass classification :- more than two categories in output feature.\n",
    "## Binary classification :- two categories in output feature."
   ]
  }
 ],
 "metadata": {
  "kernelspec": {
   "display_name": "Python 3 (ipykernel)",
   "language": "python",
   "name": "python3"
  },
  "language_info": {
   "codemirror_mode": {
    "name": "ipython",
    "version": 3
   },
   "file_extension": ".py",
   "mimetype": "text/x-python",
   "name": "python",
   "nbconvert_exporter": "python",
   "pygments_lexer": "ipython3",
   "version": "3.10.8"
  }
 },
 "nbformat": 4,
 "nbformat_minor": 5
}
