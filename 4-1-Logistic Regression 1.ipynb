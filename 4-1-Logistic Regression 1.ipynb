{
 "cells": [
  {
   "cell_type": "markdown",
   "id": "a7522235-2b85-4939-9ddd-874a0b5d9607",
   "metadata": {},
   "source": [
    "## Logistic Regression"
   ]
  },
  {
   "cell_type": "markdown",
   "id": "3609e46a-f6f1-4446-9f80-b5c48e26508e",
   "metadata": {},
   "source": [
    "## Q1. Explain the difference between linear regression and logistic regression models. Provide an example of a scenario where logistic regression would be more appropriate."
   ]
  },
  {
   "cell_type": "code",
   "execution_count": 1,
   "id": "ff7d0c9f-016e-4552-b0e3-79f697a1b581",
   "metadata": {},
   "outputs": [],
   "source": [
    "## Linear regression is used when output data is continuous.\n",
    "\n",
    "## Logistic Regression is used when output feature has categorical data.\n",
    "\n",
    "## Logistic regression is where output data has categorical data points."
   ]
  },
  {
   "cell_type": "markdown",
   "id": "0b38fe5b-5417-4d0e-9f73-ea88e14a9ce8",
   "metadata": {},
   "source": [
    "## Q2. What is the cost function used in logistic regression, and how is it optimized?"
   ]
  },
  {
   "cell_type": "code",
   "execution_count": 2,
   "id": "25000282-c7a7-4638-8623-87de5769ff2a",
   "metadata": {},
   "outputs": [],
   "source": [
    "## Cost function used in logistic regression is Log Loss Function.\n",
    "## It is optimised by using sigmoid activation function."
   ]
  },
  {
   "cell_type": "markdown",
   "id": "70460a08-a613-4583-ad56-2fd74bf79704",
   "metadata": {},
   "source": [
    "## Q3. Explain the concept of regularization in logistic regression and how it helps prevent overfitting."
   ]
  },
  {
   "cell_type": "code",
   "execution_count": 3,
   "id": "ba141f3f-6773-4e02-8d52-39fdaa624c3e",
   "metadata": {},
   "outputs": [],
   "source": [
    "## To reduce the overfitting l2 regularization is used.\n",
    "## The formula of l2 regularization i.e. ridge regression is added to the cost function of logistic regression."
   ]
  },
  {
   "cell_type": "markdown",
   "id": "7112db16-5e79-45a8-b676-c8a704dc3d60",
   "metadata": {},
   "source": [
    "## Q4. What is the ROC curve, and how is it used to evaluate the performance of the logistic regression model?"
   ]
  },
  {
   "cell_type": "code",
   "execution_count": 4,
   "id": "e08a8b6a-d99a-41d2-82fa-6eb0de9bd195",
   "metadata": {},
   "outputs": [],
   "source": [
    "## ROC Curve is A graphical representation of the relationship between true positive rate and false positive rate.\n",
    "## It is called as precision.\n",
    "## and it is calculated as TP/TP+FP"
   ]
  },
  {
   "cell_type": "markdown",
   "id": "877f344f-f9bd-4cbc-94de-52235a9f220f",
   "metadata": {},
   "source": [
    "## Q5. What are some common techniques for feature selection in logistic regression? How do these techniques help improve the model's performance?"
   ]
  },
  {
   "cell_type": "code",
   "execution_count": 5,
   "id": "f7ec803b-9834-473c-bccd-07db7538690b",
   "metadata": {},
   "outputs": [],
   "source": [
    "## There are two methods of feature selection.\n",
    "## 1) GridsearchCV\n",
    "## 2) Randomized Search CV\n",
    "## These techniques perform different permutations and combination among themselves \n",
    "##       and then find the best festure for logistic regression model."
   ]
  },
  {
   "cell_type": "markdown",
   "id": "43db1ca6-dc98-4daf-ae81-87a3025b19f6",
   "metadata": {},
   "source": [
    "## Q6. How can you handle imbalanced datasets in logistic regression? What are some strategies for dealing with class imbalance?"
   ]
  },
  {
   "cell_type": "code",
   "execution_count": 6,
   "id": "dfd61094-c075-491f-8fc3-ca1d03b83454",
   "metadata": {},
   "outputs": [],
   "source": [
    "## There are different methods for data balancing\n",
    "## Upsampling :- Minority class data points are increased to the count of majority class data points.\n",
    "## Downsampling :- Majority class data points are reduced to the count of minority class data points.\n",
    "## SMOTE :- syntetically minority oversampling technique."
   ]
  },
  {
   "cell_type": "markdown",
   "id": "5d55a7ce-1e37-410a-be89-74e4541da950",
   "metadata": {},
   "source": [
    "## Q7. Can you discuss some common issues and challenges that may arise when implementing logistic regression, and how they can be addressed? For example, what can be done if there is multicollinearity among the independent variables?"
   ]
  },
  {
   "cell_type": "code",
   "execution_count": 7,
   "id": "644f86dc-b1a5-4c50-8935-ee34c3314c34",
   "metadata": {},
   "outputs": [],
   "source": [
    "## If there is multicollinearity among the independent variables then that feature are removed.\n",
    "## If there are multiclass classification then OVR or multinomial technique is used."
   ]
  }
 ],
 "metadata": {
  "kernelspec": {
   "display_name": "Python 3 (ipykernel)",
   "language": "python",
   "name": "python3"
  },
  "language_info": {
   "codemirror_mode": {
    "name": "ipython",
    "version": 3
   },
   "file_extension": ".py",
   "mimetype": "text/x-python",
   "name": "python",
   "nbconvert_exporter": "python",
   "pygments_lexer": "ipython3",
   "version": "3.10.8"
  }
 },
 "nbformat": 4,
 "nbformat_minor": 5
}
