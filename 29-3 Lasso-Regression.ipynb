{
 "cells": [
  {
   "cell_type": "markdown",
   "id": "410d5fbb-804a-4783-9c77-94070d21d201",
   "metadata": {},
   "source": [
    "## Q1. What is Lasso Regression, and how does it differ from other regression techniques?"
   ]
  },
  {
   "cell_type": "code",
   "execution_count": 1,
   "id": "0ac2ece2-19cd-4289-a91d-b6be1851ba22",
   "metadata": {},
   "outputs": [],
   "source": [
    "## Lasso regression is the technique for selecting the best features for model training.\n",
    "## It selects the best features."
   ]
  },
  {
   "cell_type": "markdown",
   "id": "f9293607-f629-43b4-9bbd-5f5532692d33",
   "metadata": {},
   "source": [
    "## Q2. What is the main advantage of using Lasso Regression in feature selection?"
   ]
  },
  {
   "cell_type": "code",
   "execution_count": 2,
   "id": "bec74b18-871e-48b3-97a5-753b7295937e",
   "metadata": {},
   "outputs": [],
   "source": [
    "## It selects the independent fature that is highly correlected towards output feature.\n",
    "## It removes the features that are less correleted towards the output feature."
   ]
  },
  {
   "cell_type": "markdown",
   "id": "9f55b1a6-d904-4049-85c1-f67e120cd5c8",
   "metadata": {},
   "source": [
    "## Q3. How do you interpret the coefficients of a Lasso Regression model?"
   ]
  },
  {
   "cell_type": "code",
   "execution_count": 3,
   "id": "bee616fd-cedf-4936-8804-f1ff0180717c",
   "metadata": {},
   "outputs": [],
   "source": [
    "## there are two coefficient of ridge regression.\n",
    "## Intercept:- Point on y axis where best fit line cuts.\n",
    "## Slope :- Slope of line at any point. "
   ]
  },
  {
   "cell_type": "markdown",
   "id": "70b2ee95-be5a-460d-9ac1-6da1f526e0b1",
   "metadata": {},
   "source": [
    "## Q4. What are the tuning parameters that can be adjusted in Lasso Regression, and how do they affect the model's performance?"
   ]
  },
  {
   "cell_type": "code",
   "execution_count": 4,
   "id": "8e925036-486e-49ab-aef3-5dcca31b54de",
   "metadata": {},
   "outputs": [],
   "source": [
    "## tuning parameter in lasso regression is lambda.\n",
    "## It tells that how much data is shrinked towards the mean or center point.\n",
    "## If lambda value is greater then we may not reach upto global minima."
   ]
  },
  {
   "cell_type": "markdown",
   "id": "eb6ae5ab-c760-4112-87b9-90bd29cc54ba",
   "metadata": {},
   "source": [
    "## Q5. Can Lasso Regression be used for non-linear regression problems? If yes, how?"
   ]
  },
  {
   "cell_type": "code",
   "execution_count": 5,
   "id": "2a6275ef-849b-4bdf-a434-c1c6aaf295f3",
   "metadata": {},
   "outputs": [],
   "source": [
    "## Yes we can apply lasso regression to some extent for non linear regression problems.\n",
    "## We can use polinomial regression concept to apply lasso regression on non linear data."
   ]
  },
  {
   "cell_type": "markdown",
   "id": "402bb69e-8808-4679-8439-361fc361cd22",
   "metadata": {},
   "source": [
    "## Q6. What is the difference between Ridge Regression and Lasso Regression?"
   ]
  },
  {
   "cell_type": "code",
   "execution_count": 6,
   "id": "6716e745-d5ba-4561-9d9d-f9dbc08148b2",
   "metadata": {},
   "outputs": [],
   "source": [
    "## Ridge regression:- It is used for reducing overfitting condition.\n",
    "\n",
    "## Lasso regression:- It is used for feature selection and selecting best feature."
   ]
  },
  {
   "cell_type": "markdown",
   "id": "80867af8-db6f-47d1-bae9-692df5e01203",
   "metadata": {},
   "source": [
    "## Q7. Can Lasso Regression handle multicollinearity in the input features? If yes, how?"
   ]
  },
  {
   "cell_type": "code",
   "execution_count": 7,
   "id": "b3d000dc-f503-42bc-8606-d0425a6cf51b",
   "metadata": {},
   "outputs": [],
   "source": [
    "## When there is multicollinearity then overfitting condition occurs.\n",
    "## Then features which are similar that are removed."
   ]
  },
  {
   "cell_type": "markdown",
   "id": "d42db975-cd6c-4362-938d-97263df17e5f",
   "metadata": {},
   "source": [
    "## Q8. How do you choose the optimal value of the regularization parameter (lambda) in Lasso Regression?"
   ]
  },
  {
   "cell_type": "code",
   "execution_count": 8,
   "id": "86d953b6-d7fd-4351-aea7-739dde46ae55",
   "metadata": {},
   "outputs": [],
   "source": [
    "## we choose the value at random from 0 to contine untill we reach global minima."
   ]
  }
 ],
 "metadata": {
  "kernelspec": {
   "display_name": "Python 3 (ipykernel)",
   "language": "python",
   "name": "python3"
  },
  "language_info": {
   "codemirror_mode": {
    "name": "ipython",
    "version": 3
   },
   "file_extension": ".py",
   "mimetype": "text/x-python",
   "name": "python",
   "nbconvert_exporter": "python",
   "pygments_lexer": "ipython3",
   "version": "3.10.8"
  }
 },
 "nbformat": 4,
 "nbformat_minor": 5
}
