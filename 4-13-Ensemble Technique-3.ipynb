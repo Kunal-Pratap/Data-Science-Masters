{
 "cells": [
  {
   "cell_type": "markdown",
   "id": "2295412e-9ea2-41ed-9ff7-ebb3c88cb8ed",
   "metadata": {},
   "source": [
    "## Ensemble Technique - 3"
   ]
  },
  {
   "cell_type": "markdown",
   "id": "fc37dd22-a9e0-430e-ada5-4bc11a4d591e",
   "metadata": {},
   "source": [
    "## Q1. What is Random Forest Regressor?"
   ]
  },
  {
   "cell_type": "code",
   "execution_count": 1,
   "id": "22305a67-68c1-41af-b319-6f5d47edca1d",
   "metadata": {},
   "outputs": [],
   "source": [
    "## It is machine learning algorithm which uses ensamble technique.\n",
    "## It is used to solve regression problem."
   ]
  },
  {
   "cell_type": "markdown",
   "id": "f9b74425-e0d1-44b8-a101-6566cfc9c85e",
   "metadata": {},
   "source": [
    "## Q2. How does Random Forest Regressor reduce the risk of overfitting?"
   ]
  },
  {
   "cell_type": "code",
   "execution_count": 2,
   "id": "e8e2a2d8-af46-4ae7-81fe-db5e7c7e3b27",
   "metadata": {},
   "outputs": [],
   "source": [
    "## Data points are selected at random.\n",
    "## SO model is trained well with different datapoints.\n",
    "## Cross validation is used to tune the data.\n",
    "## So model predicts more accurately."
   ]
  },
  {
   "cell_type": "markdown",
   "id": "7d56f011-20d8-4701-ad7e-00b70d6d0ebe",
   "metadata": {},
   "source": [
    "## Q3. How does Random Forest Regressor aggregate the predictions of multiple decision trees?"
   ]
  },
  {
   "cell_type": "code",
   "execution_count": 3,
   "id": "b9ebb7c0-1310-4656-91b2-88d9d8d64b66",
   "metadata": {},
   "outputs": [],
   "source": [
    "## Random forest regressor takes the average of all the predicted values and gives the answer."
   ]
  },
  {
   "cell_type": "markdown",
   "id": "cfffd6e7-9817-41c2-bdb2-e9ece5c94d4f",
   "metadata": {},
   "source": [
    "## Q4. What are the hyperparameters of Random Forest Regressor?"
   ]
  },
  {
   "cell_type": "code",
   "execution_count": 4,
   "id": "f28f00f5-1fb0-44ed-9481-47198d6dec10",
   "metadata": {},
   "outputs": [],
   "source": [
    "## There are different hyperparameters such as gini, entrophy, information gain, tree depth, number of moels, out of box score etc."
   ]
  },
  {
   "cell_type": "markdown",
   "id": "ad59080d-3bb8-47bd-9bf5-51a97ca801b4",
   "metadata": {},
   "source": [
    "## Q5. What is the difference between Random Forest Regressor and Decision Tree Regressor?"
   ]
  },
  {
   "cell_type": "code",
   "execution_count": 5,
   "id": "96fcaeee-4249-4fd5-a31a-217d3a735e96",
   "metadata": {},
   "outputs": [],
   "source": [
    "## In decision tree regressor only single tree is used to predict the output.\n",
    "## In Random forest Regressor multiple trees are used to predict output for single data point."
   ]
  },
  {
   "cell_type": "markdown",
   "id": "267d7264-2e94-45bc-93cb-fca8c5e3cde3",
   "metadata": {},
   "source": [
    "## Q6. What are the advantages and disadvantages of Random Forest Regressor?"
   ]
  },
  {
   "cell_type": "code",
   "execution_count": 7,
   "id": "d663e006-7bce-4802-89e6-13519d4db05a",
   "metadata": {},
   "outputs": [],
   "source": [
    "## Advantages:\n",
    "## Its accuracy is very high\n",
    "## It helps to give better result.\n",
    "\n",
    "## Disadvantage :-\n",
    "## It takes very time if dataset is very large."
   ]
  },
  {
   "cell_type": "markdown",
   "id": "6634ce3f-60a1-45f6-83c5-343f2a5ac374",
   "metadata": {},
   "source": [
    "## Q7. What is the output of Random Forest Regressor?"
   ]
  },
  {
   "cell_type": "code",
   "execution_count": 8,
   "id": "76d87e11-cab4-45dc-9f57-0b9dd98967d7",
   "metadata": {},
   "outputs": [],
   "source": [
    "## Output of random forest regressor is continuous values."
   ]
  },
  {
   "cell_type": "markdown",
   "id": "d644e416-591a-4667-b350-551f32f86a67",
   "metadata": {},
   "source": [
    "## Q8. Can Random Forest Regressor be used for classification tasks?"
   ]
  },
  {
   "cell_type": "code",
   "execution_count": 9,
   "id": "9a27b281-d3dc-445b-9959-9da3b1ada508",
   "metadata": {},
   "outputs": [],
   "source": [
    "## No, Random forest regressor cannot be used for classification tasks."
   ]
  }
 ],
 "metadata": {
  "kernelspec": {
   "display_name": "Python 3 (ipykernel)",
   "language": "python",
   "name": "python3"
  },
  "language_info": {
   "codemirror_mode": {
    "name": "ipython",
    "version": 3
   },
   "file_extension": ".py",
   "mimetype": "text/x-python",
   "name": "python",
   "nbconvert_exporter": "python",
   "pygments_lexer": "ipython3",
   "version": "3.10.8"
  }
 },
 "nbformat": 4,
 "nbformat_minor": 5
}
