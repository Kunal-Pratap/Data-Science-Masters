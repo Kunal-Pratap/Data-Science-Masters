{
 "cells": [
  {
   "cell_type": "markdown",
   "id": "09f1c670-695a-4caf-bbb3-12cfb6f54740",
   "metadata": {},
   "source": [
    "## Q1. Which keyword is used to create a function? Create a function to return a list of odd numbers in the range of 1 to 25."
   ]
  },
  {
   "cell_type": "code",
   "execution_count": 1,
   "id": "9be5a8bf-1c7c-4543-8d2d-8631ccfa2c81",
   "metadata": {},
   "outputs": [],
   "source": [
    "## def keyword is used to create a function."
   ]
  },
  {
   "cell_type": "code",
   "execution_count": 4,
   "id": "fa786f15-cf2e-45bb-91ec-a29531320a9e",
   "metadata": {},
   "outputs": [
    {
     "name": "stdout",
     "output_type": "stream",
     "text": [
      "List of odd numbers in range(1,25) :\n"
     ]
    },
    {
     "data": {
      "text/plain": [
       "[1, 3, 5, 7, 9, 11, 13, 15, 17, 19, 21, 23]"
      ]
     },
     "execution_count": 4,
     "metadata": {},
     "output_type": "execute_result"
    }
   ],
   "source": [
    "def odd_numbers():\n",
    "    lst=[]\n",
    "    for i in range(1,25):\n",
    "        if i%2 != 0:\n",
    "            lst.append(i)\n",
    "    return lst\n",
    "print(\"List of odd numbers in range(1,25) :\")\n",
    "odd_numbers()"
   ]
  },
  {
   "cell_type": "markdown",
   "id": "6ae56820-364d-487f-9c4c-2c3b11c0ba7a",
   "metadata": {},
   "source": [
    "## Q2. Why *args and **kwargs is used in some functions? Create a function each for *args and **kwargs to demonstrate their use."
   ]
  },
  {
   "cell_type": "markdown",
   "id": "408ea0b8-de10-47fd-b3ac-d6189230a9a3",
   "metadata": {},
   "source": [
    "#### -*args and **kwargs are used because we donot require to specify the number of arguments.\n",
    "#### -when we use *args we can give n number of arguments that much arguments will be returned by the function.\n",
    "#### -When we use **kwargs we have to pass arguments in key value pair and we get output as dictionary."
   ]
  },
  {
   "cell_type": "code",
   "execution_count": 10,
   "id": "28fdc112-73a9-43bd-b3a4-232ea1377a9a",
   "metadata": {},
   "outputs": [
    {
     "data": {
      "text/plain": [
       "(1, 2, 3, 4, 5)"
      ]
     },
     "execution_count": 10,
     "metadata": {},
     "output_type": "execute_result"
    }
   ],
   "source": [
    "def test(*args):\n",
    "    return args\n",
    "test(1,2,3,4,5)"
   ]
  },
  {
   "cell_type": "code",
   "execution_count": 2,
   "id": "d3f8c39f-85bc-421c-bf97-44388a3597d9",
   "metadata": {},
   "outputs": [],
   "source": [
    "def sample(**kwargs):\n",
    "    return kwargs"
   ]
  },
  {
   "cell_type": "code",
   "execution_count": 4,
   "id": "86678547-031b-47e1-b2c0-fba362dbca49",
   "metadata": {},
   "outputs": [
    {
     "data": {
      "text/plain": [
       "{'a': 34, 'b': 20, 'c': [1, 2, 3], 'd': ('name', 'patil')}"
      ]
     },
     "execution_count": 4,
     "metadata": {},
     "output_type": "execute_result"
    }
   ],
   "source": [
    "sample(a=34,b=20,c=[1,2,3],d=('name','patil'))"
   ]
  },
  {
   "cell_type": "markdown",
   "id": "25f21be3-40b6-4ccf-9ca3-656483ab8efd",
   "metadata": {},
   "source": [
    "## Q3. What is an iterator in python? Name the method used to initialise the iterator object and the method used for iteration. Use these methods to print the first five elements of the given list [2, 4, 6, 8, 10, 12, 14, 16, 18, 20]."
   ]
  },
  {
   "cell_type": "code",
   "execution_count": null,
   "id": "dd25428f-3863-4850-b6a6-f10791473e2f",
   "metadata": {},
   "outputs": [],
   "source": [
    "'''\n",
    "Iterator is iterable quantity which iterates using loops.\n",
    "An iterator is an object that contains a countable number of values. An iterator is an object that can be \n",
    "iterated upon, meaning that you can traverse through all the values.\n",
    "'''\n",
    "'''\n",
    "In Python, an iterator is an object which implements the iterator protocol, \n",
    "which consist of the methods __iter__() and __next__().\n",
    "'''"
   ]
  },
  {
   "cell_type": "code",
   "execution_count": 36,
   "id": "c2945f5a-067c-4e3c-9996-f645863dc061",
   "metadata": {},
   "outputs": [
    {
     "name": "stdout",
     "output_type": "stream",
     "text": [
      "2\n",
      "4\n",
      "6\n",
      "8\n",
      "10\n"
     ]
    }
   ],
   "source": [
    "l=[2,4,6,8,10,12,14,16,18,20]\n",
    "lst=iter(l)\n",
    "for i in range(0,5):\n",
    "    print(next(lst))"
   ]
  },
  {
   "cell_type": "markdown",
   "id": "3bebd693-7ebe-4ca1-8e19-0b81aadcb4d5",
   "metadata": {},
   "source": [
    "## Q4. What is a generator function in python? Why yield keyword is used? Give an example of a generator function."
   ]
  },
  {
   "cell_type": "code",
   "execution_count": null,
   "id": "eb9ded8c-446f-4141-a139-70fd0d0d646a",
   "metadata": {},
   "outputs": [],
   "source": [
    "## Generator function generates the value and give its output.\n",
    "## it does not store all the values.\n",
    "\n",
    "## yield kryword is used to create generator function.\n",
    "## it returns the value to calling function."
   ]
  },
  {
   "cell_type": "code",
   "execution_count": 6,
   "id": "100deee4-70fe-4261-bd18-11b672c7c641",
   "metadata": {},
   "outputs": [
    {
     "data": {
      "text/plain": [
       "[0, 1, 1, 2, 3, 5, 8, 13, 21, 34]"
      ]
     },
     "execution_count": 6,
     "metadata": {},
     "output_type": "execute_result"
    }
   ],
   "source": [
    "def fibonacci(n):\n",
    "    a,b=0,1\n",
    "    for i in range(n):\n",
    "        yield a\n",
    "        a,b=b,a+b\n",
    "list(fibonacci(10))"
   ]
  },
  {
   "cell_type": "code",
   "execution_count": 8,
   "id": "24a32bf2-b260-4fd1-bb36-2000a27281eb",
   "metadata": {},
   "outputs": [],
   "source": [
    "def square(n):\n",
    "    for i in range(n):\n",
    "        yield i**2\n",
    "        "
   ]
  },
  {
   "cell_type": "code",
   "execution_count": 9,
   "id": "5df09d94-516d-4127-9494-8703dbbfdbfa",
   "metadata": {},
   "outputs": [
    {
     "name": "stdout",
     "output_type": "stream",
     "text": [
      "0\n",
      "1\n",
      "4\n",
      "9\n",
      "16\n",
      "25\n",
      "36\n",
      "49\n",
      "64\n",
      "81\n"
     ]
    }
   ],
   "source": [
    "for i in square(10):\n",
    "    print(i)"
   ]
  },
  {
   "cell_type": "markdown",
   "id": "e84fef49-201d-4123-9222-fd78ca0c916d",
   "metadata": {},
   "source": [
    "## Q5. Create a generator function for prime numbers less than 1000. Use the next() method to print the first 20 prime numbers."
   ]
  },
  {
   "cell_type": "code",
   "execution_count": 21,
   "id": "5c11932b-65f6-4f67-9d13-2499b80949fc",
   "metadata": {},
   "outputs": [],
   "source": [
    "def prime_numbers(n):\n",
    "    for i in range(n):\n",
    "        if i>1:\n",
    "            for j in range(2,i):\n",
    "                if i%j==0:\n",
    "                    break\n",
    "            else:\n",
    "                if i >1000:\n",
    "                    break\n",
    "                else:\n",
    "                    yield i\n",
    "                "
   ]
  },
  {
   "cell_type": "code",
   "execution_count": 34,
   "id": "8205de83-8eaa-43a7-8364-8e3def018bb1",
   "metadata": {},
   "outputs": [],
   "source": [
    "l=prime_numbers(1000)\n"
   ]
  },
  {
   "cell_type": "code",
   "execution_count": 35,
   "id": "63db400d-c789-4009-a6fe-2958a01a187b",
   "metadata": {},
   "outputs": [
    {
     "name": "stdout",
     "output_type": "stream",
     "text": [
      "2\n",
      "3\n",
      "5\n",
      "7\n",
      "11\n",
      "13\n",
      "17\n",
      "19\n",
      "23\n",
      "29\n",
      "31\n",
      "37\n",
      "41\n",
      "43\n",
      "47\n",
      "53\n",
      "59\n",
      "61\n",
      "67\n",
      "71\n"
     ]
    }
   ],
   "source": [
    "c=0\n",
    "while(True):\n",
    "    item=next(l)\n",
    "    c=c+1\n",
    "    if c>20:\n",
    "        break\n",
    "    else:\n",
    "        print(item)\n",
    "    "
   ]
  }
 ],
 "metadata": {
  "kernelspec": {
   "display_name": "Python 3 (ipykernel)",
   "language": "python",
   "name": "python3"
  },
  "language_info": {
   "codemirror_mode": {
    "name": "ipython",
    "version": 3
   },
   "file_extension": ".py",
   "mimetype": "text/x-python",
   "name": "python",
   "nbconvert_exporter": "python",
   "pygments_lexer": "ipython3",
   "version": "3.10.8"
  }
 },
 "nbformat": 4,
 "nbformat_minor": 5
}
