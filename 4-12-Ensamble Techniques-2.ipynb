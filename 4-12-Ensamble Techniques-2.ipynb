{
 "cells": [
  {
   "cell_type": "markdown",
   "id": "4085e36a-c25c-4dbf-8ec8-d2121fdfba59",
   "metadata": {},
   "source": [
    "## Ensamble Technique - 2"
   ]
  },
  {
   "cell_type": "markdown",
   "id": "f97a7e80-2458-40cd-b41e-ad9cf0786c55",
   "metadata": {},
   "source": [
    "## Q1. How does bagging reduce overfitting in decision trees?"
   ]
  },
  {
   "cell_type": "code",
   "execution_count": 1,
   "id": "de98aaf2-e88d-4060-a8f3-87484e7672b6",
   "metadata": {},
   "outputs": [],
   "source": [
    "## data points are selected at random.\n",
    "## And they are given to different models at random.\n",
    "## So model is trained well due to thid technique."
   ]
  },
  {
   "cell_type": "markdown",
   "id": "5e63074f-2981-41ac-948e-7be67e0709e5",
   "metadata": {},
   "source": [
    "## Q2. What are the advantages and disadvantages of using different types of base learners in bagging?"
   ]
  },
  {
   "cell_type": "code",
   "execution_count": 2,
   "id": "b0f09395-fc4e-4533-a27f-5d2826370e7d",
   "metadata": {},
   "outputs": [],
   "source": [
    "## Due to different base learners Model is trained well to the training data.\n",
    "## Also it is tuned by validation data."
   ]
  },
  {
   "cell_type": "markdown",
   "id": "d7ac877d-76af-4474-9fc5-1a6cc0a6afbb",
   "metadata": {},
   "source": [
    "## Q3. How does the choice of base learner affect the bias-variance tradeoff in bagging?"
   ]
  },
  {
   "cell_type": "code",
   "execution_count": 3,
   "id": "fd135e7c-74c6-4df6-9647-89006f629c53",
   "metadata": {},
   "outputs": [],
   "source": [
    "## if bias is low then model is trained well on training data\n",
    "## if bias is high then model is not trained well on training data\n",
    "## if variance is low then model predicts better output.\n",
    "## if variance is high then model does not predict required output."
   ]
  },
  {
   "cell_type": "markdown",
   "id": "463ecd7a-7a1b-45d2-8eb5-0897be2a662e",
   "metadata": {},
   "source": [
    "## Q4. Can bagging be used for both classification and regression tasks? How does it differ in each case?"
   ]
  },
  {
   "cell_type": "code",
   "execution_count": 4,
   "id": "8aeb1e33-9293-4256-8f22-44710c6d51b1",
   "metadata": {},
   "outputs": [],
   "source": [
    "## Yes bagging is used in both the classification and regression\n",
    "## Random forest classifier for classification\n",
    "## Random Forest regression"
   ]
  },
  {
   "cell_type": "markdown",
   "id": "68643de9-f4b5-4aa8-b0c4-22ace9cd30aa",
   "metadata": {},
   "source": [
    "## Q5. What is the role of ensemble size in bagging? How many models should be included in the ensemble?"
   ]
  },
  {
   "cell_type": "code",
   "execution_count": 5,
   "id": "79c8cc2f-8a31-4e6c-b40d-c3e76c0c7105",
   "metadata": {},
   "outputs": [],
   "source": [
    "## More the size more better model will be trained.\n",
    "## At lease 100 models should be included in the ensemble."
   ]
  },
  {
   "cell_type": "markdown",
   "id": "85eeb36c-c3d7-4ed8-a212-3bb34d172563",
   "metadata": {},
   "source": [
    "## Q6. Can you provide an example of a real-world application of bagging in machine learning?"
   ]
  },
  {
   "cell_type": "code",
   "execution_count": 6,
   "id": "2995e694-52dd-40b1-b6c0-9005198842cf",
   "metadata": {},
   "outputs": [],
   "source": [
    "## model when predicting time in tips dataset."
   ]
  }
 ],
 "metadata": {
  "kernelspec": {
   "display_name": "Python 3 (ipykernel)",
   "language": "python",
   "name": "python3"
  },
  "language_info": {
   "codemirror_mode": {
    "name": "ipython",
    "version": 3
   },
   "file_extension": ".py",
   "mimetype": "text/x-python",
   "name": "python",
   "nbconvert_exporter": "python",
   "pygments_lexer": "ipython3",
   "version": "3.10.8"
  }
 },
 "nbformat": 4,
 "nbformat_minor": 5
}
