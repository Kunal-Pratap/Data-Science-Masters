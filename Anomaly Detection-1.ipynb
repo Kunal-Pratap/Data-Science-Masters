{
 "cells": [
  {
   "cell_type": "markdown",
   "id": "d60dc30d",
   "metadata": {},
   "source": [
    "## Q1. What is anomaly detection and what is its purpose?"
   ]
  },
  {
   "cell_type": "markdown",
   "id": "87f104bd",
   "metadata": {},
   "source": [
    "Anomaly detection is a technique used in machine learning to identify instances that deviate significantly from the norm or expected behavior within a dataset. The purpose of anomaly detection is to pinpoint observations, data points, or events that are rare, unusual, or potentially indicative of errors, outliers, or anomalies. This technique is valuable in various fields, including cybersecurity, fraud detection, fault monitoring, and quality control, where the identification of abnormal patterns is crucial for maintaining system integrity and security.\n",
    "\n",
    "\n",
    "\n",
    "\n",
    "\n"
   ]
  },
  {
   "cell_type": "markdown",
   "id": "e3927d20",
   "metadata": {},
   "source": [
    "## Q2. What are the key challenges in anomaly detection?"
   ]
  },
  {
   "cell_type": "markdown",
   "id": "9d52eaa9",
   "metadata": {},
   "source": [
    "Key challenges in anomaly detection include dealing with imbalanced datasets, where normal instances significantly outnumber anomalies, making it harder for models to learn rare patterns. Another challenge is defining a suitable threshold for distinguishing anomalies, as setting it too high may lead to false negatives, while setting it too low may result in false positives. Additionally, anomalies may evolve over time, requiring models to adapt. Anomalies can also be context-dependent, making it challenging to generalize across diverse datasets and applications. Ensuring robustness to noise and handling high-dimensional data are additional challenges in effective anomaly detection.\n",
    "\n",
    "\n",
    "\n",
    "\n",
    "\n"
   ]
  },
  {
   "cell_type": "markdown",
   "id": "84801621",
   "metadata": {},
   "source": [
    "## Q3. How does unsupervised anomaly detection differ from supervised anomaly detection?"
   ]
  },
  {
   "cell_type": "markdown",
   "id": "34bdaba8",
   "metadata": {},
   "source": [
    "Unsupervised anomaly detection involves identifying anomalies in a dataset without labeled instances. The algorithm learns the normal behavior from the majority of the data and flags instances that deviate significantly from this norm. In contrast, supervised anomaly detection requires labeled data, with the model trained on both normal and anomalous instances. The supervised approach learns to differentiate between the two classes during training. While unsupervised methods are more versatile, supervised methods might offer higher precision when labeled anomalous instances are available for training.\n",
    "\n",
    "\n",
    "\n",
    "\n",
    "\n"
   ]
  },
  {
   "cell_type": "markdown",
   "id": "9f5c46cd",
   "metadata": {},
   "source": [
    "## Q4. What are the main categories of anomaly detection algorithms?"
   ]
  },
  {
   "cell_type": "markdown",
   "id": "3c5d6202",
   "metadata": {},
   "source": [
    "The main categories of anomaly detection algorithms include statistical methods, machine learning-based techniques, and clustering approaches. Statistical methods assess the probability of observations, identifying those with significantly low probabilities as anomalies. Machine learning algorithms, both supervised and unsupervised, learn patterns in data to distinguish normal from anomalous instances. Clustering approaches group similar instances, treating outliers or instances in sparser clusters as anomalies. Hybrid methods combining these approaches are also common, offering a more comprehensive approach to detecting anomalies in diverse datasets.\n",
    "\n",
    "\n",
    "\n",
    "\n",
    "\n"
   ]
  },
  {
   "cell_type": "markdown",
   "id": "154e260e",
   "metadata": {},
   "source": [
    "## Q5. What are the main assumptions made by distance-based anomaly detection methods?"
   ]
  },
  {
   "cell_type": "markdown",
   "id": "733ad7f4",
   "metadata": {},
   "source": [
    "Distance-based anomaly detection methods assume that normal instances are grouped closely together in the feature space, forming dense clusters. Anomalies are expected to be isolated or positioned far from these clusters. The methods rely on the notion that distances between normal instances are smaller than distances between normal and anomalous instances. These methods often assume a Euclidean distance metric and the homogeneity of clusters, where instances within the same cluster exhibit similar characteristics. These assumptions guide the algorithms in identifying instances that deviate significantly from the established patterns within the data.\n",
    "\n",
    "\n",
    "\n",
    "\n",
    "\n"
   ]
  },
  {
   "cell_type": "markdown",
   "id": "31b53976",
   "metadata": {},
   "source": [
    "## Q6. How does the LOF algorithm compute anomaly scores?"
   ]
  },
  {
   "cell_type": "markdown",
   "id": "89162652",
   "metadata": {},
   "source": [
    "The Local Outlier Factor (LOF) algorithm computes anomaly scores by comparing the local density of a data point to the density of its neighbors. It measures how much more or less dense a data point is compared to its neighbors. If a point has a significantly lower density than its neighbors, it is considered an anomaly. The anomaly score is calculated based on the ratio of the local density of the data point to the average local density of its neighbors. Higher scores indicate a higher likelihood of being an anomaly, as the point is less similar to its local neighborhood.\n",
    "\n",
    "\n",
    "\n",
    "\n",
    "\n"
   ]
  },
  {
   "cell_type": "markdown",
   "id": "aac33efc",
   "metadata": {},
   "source": [
    "## Q7. What are the key parameters of the Isolation Forest algorithm?"
   ]
  },
  {
   "cell_type": "markdown",
   "id": "d631a826",
   "metadata": {},
   "source": [
    "The key parameters of the Isolation Forest algorithm are the number of trees in the forest (n_estimators) and the subsample size (max_samples). The number of trees determines the robustness of the algorithm, and a larger number often leads to better performance but increased computation time. The subsample size sets the size of the random subsets sampled from the data, impacting the diversity of the trees. A smaller subsample size can improve efficiency and reduce overfitting, while a larger size may enhance performance in capturing complex patterns.\n",
    "\n",
    "\n",
    "\n",
    "\n",
    "\n"
   ]
  },
  {
   "cell_type": "markdown",
   "id": "8f424af2",
   "metadata": {},
   "source": [
    "## Q8. If a data point has only 2 neighbours of the same class within a radius of 0.5, what is its anomaly score using KNN with K=10?"
   ]
  },
  {
   "cell_type": "markdown",
   "id": "50051baf",
   "metadata": {},
   "source": [
    "In a KNN (K-Nearest Neighbors) algorithm with K=10, if a data point has only 2 neighbors of the same class within a radius of 0.5, its anomaly score would be relatively high. This is because the number of neighbors is significantly lower than the specified K, suggesting that the data point is not well-supported by its local neighborhood and is potentially an outlier. The algorithm assigns higher anomaly scores to instances with fewer similar neighbors within the defined radius.\n",
    "\n",
    "\n",
    "\n",
    "\n",
    "\n"
   ]
  },
  {
   "cell_type": "markdown",
   "id": "ac5b0993",
   "metadata": {},
   "source": [
    "## Q9. Using the Isolation Forest algorithm with 100 trees and a dataset of 3000 data points, what is the anomaly score for a data point that has an average path length of 5.0 compared to the average path length of the trees?"
   ]
  },
  {
   "cell_type": "markdown",
   "id": "e11dc3f4",
   "metadata": {},
   "source": [
    "The anomaly score in the Isolation Forest algorithm is calculated based on the average path length. In this case, if a data point has an average path length of 5.0 compared to the average path length of the trees, it suggests that the data point is reached faster in the isolation trees, indicating a shorter path length.\n",
    "\n",
    "In the Isolation Forest algorithm, shorter average path lengths correspond to higher anomaly scores. Therefore, a data point with an average path length of 5.0, which is shorter than the average path length of most points in the trees, would likely have a higher anomaly score, signifying that it is considered more anomalous or isolated within the dataset."
   ]
  }
 ],
 "metadata": {
  "kernelspec": {
   "display_name": "Python 3 (ipykernel)",
   "language": "python",
   "name": "python3"
  },
  "language_info": {
   "codemirror_mode": {
    "name": "ipython",
    "version": 3
   },
   "file_extension": ".py",
   "mimetype": "text/x-python",
   "name": "python",
   "nbconvert_exporter": "python",
   "pygments_lexer": "ipython3",
   "version": "3.11.5"
  }
 },
 "nbformat": 4,
 "nbformat_minor": 5
}
