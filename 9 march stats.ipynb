{
 "cells": [
  {
   "cell_type": "markdown",
   "id": "ec277179-c4ca-4b1e-9414-e87ca9b1ad8b",
   "metadata": {},
   "source": [
    "## Q1: What are the Probability Mass Function (PMF) and Probability Density Function (PDF)? Explain with an example."
   ]
  },
  {
   "cell_type": "code",
   "execution_count": 1,
   "id": "3e2d32eb-7007-4c09-b75a-ff4f44346162",
   "metadata": {},
   "outputs": [],
   "source": [
    "## Probability Mass Function (PMF):- \n",
    "     ## Random variable is Discrete.\n",
    "    ## ex. Rolling the dice:- {1,2,3,4,5,6}\n",
    "\n",
    "## Probability Density Function (PDF):-\n",
    "    ## Random variable is continuous.\n",
    "    ## ex. Height of students in class. "
   ]
  },
  {
   "cell_type": "markdown",
   "id": "31dc3b80-4938-48b8-a167-d5ff95003841",
   "metadata": {},
   "source": [
    "## Q2: What is Cumulative Density Function (CDF)? Explain with an example. Why CDF is used?"
   ]
  },
  {
   "cell_type": "code",
   "execution_count": 2,
   "id": "07dbd851-8428-4122-9332-b8f40194336c",
   "metadata": {},
   "outputs": [],
   "source": [
    "## Cumulative Density Function (CDF) gives the cumulative probability of data.\n",
    "## Probability of grtting Number less than or equal to 6 on dice:- 1/6 + 1/6 + 1/6 + 1/6 + 1/6 + 1/6 = 1\n",
    "## CDF is used because it helps to give cumulative probability."
   ]
  },
  {
   "cell_type": "markdown",
   "id": "dbf8c71d-4018-4fb6-96a3-19e8715c637d",
   "metadata": {},
   "source": [
    "## Q3: What are some examples of situations where the normal distribution might be used as a model? Explain how the parameters of the normal distribution relate to the shape of the distribution."
   ]
  },
  {
   "cell_type": "code",
   "execution_count": 3,
   "id": "c74ed54d-3581-4e72-8d48-ecadb08eee26",
   "metadata": {},
   "outputs": [],
   "source": [
    "## It cen be used to represent height , weight etc.\n",
    "## Parameters:-\n",
    " ## 1) Mean :- mean is the center of normal distribution graph.\n",
    " ## 2) Standard Deviation :- it tells that how much sd data is away from mean."
   ]
  },
  {
   "cell_type": "markdown",
   "id": "7dff9da5-1923-4e39-874c-4d9f4b64777e",
   "metadata": {},
   "source": [
    "## Q4: Explain the importance of Normal Distribution. Give a few real-life examples of Normal Distribution."
   ]
  },
  {
   "cell_type": "code",
   "execution_count": 4,
   "id": "72c1816b-e7a2-41d3-a26c-aa4d5ac64116",
   "metadata": {},
   "outputs": [],
   "source": [
    "## Normal distribution has bell curve.\n",
    "## Most data follows normal distribution.\n",
    "## It becomes easy to learn about data\n",
    "## Weight, Height, Iris dataset."
   ]
  },
  {
   "cell_type": "markdown",
   "id": "9bc5ef7b-928a-43f4-b98f-05dc2de43f51",
   "metadata": {},
   "source": [
    "## Q5: What is Bernaulli Distribution? Give an Example. What is the difference between Bernoulli Distribution and Binomial Distribution?"
   ]
  },
  {
   "cell_type": "code",
   "execution_count": 5,
   "id": "adde95fe-16da-4c87-b2fd-a60f290002bf",
   "metadata": {},
   "outputs": [],
   "source": [
    "## Bernaulli distribution is discrete probability distribution.\n",
    "## It talks about only one trial.\n",
    "## if Trial is success then value is true else it is false.\n",
    "\n",
    "## ex. Probability of head when fair cion is tossed.\n",
    "## ex. Student will pass or fail.\n",
    "\n",
    "## Binomial Distribution is Summation of bernaulli distribution upto n trials."
   ]
  },
  {
   "cell_type": "markdown",
   "id": "e0e73b37-8361-490c-83eb-5397df81ff5d",
   "metadata": {},
   "source": [
    "## Q6. Consider a dataset with a mean of 50 and a standard deviation of 10. If we assume that the dataset is normally distributed, what is the probability that a randomly selected observation will be greater than 60? Use the appropriate formula and show your calculations."
   ]
  },
  {
   "cell_type": "code",
   "execution_count": 7,
   "id": "eb58f350-5524-4e60-8920-0c203b7fdf42",
   "metadata": {},
   "outputs": [],
   "source": [
    "## z score = (60-50)/10 => 1\n",
    "## table value for 1 is 0.84134\n",
    "## so answer is 1-0.84134 = 0.1586\n",
    "## 15.86 % probability that randomly selected observation will be greater than 60."
   ]
  },
  {
   "cell_type": "markdown",
   "id": "e1772ce3-ba74-4e45-ac12-b70d8840a1cc",
   "metadata": {},
   "source": [
    "## Q7: Explain uniform Distribution with an example."
   ]
  },
  {
   "cell_type": "code",
   "execution_count": 8,
   "id": "4da0e630-e695-47ff-b50e-a9d98dda3ff9",
   "metadata": {},
   "outputs": [],
   "source": [
    "## It has two types\n",
    "## 1) Continuous uniform Distribution :- it has continuous random variable\n",
    "## 2) Discrete uniform Distribution :- it has Discrete random variable\n",
    "\n",
    "## ex. Rolling a fair dice."
   ]
  },
  {
   "cell_type": "markdown",
   "id": "a286c0e2-0dde-4194-9620-019a19c8f154",
   "metadata": {},
   "source": [
    "## Q8: What is the z score? State the importance of the z score."
   ]
  },
  {
   "cell_type": "code",
   "execution_count": 9,
   "id": "8521b25b-6ba6-41a5-a8ea-226e96bd8ad4",
   "metadata": {},
   "outputs": [],
   "source": [
    "## Z score is a method which is used to standardise the normal distribution.\n",
    "## It is used to convert different units into single unit."
   ]
  },
  {
   "cell_type": "markdown",
   "id": "0795372c-b780-4ff0-a32d-fc9cea9a2169",
   "metadata": {},
   "source": [
    "## Q9: What is Central Limit Theorem? State the significance of the Central Limit Theorem."
   ]
  },
  {
   "cell_type": "code",
   "execution_count": 10,
   "id": "026bdb28-04a1-4c71-865e-8a01ece1d4a0",
   "metadata": {},
   "outputs": [],
   "source": [
    "## It is used to plot the graph of mean of sample of population.\n",
    "## This graph also follows Normal distribution."
   ]
  },
  {
   "cell_type": "markdown",
   "id": "1827dad6-1e8c-493d-a194-1eefeef0d8b8",
   "metadata": {},
   "source": [
    "## Q10: State the assumptions of the Central Limit Theorem."
   ]
  },
  {
   "cell_type": "code",
   "execution_count": 11,
   "id": "b86beced-5a22-45d9-a6db-42b01d1519af",
   "metadata": {},
   "outputs": [],
   "source": [
    "## If it is normal distribution data then n size can be anything (n)\n",
    "## If it is not normal distribution data then n size should be equal to or greater than 30 (n >= 30)"
   ]
  }
 ],
 "metadata": {
  "kernelspec": {
   "display_name": "Python 3 (ipykernel)",
   "language": "python",
   "name": "python3"
  },
  "language_info": {
   "codemirror_mode": {
    "name": "ipython",
    "version": 3
   },
   "file_extension": ".py",
   "mimetype": "text/x-python",
   "name": "python",
   "nbconvert_exporter": "python",
   "pygments_lexer": "ipython3",
   "version": "3.10.8"
  }
 },
 "nbformat": 4,
 "nbformat_minor": 5
}
