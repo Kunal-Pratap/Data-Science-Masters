{
 "cells": [
  {
   "cell_type": "markdown",
   "id": "05ce2e0e-fbd6-48aa-bb72-dc28fcb85195",
   "metadata": {},
   "source": [
    "## Naive Bayes"
   ]
  },
  {
   "cell_type": "markdown",
   "id": "e8024dcd-bdef-45df-8087-591d770979cc",
   "metadata": {},
   "source": [
    "## Q1. What is Bayes' theorem?"
   ]
  },
  {
   "cell_type": "code",
   "execution_count": 1,
   "id": "7d507ecb-9d35-4ef7-9418-a05cb0d587d3",
   "metadata": {},
   "outputs": [],
   "source": [
    "## This theorem tells about the probability.\n",
    "## It gives the probability of event A when event B has already occured."
   ]
  },
  {
   "cell_type": "markdown",
   "id": "12734869-2ff9-457e-ab27-f6949e9aa5be",
   "metadata": {},
   "source": [
    "## Q2. What is the formula for Bayes' theorem?"
   ]
  },
  {
   "cell_type": "code",
   "execution_count": 2,
   "id": "c96e4d52-97e6-4b9b-8f8c-5677843d3ac2",
   "metadata": {},
   "outputs": [],
   "source": [
    "## P(A/B) = (P(A)*P(B/A))/P(B)"
   ]
  },
  {
   "cell_type": "markdown",
   "id": "bb8eee88-b377-4b29-af49-786866dedbd6",
   "metadata": {},
   "source": [
    "## Q3. How is Bayes' theorem used in practice?"
   ]
  },
  {
   "cell_type": "code",
   "execution_count": 3,
   "id": "2d2030c2-4041-4139-b664-4dc4bc0e8bb7",
   "metadata": {},
   "outputs": [],
   "source": [
    "## The probability of each event will be calculated.\n",
    "## If the output is greater than 50% then it will predict yes otherwise it will predict no."
   ]
  },
  {
   "cell_type": "markdown",
   "id": "1b1ef1e7-90d8-4a8e-a51e-f777a8303c5d",
   "metadata": {},
   "source": [
    "## Q4. What is the relationship between Bayes' theorem and conditional probability?"
   ]
  },
  {
   "cell_type": "code",
   "execution_count": 4,
   "id": "03b89ddf-7505-436e-a195-9784859c598f",
   "metadata": {},
   "outputs": [],
   "source": [
    "## Bayes theorem is based on conditional probability."
   ]
  },
  {
   "cell_type": "markdown",
   "id": "b0931f9e-4493-4fa5-9f9f-89ac084d7e58",
   "metadata": {},
   "source": [
    "## Q5. How do you choose which type of Naive Bayes classifier to use for any given problem?"
   ]
  },
  {
   "cell_type": "code",
   "execution_count": 5,
   "id": "62f6aaf6-a78e-4d07-b627-0e0880699766",
   "metadata": {},
   "outputs": [],
   "source": [
    "## We choose on the basis of features.\n",
    "## If features follow Bernaulli distribution then it will Use Bernaulli Naive Bayes.\n",
    "## If data is in the form of text then it will Use Multinomial Naive Bayes.\n",
    "## If features follow Gaussian distribution then it will Use Gaussian Naive Bayes."
   ]
  },
  {
   "cell_type": "markdown",
   "id": "0b4cd131-e85c-4329-b992-bf027d1ccaf6",
   "metadata": {},
   "source": [
    "## Q6. Assignment:\n",
    "### You have a dataset with two features, X1 and X2, and two possible classes, A and B. You want to use Naive Bayes to classify a new instance with features X1 = 3 and X2 = 4. The following table shows the frequency of each feature value for each class:"
   ]
  },
  {
   "cell_type": "code",
   "execution_count": 6,
   "id": "f2633ea5-f38b-4308-a9b5-ce4486e90a4f",
   "metadata": {},
   "outputs": [],
   "source": [
    "## It will predict That it belongs to A."
   ]
  }
 ],
 "metadata": {
  "kernelspec": {
   "display_name": "Python 3 (ipykernel)",
   "language": "python",
   "name": "python3"
  },
  "language_info": {
   "codemirror_mode": {
    "name": "ipython",
    "version": 3
   },
   "file_extension": ".py",
   "mimetype": "text/x-python",
   "name": "python",
   "nbconvert_exporter": "python",
   "pygments_lexer": "ipython3",
   "version": "3.10.8"
  }
 },
 "nbformat": 4,
 "nbformat_minor": 5
}
