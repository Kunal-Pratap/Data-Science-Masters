{
 "cells": [
  {
   "cell_type": "markdown",
   "id": "8355a9c5",
   "metadata": {},
   "source": [
    "## Q1. How can you create a Bokeh plot using Python code?"
   ]
  },
  {
   "cell_type": "markdown",
   "id": "2fd5234a",
   "metadata": {},
   "source": [
    "To create a Bokeh plot using Python, you can start by importing the necessary modules. First, install Bokeh using pip install bokeh. Then, in your Python script or Jupyter Notebook, import Bokeh (import bokeh.plotting as bplt), create a figure (p = bplt.figure()), add glyphs to the figure (e.g., p.line(x, y) for a line plot), and finally, show the plot (bplt.show(p)). Customize the plot further by adjusting attributes like title, labels, and styling. Bokeh provides a wide range of options for interactive and visually appealing plots in Python.\n",
    "\n",
    "\n",
    "\n",
    "\n",
    "\n"
   ]
  },
  {
   "cell_type": "markdown",
   "id": "afc9e480",
   "metadata": {},
   "source": [
    "## Q2. What are glyphs in Bokeh, and how can you add them to a Bokeh plot? Explain with an example."
   ]
  },
  {
   "cell_type": "markdown",
   "id": "eccdc15c",
   "metadata": {},
   "source": [
    "In Bokeh, glyphs are visual markers, such as lines, circles, or bars, that represent data on a plot. To add glyphs to a Bokeh plot, you typically create a figure using figure() and then use specific glyph functions like line(), circle(), or rect() to render the desired markers. For example, to create a simple line plot, you can use line(x, y) to connect points defined by the x and y coordinates."
   ]
  },
  {
   "cell_type": "markdown",
   "id": "28f1f959",
   "metadata": {},
   "source": [
    "## Q3. How can you customize the appearance of a Bokeh plot, including the axes, title, and legend?"
   ]
  },
  {
   "cell_type": "markdown",
   "id": "a1451c77",
   "metadata": {},
   "source": [
    "Customizing the appearance of a Bokeh plot involves modifying various attributes. You can set the title using p.title.text, adjust axis labels with p.xaxis.axis_label and p.yaxis.axis_label, and customize axis ticks and formatting. For a legend, you can add a legend by associating a legend label with each glyph and positioning it using p.legend.location. Additionally, you can control the plot's overall style, colors, and more."
   ]
  },
  {
   "cell_type": "markdown",
   "id": "198edf65",
   "metadata": {},
   "source": [
    "## Q4. What is a Bokeh server, and how can you use it to create interactive plots that can be updated in real time?"
   ]
  },
  {
   "cell_type": "markdown",
   "id": "a0d2c978",
   "metadata": {},
   "source": [
    "A Bokeh server is a Python script or application that enables the creation of interactive, real-time updating plots. Unlike static Bokeh plots, a Bokeh server allows for dynamic interactions such as handling user inputs, streaming data, and updating plots dynamically without requiring a page refresh. To use Bokeh server, you create a Python script defining the interactive elements, callbacks, and layout. The server then runs the script, serving an interactive web application where users can interact with and observe live updates to the plotted data. This approach facilitates the development of sophisticated and responsive data visualization applications using Bokeh.\n",
    "\n",
    "\n",
    "\n",
    "\n",
    "\n"
   ]
  },
  {
   "cell_type": "markdown",
   "id": "dd9f11cb",
   "metadata": {},
   "source": [
    "## Q5. How can you embed a Bokeh plot into a web page or dashboard using Flask or Django?"
   ]
  },
  {
   "cell_type": "markdown",
   "id": "fab16523",
   "metadata": {},
   "source": [
    "To embed a Bokeh plot into a web page or dashboard using Flask or Django, you can use the components module from Bokeh. First, create your Bokeh plot as usual. Then, use components to obtain the script and div components of the plot. In Flask, you would pass these components to the template, while in Django, you can include them in the HTML file. Finally, render the template within your Flask route or Django view. This approach allows you to seamlessly integrate Bokeh plots into your web application using Flask or Django frameworks.\n",
    "\n",
    "\n",
    "\n",
    "\n",
    "\n"
   ]
  }
 ],
 "metadata": {
  "kernelspec": {
   "display_name": "Python 3 (ipykernel)",
   "language": "python",
   "name": "python3"
  },
  "language_info": {
   "codemirror_mode": {
    "name": "ipython",
    "version": 3
   },
   "file_extension": ".py",
   "mimetype": "text/x-python",
   "name": "python",
   "nbconvert_exporter": "python",
   "pygments_lexer": "ipython3",
   "version": "3.11.5"
  }
 },
 "nbformat": 4,
 "nbformat_minor": 5
}
