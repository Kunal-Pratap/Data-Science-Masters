{
 "cells": [
  {
   "cell_type": "markdown",
   "id": "2d98207a-9413-4489-a27f-36b1f35f303b",
   "metadata": {},
   "source": [
    "## Q1. What are the three measures of central tendency?"
   ]
  },
  {
   "cell_type": "code",
   "execution_count": 1,
   "id": "efcda509-90ab-4e5d-a83d-33fdb0f7552c",
   "metadata": {},
   "outputs": [],
   "source": [
    "## Mean\n",
    "## Median\n",
    "## Mode"
   ]
  },
  {
   "cell_type": "markdown",
   "id": "49331a18-cf51-4f29-96a4-861a1c6a523f",
   "metadata": {},
   "source": [
    "## Q2. What is the difference between the mean, median, and mode? How are they used to measure the central tendency of a dataset?"
   ]
  },
  {
   "cell_type": "code",
   "execution_count": 2,
   "id": "e8de9b94-5df2-47f0-be48-f48e1fea99a7",
   "metadata": {},
   "outputs": [],
   "source": [
    "## Mean is calculated by adding all data and dividing it by total number of data.\n",
    "## Median is the middle value of data.\n",
    "## Mode is the maximum number of value that is present in data.\n",
    "\n",
    "## We can find the average of data by finding mean, how much time value is repeated can be calculated by mode."
   ]
  },
  {
   "cell_type": "markdown",
   "id": "8e900cd9-c49d-4ae6-af2d-69209f579756",
   "metadata": {},
   "source": [
    "## Q3. Measure the three measures of central tendency for the given height data:"
   ]
  },
  {
   "cell_type": "code",
   "execution_count": 3,
   "id": "a70d6197-eb34-4215-bcc4-b0c1e4d4e69c",
   "metadata": {},
   "outputs": [
    {
     "data": {
      "text/plain": [
       "177.01875"
      ]
     },
     "execution_count": 3,
     "metadata": {},
     "output_type": "execute_result"
    }
   ],
   "source": [
    "data = [178,177,176,177,178.2,178,175,179,180,175,178.9,176.2,177,172.5,178,176.5]\n",
    "import numpy as np\n",
    "np.mean(data)"
   ]
  },
  {
   "cell_type": "code",
   "execution_count": 4,
   "id": "22053be1-27fc-4d6e-8d93-ab188feae0f7",
   "metadata": {},
   "outputs": [
    {
     "data": {
      "text/plain": [
       "177.0"
      ]
     },
     "execution_count": 4,
     "metadata": {},
     "output_type": "execute_result"
    }
   ],
   "source": [
    "np.median(data)"
   ]
  },
  {
   "cell_type": "code",
   "execution_count": 5,
   "id": "4d8dddbd-961d-4f6b-94f2-5f5680378d16",
   "metadata": {},
   "outputs": [
    {
     "name": "stderr",
     "output_type": "stream",
     "text": [
      "/tmp/ipykernel_105/2800027621.py:2: FutureWarning: Unlike other reduction functions (e.g. `skew`, `kurtosis`), the default behavior of `mode` typically preserves the axis it acts along. In SciPy 1.11.0, this behavior will change: the default value of `keepdims` will become False, the `axis` over which the statistic is taken will be eliminated, and the value None will no longer be accepted. Set `keepdims` to True or False to avoid this warning.\n",
      "  stats.mode(data)\n"
     ]
    },
    {
     "data": {
      "text/plain": [
       "ModeResult(mode=array([177.]), count=array([3]))"
      ]
     },
     "execution_count": 5,
     "metadata": {},
     "output_type": "execute_result"
    }
   ],
   "source": [
    "from scipy import stats\n",
    "stats.mode(data)"
   ]
  },
  {
   "cell_type": "markdown",
   "id": "52d029e7-8192-4366-b29c-281a69c219a1",
   "metadata": {},
   "source": [
    "## Q4. Find the standard deviation for the given data:"
   ]
  },
  {
   "cell_type": "code",
   "execution_count": 6,
   "id": "dac6c3b0-4601-4348-94b0-01a3e0619f64",
   "metadata": {},
   "outputs": [
    {
     "data": {
      "text/plain": [
       "1.7885814036548633"
      ]
     },
     "execution_count": 6,
     "metadata": {},
     "output_type": "execute_result"
    }
   ],
   "source": [
    "data = [178,177,176,177,178.2,178,175,179,180,175,178.9,176.2,177,172.5,178,176.5]\n",
    "np.std(data)"
   ]
  },
  {
   "cell_type": "markdown",
   "id": "c36c45aa-7b70-46b2-8feb-ad8115270424",
   "metadata": {},
   "source": [
    "## Q5. How are measures of dispersion such as range, variance, and standard deviation used to describe the spread of a dataset? Provide an example."
   ]
  },
  {
   "cell_type": "code",
   "execution_count": 22,
   "id": "f85d4a32-b4da-4384-a2c0-f7b1d3fb1e54",
   "metadata": {},
   "outputs": [
    {
     "data": {
      "text/plain": [
       "1.7885814036548633"
      ]
     },
     "execution_count": 22,
     "metadata": {},
     "output_type": "execute_result"
    }
   ],
   "source": [
    "## they helps in finding how much data is deviated from perticular point.\n",
    "data = [178,177,176,177,178.2,178,175,179,180,175,178.9,176.2,177,172.5,178,176.5]\n",
    "np.std(data)"
   ]
  },
  {
   "cell_type": "code",
   "execution_count": 23,
   "id": "493719b1-3813-4e6c-a9b4-21f697f901c8",
   "metadata": {},
   "outputs": [
    {
     "data": {
      "text/plain": [
       "3.199023437500001"
      ]
     },
     "execution_count": 23,
     "metadata": {},
     "output_type": "execute_result"
    }
   ],
   "source": [
    "np.var(data)"
   ]
  },
  {
   "cell_type": "markdown",
   "id": "b260b40a-8b6f-4437-9adb-56258c05b3ab",
   "metadata": {},
   "source": [
    "## Q6. What is a Venn diagram?"
   ]
  },
  {
   "cell_type": "code",
   "execution_count": 7,
   "id": "365e3ef0-d0c7-441d-b5b0-7d028f4c2fec",
   "metadata": {},
   "outputs": [],
   "source": [
    "## Representation of sets their intersection and union of sets is known as venn diagram."
   ]
  },
  {
   "cell_type": "markdown",
   "id": "7a00c983-94c1-4e44-8b96-44e4dc8f845c",
   "metadata": {},
   "source": [
    "## Q7. For the two given sets A = (2,3,4,5,6,7) & B = (0,2,6,8,10). Find: (i) A B  (ii) A ⋃ B"
   ]
  },
  {
   "cell_type": "code",
   "execution_count": 8,
   "id": "ed431b67-f2c2-4f16-a00a-2016d332707a",
   "metadata": {},
   "outputs": [
    {
     "data": {
      "text/plain": [
       "{2, 6}"
      ]
     },
     "execution_count": 8,
     "metadata": {},
     "output_type": "execute_result"
    }
   ],
   "source": [
    "a={2,3,4,5,6,7}\n",
    "b={0,2,6,8,10}\n",
    "a.intersection(b)"
   ]
  },
  {
   "cell_type": "code",
   "execution_count": 9,
   "id": "6c6a0198-d69e-4314-8d27-3c50d719f4fe",
   "metadata": {},
   "outputs": [
    {
     "data": {
      "text/plain": [
       "{0, 2, 3, 4, 5, 6, 7, 8, 10}"
      ]
     },
     "execution_count": 9,
     "metadata": {},
     "output_type": "execute_result"
    }
   ],
   "source": [
    "a.union(b)"
   ]
  },
  {
   "cell_type": "markdown",
   "id": "bc50d217-ed7d-44b1-8ddd-b7252ee02102",
   "metadata": {},
   "source": [
    "## Q8. What do you understand about skewness in data?"
   ]
  },
  {
   "cell_type": "code",
   "execution_count": 10,
   "id": "188e7cf6-9af6-4705-b777-eef00d24ecaa",
   "metadata": {},
   "outputs": [],
   "source": [
    "## If data is symmetric distributed then there is no skewness.\n",
    "## Data can be right skewed or left skewed. \n",
    "## It gives relationship between Mean, Median and Mode."
   ]
  },
  {
   "cell_type": "markdown",
   "id": "a23b36df-0a94-4e26-8b14-cd5cc1b73d12",
   "metadata": {},
   "source": [
    "## Q9. If a data is right skewed then what will be the position of median with respect to mean?"
   ]
  },
  {
   "cell_type": "code",
   "execution_count": 11,
   "id": "21c66968-c8e0-4f7d-b689-2653992e24e4",
   "metadata": {},
   "outputs": [],
   "source": [
    "## median < mean"
   ]
  },
  {
   "cell_type": "markdown",
   "id": "4a1f97fc-829a-4aed-961f-29645ae9bfc3",
   "metadata": {},
   "source": [
    "## Q10. Explain the difference between covariance and correlation. How are these measures used in statistical analysis?"
   ]
  },
  {
   "cell_type": "code",
   "execution_count": 12,
   "id": "9eebd7a0-e9ac-47e3-847c-b9f3ca837fb1",
   "metadata": {},
   "outputs": [],
   "source": [
    "## covarience finds out relation between x and y\n",
    "## correlation is covarience/standard deviation"
   ]
  },
  {
   "cell_type": "markdown",
   "id": "7a0df4f5-16bf-4c05-8c5c-729fa57940a7",
   "metadata": {},
   "source": [
    "## Q11. What is the formula for calculating the sample mean? Provide an example calculation for a dataset."
   ]
  },
  {
   "cell_type": "code",
   "execution_count": 13,
   "id": "7e6e1270-ff5c-47cb-85ed-f35298e2b340",
   "metadata": {},
   "outputs": [],
   "source": [
    "## s = (x1+x2+x3+.....+xn)/n"
   ]
  },
  {
   "cell_type": "code",
   "execution_count": 14,
   "id": "7e85c920-bf72-41a6-8b78-4c4554d0a3bb",
   "metadata": {},
   "outputs": [
    {
     "data": {
      "text/plain": [
       "177.01875"
      ]
     },
     "execution_count": 14,
     "metadata": {},
     "output_type": "execute_result"
    }
   ],
   "source": [
    "data = [178,177,176,177,178.2,178,175,179,180,175,178.9,176.2,177,172.5,178,176.5]\n",
    "np.mean(data)"
   ]
  },
  {
   "cell_type": "markdown",
   "id": "7d2693ae-7211-47c8-b332-ec8d50f55e86",
   "metadata": {},
   "source": [
    "## Q12. For a normal distribution data what is the relationship between its measure of central tendency?"
   ]
  },
  {
   "cell_type": "code",
   "execution_count": 15,
   "id": "a98259d2-b79e-4784-a5a1-7ff1834cb8e8",
   "metadata": {},
   "outputs": [],
   "source": [
    "## mean = median = mode"
   ]
  },
  {
   "cell_type": "markdown",
   "id": "a5f97473-3c31-4583-aa45-700ce9020f09",
   "metadata": {},
   "source": [
    "## Q13. How is covariance different from correlation?"
   ]
  },
  {
   "cell_type": "code",
   "execution_count": 16,
   "id": "d0457236-820e-42fc-b014-819197510bd5",
   "metadata": {},
   "outputs": [],
   "source": [
    "## covarience finds out relation between x and y\n",
    "## correlation is covarience/standard deviation"
   ]
  },
  {
   "cell_type": "markdown",
   "id": "45009467-01ca-4a95-ba82-1fa2709f893a",
   "metadata": {},
   "source": [
    "## Q14. How do outliers affect measures of central tendency and dispersion? Provide an example."
   ]
  },
  {
   "cell_type": "code",
   "execution_count": 17,
   "id": "5f112f50-efee-41c3-8987-707844e54411",
   "metadata": {},
   "outputs": [],
   "source": [
    "## outliers doesnot affect the median much but mean is affected by outlier."
   ]
  },
  {
   "cell_type": "code",
   "execution_count": 18,
   "id": "8b30b5e2-bd92-4732-9ec0-daf54a4382bc",
   "metadata": {},
   "outputs": [
    {
     "data": {
      "text/plain": [
       "3.0"
      ]
     },
     "execution_count": 18,
     "metadata": {},
     "output_type": "execute_result"
    }
   ],
   "source": [
    "data=[1,2,3,4,5]\n",
    "np.mean(data)"
   ]
  },
  {
   "cell_type": "code",
   "execution_count": 19,
   "id": "d54cb53a-db40-44cd-8ee3-9863d6938a2c",
   "metadata": {},
   "outputs": [
    {
     "data": {
      "text/plain": [
       "19.166666666666668"
      ]
     },
     "execution_count": 19,
     "metadata": {},
     "output_type": "execute_result"
    }
   ],
   "source": [
    "## when outlier is added\n",
    "data=[1,2,3,4,5,100]\n",
    "np.mean(data)"
   ]
  },
  {
   "cell_type": "code",
   "execution_count": 20,
   "id": "63db4711-e160-4645-a544-de535928663a",
   "metadata": {},
   "outputs": [
    {
     "data": {
      "text/plain": [
       "3.0"
      ]
     },
     "execution_count": 20,
     "metadata": {},
     "output_type": "execute_result"
    }
   ],
   "source": [
    "data=[1,2,3,4,5]\n",
    "np.median(data)"
   ]
  },
  {
   "cell_type": "code",
   "execution_count": 21,
   "id": "4ba44868-da4f-4377-9676-8bfa8485862c",
   "metadata": {},
   "outputs": [
    {
     "data": {
      "text/plain": [
       "3.5"
      ]
     },
     "execution_count": 21,
     "metadata": {},
     "output_type": "execute_result"
    }
   ],
   "source": [
    "##median when outlier is added\n",
    "data=[1,2,3,4,5,100]\n",
    "np.median(data)"
   ]
  }
 ],
 "metadata": {
  "kernelspec": {
   "display_name": "Python 3 (ipykernel)",
   "language": "python",
   "name": "python3"
  },
  "language_info": {
   "codemirror_mode": {
    "name": "ipython",
    "version": 3
   },
   "file_extension": ".py",
   "mimetype": "text/x-python",
   "name": "python",
   "nbconvert_exporter": "python",
   "pygments_lexer": "ipython3",
   "version": "3.10.8"
  }
 },
 "nbformat": 4,
 "nbformat_minor": 5
}
