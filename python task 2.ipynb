{
 "cells": [
  {
   "cell_type": "markdown",
   "id": "3a02c15f-09c6-4f5e-971e-7b02b006a0f0",
   "metadata": {},
   "source": [
    "## Q1. You are writing code for a company. The requirement of the company is that you create a python function that will check whether the password entered by the user is correct or not. The function should take the password as input and return the string “Valid Password” if the entered password follows the below-given password guidelines else it should return “Invalid Password”.\n",
    "### Note: 1. The Password should contain at least two uppercase letters and at least two lowercase letters.\n",
    "### 2. The Password should contain at least a number and three special characters.\n",
    "### 3. The length of the password should be 10 characters long."
   ]
  },
  {
   "cell_type": "code",
   "execution_count": 37,
   "id": "0d87b9a1-c4f2-4c29-b908-03df2f297509",
   "metadata": {},
   "outputs": [
    {
     "name": "stdout",
     "output_type": "stream",
     "text": [
      "Valid Password\n"
     ]
    }
   ],
   "source": [
    "def password(s):\n",
    "    c,d,e,f=0,0,0,0\n",
    "    if len(s)==10 :\n",
    "        for i in s:\n",
    "            if(i.islower()):\n",
    "                c=c+1\n",
    "            elif (i.isupper()):\n",
    "                d=d+1\n",
    "            elif(i.isdigit()):\n",
    "                e=e+1\n",
    "            elif(i=='@' or i=='#' or i=='$' or i=='%' or i=='&'):\n",
    "                f=f+1\n",
    "    if (c>=2 and d>=2 and f>=3 and len(s)>=10):\n",
    "        print(\"Valid Password\")\n",
    "    else:\n",
    "        print(\"Invalid Password\")\n",
    "password('KUnal@#$12')\n",
    "            "
   ]
  },
  {
   "cell_type": "markdown",
   "id": "6d34f471-0109-4002-93b3-a9eef63a3828",
   "metadata": {},
   "source": [
    "### Q2. Solve the below-given questions using at least one of the following:\n",
    "#### 1. Lambda functioJ\n",
    "#### 2. Filter functioJ\n",
    "#### 3. Zap functioJ\n",
    "#### 4. List ComprehensioI\n",
    "#### 1) Check if the string starts with a particular letterY\n",
    "#### 2)Check if the string is numericY\n",
    "#### 3) Sort a list of tuples having fruit names and their quantity. [(\"mango\",99),(\"orange\",80), (\"grapes\", 1000)-\n",
    "#### 4) Find the squares of numbers from 1 to 10Y\n",
    "#### 5) Find the cube root of numbers from 1 to 10Y\n",
    "#### 6) Check if a given number is evenY\n",
    "#### 7) Filter odd numbers from the given list.\n",
    "####  [1,2,3,4,5,6,7,8,9,10-\n",
    "#### 8) Sort a list of integers into positive and negative integers lists.\n",
    "#### [1,2,3,4,5,6,-1,-2,-3,-4,-5,0]"
   ]
  },
  {
   "cell_type": "code",
   "execution_count": 12,
   "id": "e8b99a4e-5bc2-4a3c-8c92-89d8e4dcb978",
   "metadata": {},
   "outputs": [
    {
     "data": {
      "text/plain": [
       "True"
      ]
     },
     "execution_count": 12,
     "metadata": {},
     "output_type": "execute_result"
    }
   ],
   "source": [
    "## 1) Check if the string starts with a particular letter\n",
    "s='kunal patil'\n",
    "a=lambda s : s[0]=='k'\n",
    "a(s)"
   ]
  },
  {
   "cell_type": "code",
   "execution_count": 14,
   "id": "e4382578-5bc0-4d80-a725-9d80482ffab2",
   "metadata": {},
   "outputs": [
    {
     "name": "stdout",
     "output_type": "stream",
     "text": [
      "True\n",
      "False\n"
     ]
    }
   ],
   "source": [
    "## 2)Check if the string is numeric\n",
    "a=lambda x : x.isdigit()\n",
    "print(a('12345'))\n",
    "print(a('pw'))"
   ]
  },
  {
   "cell_type": "code",
   "execution_count": 23,
   "id": "2a0683e6-9470-4016-a488-76a076919949",
   "metadata": {},
   "outputs": [
    {
     "data": {
      "text/plain": [
       "[('orange', 80), ('mango', 99), ('grapes', 1000)]"
      ]
     },
     "execution_count": 23,
     "metadata": {},
     "output_type": "execute_result"
    }
   ],
   "source": [
    "## 3) Sort a list of tuples having fruit names and their quantity. [(\"mango\",99),(\"orange\",80), (\"grapes\", 1000)]\n",
    "l=[(\"mango\",99),(\"orange\",80), (\"grapes\", 1000)]\n",
    "l.sort(key= lambda x:x[1])\n",
    "l"
   ]
  },
  {
   "cell_type": "code",
   "execution_count": 25,
   "id": "7e97e4e4-ef1b-47e3-ab2e-93ac45471f2e",
   "metadata": {},
   "outputs": [
    {
     "data": {
      "text/plain": [
       "[1, 4, 9, 16, 25, 36, 49, 64, 81, 100]"
      ]
     },
     "execution_count": 25,
     "metadata": {},
     "output_type": "execute_result"
    }
   ],
   "source": [
    "## 4) Find the squares of numbers from 1 to 10\n",
    "list(map(lambda x : x**2,range(1,11)))"
   ]
  },
  {
   "cell_type": "code",
   "execution_count": 33,
   "id": "1a99c99e-1591-4124-adad-ec69729f28ec",
   "metadata": {},
   "outputs": [
    {
     "data": {
      "text/plain": [
       "[1.0,\n",
       " 1.2599210498948732,\n",
       " 1.4422495703074083,\n",
       " 1.5874010519681994,\n",
       " 1.7099759466766968,\n",
       " 1.8171205928321397,\n",
       " 1.912931182772389,\n",
       " 2.0,\n",
       " 2.080083823051904,\n",
       " 2.154434690031884]"
      ]
     },
     "execution_count": 33,
     "metadata": {},
     "output_type": "execute_result"
    }
   ],
   "source": [
    "## 5) Find the cube root of numbers from 1 to 10\n",
    "list(map(lambda x : x**(1/3),range(1,11)))"
   ]
  },
  {
   "cell_type": "code",
   "execution_count": 28,
   "id": "3d0a9603-95f5-42e0-974f-a675e1cfaf1a",
   "metadata": {},
   "outputs": [
    {
     "data": {
      "text/plain": [
       "True"
      ]
     },
     "execution_count": 28,
     "metadata": {},
     "output_type": "execute_result"
    }
   ],
   "source": [
    "## 6) Check if a given number is even\n",
    "a=lambda x : x%2==0\n",
    "a(20)"
   ]
  },
  {
   "cell_type": "code",
   "execution_count": 30,
   "id": "8da9e65e-19e8-4797-bc9d-b1406f11012b",
   "metadata": {},
   "outputs": [
    {
     "data": {
      "text/plain": [
       "[1, 3, 5, 7, 9]"
      ]
     },
     "execution_count": 30,
     "metadata": {},
     "output_type": "execute_result"
    }
   ],
   "source": [
    "## 7) Filter odd numbers from the given list.\n",
    "lst=[1,2,3,4,5,6,7,8,9,10]\n",
    "list(filter(lambda x: x%2!=0,lst))"
   ]
  },
  {
   "cell_type": "code",
   "execution_count": 32,
   "id": "f75ea37b-4a5d-446d-9f3e-b85843292d70",
   "metadata": {},
   "outputs": [
    {
     "name": "stdout",
     "output_type": "stream",
     "text": [
      "[1, 2, 3, 4, 5, 6, 0]\n",
      "[-1, -2, -3, -4, -5]\n"
     ]
    }
   ],
   "source": [
    "## 8) Sort a list of integers into positive and negative integers lists.\n",
    "list1=[1,2,3,4,5,6,-1,-2,-3,-4,-5,0]\n",
    "print(list(filter(lambda x: x>=0,list1)))\n",
    "print(list(filter(lambda x: x<0,list1)))"
   ]
  }
 ],
 "metadata": {
  "kernelspec": {
   "display_name": "Python 3 (ipykernel)",
   "language": "python",
   "name": "python3"
  },
  "language_info": {
   "codemirror_mode": {
    "name": "ipython",
    "version": 3
   },
   "file_extension": ".py",
   "mimetype": "text/x-python",
   "name": "python",
   "nbconvert_exporter": "python",
   "pygments_lexer": "ipython3",
   "version": "3.10.8"
  }
 },
 "nbformat": 4,
 "nbformat_minor": 5
}
