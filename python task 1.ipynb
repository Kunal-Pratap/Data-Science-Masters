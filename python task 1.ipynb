{
 "cells": [
  {
   "cell_type": "markdown",
   "id": "905e7db7-578e-4bdf-9d62-dca8b438cccc",
   "metadata": {},
   "source": [
    "## Q1. Create a function which will take a list as an argument and return the product of all the numbers after creating a flat list. Use the below-given list as an argument for your function.\n",
    "### list1 = [1,2,3,4, [44,55,66, True], False, (34,56,78,89,34), {1,2,3,3,2,1}, {1:34, \"key2\": [55, 67, 78, 89], 4: (45, 22, 61, 34)}, [56, 'data science'], 'Machine Learning']"
   ]
  },
  {
   "cell_type": "code",
   "execution_count": 23,
   "id": "b93e8481-32b2-42c0-9076-e034f7b49d43",
   "metadata": {},
   "outputs": [
    {
     "name": "stdout",
     "output_type": "stream",
     "text": [
      "4134711838987085478833841242112000\n"
     ]
    }
   ],
   "source": [
    "list1 = [1,2,3,4, [44,55,66, True], False, (34,56,78,89,34), {1,2,3,3,2,1}, {1:34, \"key2\": [55, 67, 78, 89], 4: (45, 22, 61, 34)}, [56, 'data science'], 'Machine Learning']\n",
    "def test(list1):\n",
    "    lst=[]\n",
    "    for i in list1:\n",
    "        if type(i)==int:\n",
    "            lst.append(i)\n",
    "        elif type(i)==list or type(i)==tuple or type(i)==set :\n",
    "            for j in i:\n",
    "                if type(j)==int:\n",
    "                    lst.append(j)\n",
    "        elif type(i)==dict:\n",
    "            a=i.keys()\n",
    "            b=i.values()\n",
    "            for j in a:\n",
    "                if type(j)==int:\n",
    "                    lst.append(j)\n",
    "                elif type(j)==list or type(j)==tuple or type(j)==set :\n",
    "                    for k in j:\n",
    "                        if type(k)==int:\n",
    "                            lst.append(k)\n",
    "            for j in b:\n",
    "                if type(j)==int:\n",
    "                    lst.append(j)\n",
    "                elif type(j)==list or type(j)==tuple or type(j)==set :\n",
    "                    for k in j:\n",
    "                        if type(k)==int:\n",
    "                            lst.append(k)\n",
    "\n",
    "    from functools import reduce\n",
    "    print(reduce(lambda x,y:x*y,lst))\n",
    "test(list1)\n"
   ]
  },
  {
   "cell_type": "markdown",
   "id": "bd778121-a4aa-41f8-9953-4223b86ebb6e",
   "metadata": {},
   "source": [
    "## Q2. Write a python program for encrypting a message sent to you by your friend. The logic of encryption should be such that, for a the output should be z. For b, the output should be y. For c, the output should be x respectively. Also, the whitespace should be replaced with a dollar sign. Keep the punctuation marks unchanged.\n",
    "### Input Sentence: I want to become a Data Scientist.\n",
    "### Encrypt the above input sentence using the program you just created.\n",
    "### Note: Convert the given input sentence into lowercase before encrypting. The final output should be lowercase."
   ]
  },
  {
   "cell_type": "code",
   "execution_count": 12,
   "id": "742f9a6e-e16a-432e-be90-0e4eca851fcc",
   "metadata": {},
   "outputs": [
    {
     "name": "stdout",
     "output_type": "stream",
     "text": [
      "i$wznt$to$yexome$z$dztz$sxientist."
     ]
    }
   ],
   "source": [
    "str='I want to become a Data Scientist.'\n",
    "str1=str.lower()\n",
    "l=list(str1)\n",
    "for i in l:\n",
    "    if i=='a':\n",
    "        print('z',end='')\n",
    "    elif i=='b':\n",
    "        print('y',end='')\n",
    "    elif i=='c':\n",
    "        print('x',end='')\n",
    "    elif i==' ':\n",
    "        print('$',end='')\n",
    "    else:\n",
    "        print(i,end='')\n",
    "        \n",
    "    "
   ]
  }
 ],
 "metadata": {
  "kernelspec": {
   "display_name": "Python 3 (ipykernel)",
   "language": "python",
   "name": "python3"
  },
  "language_info": {
   "codemirror_mode": {
    "name": "ipython",
    "version": 3
   },
   "file_extension": ".py",
   "mimetype": "text/x-python",
   "name": "python",
   "nbconvert_exporter": "python",
   "pygments_lexer": "ipython3",
   "version": "3.10.8"
  }
 },
 "nbformat": 4,
 "nbformat_minor": 5
}
