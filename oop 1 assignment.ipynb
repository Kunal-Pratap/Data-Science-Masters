{
 "cells": [
  {
   "cell_type": "markdown",
   "id": "66378798-3586-4829-8d63-82ee878d640b",
   "metadata": {},
   "source": [
    "## Q1. Explain Class and Object with respect to Object-Oriented Programming. Give a suitable example."
   ]
  },
  {
   "cell_type": "code",
   "execution_count": 1,
   "id": "888e715f-d877-4696-a617-9a4c66c6d500",
   "metadata": {},
   "outputs": [
    {
     "name": "stdout",
     "output_type": "stream",
     "text": [
      "Test class\n"
     ]
    }
   ],
   "source": [
    "'''\n",
    "class:-\n",
    "   It is a instance which contains variable and different methods.\n",
    "   A child class can inherit the properties of parent class.\n",
    "   we can access class proberties by object.\n",
    "   \n",
    "Object:- \n",
    "    -It is variable created for class \n",
    "    - ones a object is created class is executed.\n",
    "'''\n",
    "class test:\n",
    "    print('Test class')\n",
    "a=test()"
   ]
  },
  {
   "cell_type": "markdown",
   "id": "f818d363-2143-4725-871a-8020b6ba07bd",
   "metadata": {},
   "source": [
    "## Q2. Name the four pillars of OOPs."
   ]
  },
  {
   "cell_type": "code",
   "execution_count": 1,
   "id": "404af325-26ef-4d63-98a6-f207aebbcfce",
   "metadata": {},
   "outputs": [],
   "source": [
    "## 1) Inheritance\n",
    "## 2) Encapsulation\n",
    "## 3) Polymorphism\n",
    "## 4) Abstraction\n"
   ]
  },
  {
   "cell_type": "markdown",
   "id": "bbcd64b9-2ca5-419f-a846-a78e59624ff8",
   "metadata": {},
   "source": [
    "## Q3. Explain why the __init__() function is used. Give a suitable example."
   ]
  },
  {
   "cell_type": "code",
   "execution_count": 3,
   "id": "14e16d45-b4a8-4820-87a9-7e171f8a50a3",
   "metadata": {},
   "outputs": [
    {
     "name": "stdout",
     "output_type": "stream",
     "text": [
      "init function\n"
     ]
    }
   ],
   "source": [
    "## __init__() function is used to automatically give the methods or variables.\n",
    "## When object is created automatically function is called.\n",
    "class sample:\n",
    "    def __init__(self):\n",
    "        print(\"init function\")\n",
    "    def show(self):\n",
    "        print('sample class')\n",
    "a=sample()"
   ]
  },
  {
   "cell_type": "code",
   "execution_count": 4,
   "id": "b248c743-5c38-4720-8b4b-a630f34edccd",
   "metadata": {},
   "outputs": [],
   "source": [
    "## here only init function is printing as when object is created init function runs automatically.\n",
    "## show function is not called so it doen not print sample class"
   ]
  },
  {
   "cell_type": "markdown",
   "id": "186852f5-c293-4799-a437-6f92a425f42c",
   "metadata": {},
   "source": [
    "## Q4. Why self is used in OOPs?"
   ]
  },
  {
   "cell_type": "code",
   "execution_count": 5,
   "id": "092643e5-147b-4c3b-8391-a991bc38e929",
   "metadata": {},
   "outputs": [],
   "source": [
    "## Self variable is used to create instance of class.\n",
    "##  It works as a reference to the object. Python uses the self parameter to refer to instance attributes and methods of the class."
   ]
  },
  {
   "cell_type": "markdown",
   "id": "f92fad5b-0a7d-45e6-a18b-bfeb1596b9f2",
   "metadata": {},
   "source": [
    "## Q5. What is inheritance? Give an example for each type of inheritance."
   ]
  },
  {
   "cell_type": "code",
   "execution_count": 6,
   "id": "84c4cb0a-95b3-4174-b8de-78f022415469",
   "metadata": {},
   "outputs": [],
   "source": [
    "## It is method in which child class is derived from parent class.\n",
    "## child class inherits the property of parent class."
   ]
  },
  {
   "cell_type": "code",
   "execution_count": 9,
   "id": "c9bf4ab1-81bf-4f4b-8161-b9aaef68fa14",
   "metadata": {},
   "outputs": [
    {
     "name": "stdout",
     "output_type": "stream",
     "text": [
      "money with father is: 100\n"
     ]
    }
   ],
   "source": [
    "## Single inheritance\n",
    "class father:\n",
    "    def capital(self,n):\n",
    "        self.money=n\n",
    "        print(\"money with father is:\",self.money)\n",
    "class son(father):\n",
    "    def show(self):\n",
    "        print('child class')\n",
    "rohan=son()\n",
    "rohan.capital(100)"
   ]
  },
  {
   "cell_type": "code",
   "execution_count": 11,
   "id": "96739d89-7b9c-455e-8e81-da56c197a3dd",
   "metadata": {},
   "outputs": [
    {
     "name": "stdout",
     "output_type": "stream",
     "text": [
      "money with father is: 10000\n",
      "child class\n",
      "grand son class\n"
     ]
    }
   ],
   "source": [
    "## multilevel inheritance\n",
    "class father:\n",
    "    def capital(self,n):\n",
    "        self.money=n\n",
    "        print(\"money with father is:\",self.money)\n",
    "class son(father):\n",
    "    def show(self):\n",
    "        print('child class')\n",
    "class grandson(son):\n",
    "    def disp(self):\n",
    "        print('grand son class')\n",
    "\n",
    "soham=grandson()\n",
    "soham.capital(10000)\n",
    "soham.show()\n",
    "soham.disp()"
   ]
  },
  {
   "cell_type": "code",
   "execution_count": 12,
   "id": "630d0be4-f3e1-499e-910e-4b990bb72561",
   "metadata": {},
   "outputs": [
    {
     "name": "stdout",
     "output_type": "stream",
     "text": [
      "Father class\n",
      "Mother class\n",
      "child class derived from two parent class\n"
     ]
    }
   ],
   "source": [
    "## multiple inheritance\n",
    "class father:\n",
    "    def show(self):\n",
    "        print('Father class')\n",
    "class mother:\n",
    "    def disp(self):\n",
    "        print('Mother class')\n",
    "class child(father,mother):\n",
    "    def out(self):\n",
    "        print('child class derived from two parent class')\n",
    "        \n",
    "c1=child()\n",
    "c1.show()\n",
    "c1.disp()\n",
    "c1.out()"
   ]
  }
 ],
 "metadata": {
  "kernelspec": {
   "display_name": "Python 3 (ipykernel)",
   "language": "python",
   "name": "python3"
  },
  "language_info": {
   "codemirror_mode": {
    "name": "ipython",
    "version": 3
   },
   "file_extension": ".py",
   "mimetype": "text/x-python",
   "name": "python",
   "nbconvert_exporter": "python",
   "pygments_lexer": "ipython3",
   "version": "3.10.8"
  }
 },
 "nbformat": 4,
 "nbformat_minor": 5
}
