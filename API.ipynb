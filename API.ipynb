{
 "cells": [
  {
   "cell_type": "markdown",
   "id": "c0333615-43fa-437f-898d-c5dfc670d7fe",
   "metadata": {},
   "source": [
    "## Q1. What is an API? Give an example, where an API is used in real life."
   ]
  },
  {
   "cell_type": "code",
   "execution_count": 1,
   "id": "31a52acf-3335-4f04-99c3-b61ffa8dd1bd",
   "metadata": {},
   "outputs": [],
   "source": [
    "## API stands for Application Programming Interface\n",
    "## API is use to convert one language code to another language.\n",
    "## API is used at backend.\n",
    "## API is used to connect client with server.\n",
    "## Gpay is connected with bankaccount through API."
   ]
  },
  {
   "cell_type": "markdown",
   "id": "39a9d88e-0137-4568-9cf6-01b7f9da8bc4",
   "metadata": {},
   "source": [
    "## Q2. Give advantages and disadvantages of using API."
   ]
  },
  {
   "cell_type": "code",
   "execution_count": 2,
   "id": "c55ed4a3-2d34-44ee-a778-7052cf957aa7",
   "metadata": {},
   "outputs": [],
   "source": [
    "## Advantages:-\n",
    "## It becomes easy to use different applications.\n",
    "## Due to api tasks become more simpler.\n",
    "## Client is connected to server using API.\n",
    "\n",
    "## Disadvantages:-\n",
    "## Information may be leaked.\n",
    "## Hackers can hack and take vital information."
   ]
  },
  {
   "cell_type": "markdown",
   "id": "f36a884d-ea4a-486a-9a7f-4e4567cdf01e",
   "metadata": {},
   "source": [
    "## Q3. What is a Web API? Differentiate between API and Web API."
   ]
  },
  {
   "cell_type": "code",
   "execution_count": 3,
   "id": "4500f8b6-823e-43c9-8952-6ad9666ddc3c",
   "metadata": {},
   "outputs": [],
   "source": [
    "## Web API is web based Application programming interface.\n",
    "## API uses TCP, SMTP, HTTP protocol.\n",
    "## WEB API uses HTTP protocol."
   ]
  },
  {
   "cell_type": "markdown",
   "id": "91dd02a7-caed-4cea-adbd-65361abf697a",
   "metadata": {},
   "source": [
    "## Q4. Explain REST and SOAP Architecture. Mention shortcomings of SOAP."
   ]
  },
  {
   "cell_type": "code",
   "execution_count": 6,
   "id": "d32fd4af-ba76-4a9e-b9c8-bba9e0d3282b",
   "metadata": {},
   "outputs": [],
   "source": [
    "## REST Architecture is Representational state transfer\n",
    "## Http protocol is used by rest architecture.\n",
    "## REST Architecture provides simplicity, scalability, flexiblity.\n",
    "## REST Architecture is less secure.\n",
    "\n",
    "## SOAP Architecture is Simple Object Access Protocol.\n",
    "## Tcp, Smtp protocol is used by SOAP architecture.\n",
    "## SOAP architecture is more secure."
   ]
  },
  {
   "cell_type": "markdown",
   "id": "69fe294d-3af5-4a64-9ca6-f55435b41d0f",
   "metadata": {},
   "source": [
    "## Q5. Differentiate between REST and SOAP."
   ]
  },
  {
   "cell_type": "code",
   "execution_count": 5,
   "id": "51015a15-6b5b-4c8e-9a20-8edc739ba49b",
   "metadata": {},
   "outputs": [],
   "source": [
    "## REST Architecture:-\n",
    "## Http protocol is used by rest architecture.\n",
    "## REST Architecture provides simplicity, scalability, flexiblity.\n",
    "## REST Architecture is less secure.\n",
    "\n",
    "## SOAP Architecture:-\n",
    "## Tcp, Smtp protocol is used by SOAP architecture.\n",
    "## SOAP architecture is more secure."
   ]
  }
 ],
 "metadata": {
  "kernelspec": {
   "display_name": "Python 3 (ipykernel)",
   "language": "python",
   "name": "python3"
  },
  "language_info": {
   "codemirror_mode": {
    "name": "ipython",
    "version": 3
   },
   "file_extension": ".py",
   "mimetype": "text/x-python",
   "name": "python",
   "nbconvert_exporter": "python",
   "pygments_lexer": "ipython3",
   "version": "3.10.8"
  }
 },
 "nbformat": 4,
 "nbformat_minor": 5
}
