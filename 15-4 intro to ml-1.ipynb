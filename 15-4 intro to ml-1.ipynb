{
 "cells": [
  {
   "cell_type": "markdown",
   "id": "7aafba89-33f4-4d9d-9e90-877c17a5729b",
   "metadata": {},
   "source": [
    "## Q1) Explain the following"
   ]
  },
  {
   "cell_type": "code",
   "execution_count": 1,
   "id": "dc388843-c92c-4d54-9eaa-25c037f850d5",
   "metadata": {},
   "outputs": [],
   "source": [
    "## 1) Artificial Intelligence :- It is part of computer science which has done more improvements in life of people.\n",
    "##     Ex:- -self driving cars, -robots etc.\n",
    "\n",
    "## 2) Machine learning :- It is sub part of artificial intelligence.\n",
    "##     Ex :- -recommendation system\n",
    "\n",
    "## 3) Deep learning :- It is sub part of machine learning.\n",
    "##     Ex :- -chatbot , -chatgpt , -object detection\n",
    " "
   ]
  },
  {
   "cell_type": "markdown",
   "id": "38a7aeb9-551c-400d-8c07-14a7fe1e4a75",
   "metadata": {},
   "source": [
    "## Q2- What is supervised learning? List some examples of supervised learning."
   ]
  },
  {
   "cell_type": "code",
   "execution_count": 2,
   "id": "d5cb8b97-6677-40d1-9497-44bf594a90b0",
   "metadata": {},
   "outputs": [],
   "source": [
    "## In supervised learning dataset is provided with output. Model is trained to give that output.\n",
    "## Ex:- whether student will fail or pass in exam based on play hour and study hour.\n",
    "##      -classicification,   -regression"
   ]
  },
  {
   "cell_type": "markdown",
   "id": "2ee4f378-a9e2-4314-88f8-59636aa19a1e",
   "metadata": {},
   "source": [
    "## Q3- What is unsupervised learning? List some examples of unsupervised learning."
   ]
  },
  {
   "cell_type": "code",
   "execution_count": 3,
   "id": "0688cc98-9fca-4006-bb72-f74b8442f2d8",
   "metadata": {},
   "outputs": [],
   "source": [
    "## In unsupervised learning data is provided without labels. Clusters are formed.\n",
    "## Ex:- clustering of data of shopkeeper based on salary."
   ]
  },
  {
   "cell_type": "markdown",
   "id": "54a0c66d-0a87-4df9-b858-1ba25e288c0e",
   "metadata": {},
   "source": [
    "## Q4- What is the difference between AI, ML, DL, and DS?"
   ]
  },
  {
   "cell_type": "code",
   "execution_count": 4,
   "id": "6ec9dcaf-11b3-4aee-a67c-73fc287e889a",
   "metadata": {},
   "outputs": [],
   "source": [
    "## Ml is sub domain of AI, DL is subdomain of ML, DS is coordination of all three."
   ]
  },
  {
   "cell_type": "markdown",
   "id": "ace1cd00-c69d-4669-a1f6-1ede536df4bd",
   "metadata": {},
   "source": [
    "## Q5- What are the main differences between supervised, unsupervised, and semi-supervised learning?"
   ]
  },
  {
   "cell_type": "code",
   "execution_count": null,
   "id": "0199e6df-a1a8-4c58-9596-4eb50d81a913",
   "metadata": {},
   "outputs": [],
   "source": [
    "## In supervised learning data is provided with labels and output is given.\n",
    "## In unsupervised learning data is not provided with labels and output is not given.\n",
    "## In Semisupervised learning no labels are provided."
   ]
  },
  {
   "cell_type": "markdown",
   "id": "717e0908-1b08-4fc6-a337-70cad48f2db3",
   "metadata": {},
   "source": [
    "## Q6- What is train, test and validation split? Explain the importance of each term."
   ]
  },
  {
   "cell_type": "code",
   "execution_count": null,
   "id": "dfdbeb48-de03-4653-ada6-f513c3293f8d",
   "metadata": {},
   "outputs": [],
   "source": [
    "## Train Dataset :- This data set is used to train model.\n",
    "## Validation Dataset :- This dataset is used to tune the model.\n",
    "## Test Dstaset :- This dataset is used to test the model."
   ]
  },
  {
   "cell_type": "markdown",
   "id": "965e16ba-7ece-4e81-9c05-5690d729de46",
   "metadata": {},
   "source": [
    "## Q7- How can unsupervised learning be used in anomaly detection?"
   ]
  },
  {
   "cell_type": "code",
   "execution_count": null,
   "id": "753b7928-cb92-4c7b-aecd-504f7fc0d605",
   "metadata": {},
   "outputs": [],
   "source": [
    "## What is different in given dataset is checked.\n",
    "## So that diesece or fraud can be detected."
   ]
  },
  {
   "cell_type": "markdown",
   "id": "e0040843-7e86-41be-8828-99c94f818d74",
   "metadata": {},
   "source": [
    "## Q8- List down some commonly used supervised learning algorithms and unsupervised learning algorithms."
   ]
  },
  {
   "cell_type": "code",
   "execution_count": null,
   "id": "1904716b-483f-44e7-8ee9-9934e1ea6c60",
   "metadata": {},
   "outputs": [],
   "source": [
    "## Supervised :- Decision tree, Logistic regression, linear regration, support vector machine.\n",
    "## Unsupervised :- k-means clustering , hirarchical clustering"
   ]
  },
  {
   "cell_type": "code",
   "execution_count": null,
   "id": "109fcf62-ed4e-4fab-a26f-f2c98beb06e4",
   "metadata": {},
   "outputs": [],
   "source": []
  }
 ],
 "metadata": {
  "kernelspec": {
   "display_name": "Python 3 (ipykernel)",
   "language": "python",
   "name": "python3"
  },
  "language_info": {
   "codemirror_mode": {
    "name": "ipython",
    "version": 3
   },
   "file_extension": ".py",
   "mimetype": "text/x-python",
   "name": "python",
   "nbconvert_exporter": "python",
   "pygments_lexer": "ipython3",
   "version": "3.10.8"
  }
 },
 "nbformat": 4,
 "nbformat_minor": 5
}
