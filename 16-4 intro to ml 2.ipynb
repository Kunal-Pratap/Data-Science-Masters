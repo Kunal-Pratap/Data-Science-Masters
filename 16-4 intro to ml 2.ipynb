{
 "cells": [
  {
   "cell_type": "markdown",
   "id": "496e0f46-f4f3-402d-90fa-f21f70066b8f",
   "metadata": {},
   "source": [
    "## Q1: Define overfitting and underfitting in machine learning. What are the consequences of each, and how can they be mitigated?"
   ]
  },
  {
   "cell_type": "code",
   "execution_count": 1,
   "id": "500b9834-2eab-4baa-9356-24bf7e3ad7f3",
   "metadata": {},
   "outputs": [],
   "source": [
    "## Overfitting:- When model works better in Training Dataset but does not work in Test data set.\n",
    "## Model might give wrong outputs.\n",
    "## Underfitting:- When model gives less accuracy in training data but good or average accuracy in test Dataset.\n",
    "## Model might give wrong outputs.\n",
    "## They can be mitigated by training the model more accurately."
   ]
  },
  {
   "cell_type": "markdown",
   "id": "3065ff0b-48c7-4f5d-9739-ff284b4337c8",
   "metadata": {},
   "source": [
    "## Q2: How can we reduce overfitting? Explain in brief."
   ]
  },
  {
   "cell_type": "code",
   "execution_count": 2,
   "id": "c7364857-cbcc-4741-b46a-5e13fd2eadba",
   "metadata": {},
   "outputs": [
    {
     "data": {
      "text/plain": [
       "'\\nOverfitting means high bias and high variance.\\nIt can be reduced by training the model with more training data and with more precision.\\nWe must tune the model so that it learns every minute details and gives correct output.\\nTo be perfect model it should be low bias and low variance.\\n'"
      ]
     },
     "execution_count": 2,
     "metadata": {},
     "output_type": "execute_result"
    }
   ],
   "source": [
    "'''\n",
    "Overfitting means high bias and high variance.\n",
    "It can be reduced by training the model with more training data and with more precision.\n",
    "We must tune the model so that it learns every minute details and gives correct output.\n",
    "To be perfect model it should be low bias and low variance.\n",
    "'''"
   ]
  },
  {
   "cell_type": "markdown",
   "id": "1ac17c9c-feee-4528-8e1f-f184e49a9868",
   "metadata": {},
   "source": [
    "## Q3: Explain underfitting. List scenarios where underfitting can occur in ML."
   ]
  },
  {
   "cell_type": "code",
   "execution_count": 3,
   "id": "2aae7eb7-86c4-4343-a40a-9f5f0b3c50c1",
   "metadata": {},
   "outputs": [],
   "source": [
    "## Underfitting occurs when Model accuracy is less in Training dataset, but it can be good in test Dataset.\n",
    "## When dataset of training is difficult but dataset of test is easy."
   ]
  },
  {
   "cell_type": "markdown",
   "id": "afb46e1d-5607-4901-808a-f4d9a338f704",
   "metadata": {},
   "source": [
    "## Q4: Explain the bias-variance tradeoff in machine learning. What is the relationship between bias and variance, and how do they affect model performance?"
   ]
  },
  {
   "cell_type": "code",
   "execution_count": 4,
   "id": "7c1e8d40-17cd-40c1-9711-b9362bbae376",
   "metadata": {},
   "outputs": [],
   "source": [
    "## Bias :- It tells about training Dataset.\n",
    "## Variance :- It tell about Test dataset.\n",
    "## When bias is low and variance is high the overfitting occurs.\n",
    "## When bias is high and variance is also high then underfitting occurs.\n",
    "## When bias is low and variance is low then general condition occurs."
   ]
  },
  {
   "cell_type": "markdown",
   "id": "52d86ae9-9c82-4dd0-b77f-57deef025da3",
   "metadata": {},
   "source": [
    "## Q5: Discuss some common methods for detecting overfitting and underfitting in machine learning models. How can you determine whether your model is overfitting or underfitting?"
   ]
  },
  {
   "cell_type": "code",
   "execution_count": 5,
   "id": "28bbe493-62d8-4e73-ab42-b8530adc9942",
   "metadata": {},
   "outputs": [],
   "source": [
    "## Detect by checking bias and variance.\n",
    "## Detect by checking accuracy of training and test."
   ]
  },
  {
   "cell_type": "markdown",
   "id": "de16c6fe-df1c-433e-b8c3-489ceb281c40",
   "metadata": {},
   "source": [
    "## Q6: Compare and contrast bias and variance in machine learning. What are some examples of high bias and high variance models, and how do they differ in terms of their performance?"
   ]
  },
  {
   "cell_type": "code",
   "execution_count": 6,
   "id": "80616fd1-04fd-4de2-84f1-b8ffa8909566",
   "metadata": {},
   "outputs": [],
   "source": [
    "## Bias :- It tells about training Dataset.\n",
    "## Variance :- It tell about Test dataset.\n",
    "## When bias is low and variance is high the overfitting occurs.\n",
    "## When bias is high and variance is also high then underfitting occurs.\n",
    "## When bias is low and variance is low then general condition occurs.\n",
    "\n",
    "##High bias:- linear Regression, Linear Discriminant Analysis and Logistic Regression.\n",
    "## High variance:- Decision Trees, k-Nearest Neighbors and Support Vector Machines"
   ]
  },
  {
   "cell_type": "markdown",
   "id": "affe0838-07f8-4b1c-b2bf-4e5506fb3ed7",
   "metadata": {},
   "source": [
    "## Q7: What is regularization in machine learning, and how can it be used to prevent overfitting? Describe some common regularization techniques and how they work."
   ]
  },
  {
   "cell_type": "code",
   "execution_count": 7,
   "id": "c2582e7f-be9b-485c-953e-80af816a0ab7",
   "metadata": {},
   "outputs": [],
   "source": [
    "## Regularization means process of regularizing the variables or parameters towards zero.\n",
    "## this technique discourages learning a more complex or flexible model, avoiding the risk of Overfitting.\n",
    "## L1 and l2 Are regularizing techniques."
   ]
  }
 ],
 "metadata": {
  "kernelspec": {
   "display_name": "Python 3 (ipykernel)",
   "language": "python",
   "name": "python3"
  },
  "language_info": {
   "codemirror_mode": {
    "name": "ipython",
    "version": 3
   },
   "file_extension": ".py",
   "mimetype": "text/x-python",
   "name": "python",
   "nbconvert_exporter": "python",
   "pygments_lexer": "ipython3",
   "version": "3.10.8"
  }
 },
 "nbformat": 4,
 "nbformat_minor": 5
}
