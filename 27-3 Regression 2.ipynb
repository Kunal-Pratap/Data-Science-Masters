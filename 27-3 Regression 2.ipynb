{
 "cells": [
  {
   "cell_type": "markdown",
   "id": "bb3168f0-5b3a-4e68-9326-e22ef61a9236",
   "metadata": {},
   "source": [
    "## Q1. Explain the concept of R-squared in linear regression models. How is it calculated, and what does it represent?"
   ]
  },
  {
   "cell_type": "code",
   "execution_count": 1,
   "id": "ee472d51-00ba-46d0-9936-6c4f6512d85d",
   "metadata": {},
   "outputs": [],
   "source": [
    "## R square is the numerical value which is used to check the performance of the linear regression.\n",
    "## The value of r square ranges from 0 to 1."
   ]
  },
  {
   "cell_type": "markdown",
   "id": "5b4e10e5-9c5e-4fcb-927e-869f72032a96",
   "metadata": {},
   "source": [
    "## Q2. Define adjusted R-squared and explain how it differs from the regular R-squared."
   ]
  },
  {
   "cell_type": "code",
   "execution_count": 2,
   "id": "512564a8-49a0-473c-8d1a-393b506dc467",
   "metadata": {},
   "outputs": [],
   "source": [
    "## Adjusted r square is also performance checking paramater of linear regression.\n",
    "## Adjusted r square value is always less than r square."
   ]
  },
  {
   "cell_type": "markdown",
   "id": "bffd131d-23cd-4764-a9c8-85f02c61a792",
   "metadata": {},
   "source": [
    "## Q3. When is it more appropriate to use adjusted R-squared?"
   ]
  },
  {
   "cell_type": "code",
   "execution_count": 3,
   "id": "3ea9ca31-68bc-4e5d-8f60-2b09091cda0f",
   "metadata": {},
   "outputs": [],
   "source": [
    "## Adjusted r square is used when we know the r square value.\n",
    "## And we also know about number of independent features."
   ]
  },
  {
   "cell_type": "markdown",
   "id": "728faa0e-1c07-4e8a-9931-ed359e958c97",
   "metadata": {},
   "source": [
    "## Q4. What are RMSE, MSE, and MAE in the context of regression analysis? How are these metrics calculated, and what do they represent?"
   ]
  },
  {
   "cell_type": "code",
   "execution_count": 4,
   "id": "17b260cc-d6fd-4e31-bc68-6095ba2c8250",
   "metadata": {},
   "outputs": [],
   "source": [
    "## MAE :- Mean Squared Error\n",
    "##        The error is colculated between predicted points and original points and error is squared and then mean is calculated.\n",
    "\n",
    "## MAE :- Mean Absolute Error\n",
    "##        The error is colculated between predicted points and original points and then mean is calculated.\n",
    "\n",
    "## RMSE :- Root Mean Squared Error\n",
    "##         The error is colculated between predicted points and original points and error is squared and then mean is calculated and then root is taken."
   ]
  },
  {
   "cell_type": "markdown",
   "id": "0fd3241d-3b98-43f7-9ef4-be1eaaa9f342",
   "metadata": {},
   "source": [
    "## Q5. Discuss the advantages and disadvantages of using RMSE, MSE, and MAE as evaluation metrics in regression analysis."
   ]
  },
  {
   "cell_type": "code",
   "execution_count": 5,
   "id": "51a54a63-5304-4730-a26c-1e1b68ae0d2d",
   "metadata": {},
   "outputs": [],
   "source": [
    "## Advantages:-\n",
    "## It is differentiable\n",
    "## It has one local and one global minima\n",
    "## It will be in the same unit\n",
    "\n",
    "## Disadvantages:- \n",
    "## convergence takes time.\n",
    "## Convergence is time consuming\n",
    "## Not robust to outliers."
   ]
  },
  {
   "cell_type": "markdown",
   "id": "5c15531f-566e-4160-8854-1dcf9b166a81",
   "metadata": {},
   "source": [
    "## Q6. Explain the concept of Lasso regularization. How does it differ from Ridge regularization, and when is it more appropriate to use?"
   ]
  },
  {
   "cell_type": "code",
   "execution_count": 6,
   "id": "d735d446-55d7-4dcd-b3fe-79c40fd98002",
   "metadata": {},
   "outputs": [],
   "source": [
    "## Lasso Regularization:-\n",
    "## L1 regularization\n",
    "## It is used for feature selection.\n",
    "## To remove features that are not correleted to output feature.\n",
    "## It is used when there are lot of features which are independent."
   ]
  },
  {
   "cell_type": "markdown",
   "id": "6ff4ceac-1bd1-43c8-9550-d8ed9dc90745",
   "metadata": {},
   "source": [
    "## Q7. How do regularized linear models help to prevent overfitting in machine learning? Provide an example to illustrate."
   ]
  },
  {
   "cell_type": "code",
   "execution_count": 7,
   "id": "71d7f034-194d-47ce-bd32-1b621872e52d",
   "metadata": {},
   "outputs": [],
   "source": [
    "## Regularized linear model helps to prevent overfitting in machine learning.\n",
    "## cost function is reduced to global minima.\n",
    "## all data points are brought in one unit. "
   ]
  },
  {
   "cell_type": "markdown",
   "id": "e46430ad-6046-4aec-975a-4f5db2cc82e7",
   "metadata": {
    "tags": []
   },
   "source": [
    "## Q8. Discuss the limitations of regularized linear models and explain why they may not always be the best choice for regression analysis."
   ]
  },
  {
   "cell_type": "code",
   "execution_count": 8,
   "id": "fa940125-60b6-4166-a69f-1be6895a813a",
   "metadata": {},
   "outputs": [],
   "source": [
    "## Some feaures might get lost in lasso regression.\n",
    "## Model might become overfitting."
   ]
  },
  {
   "cell_type": "markdown",
   "id": "7ee4f0bf-7a95-4d58-aaeb-f41085b4319c",
   "metadata": {},
   "source": [
    "## Q9. You are comparing the performance of two regression models using different evaluation metrics. Model A has an RMSE of 10, while Model B has an MAE of 8. Which model would you choose as the better performer, and why? Are there any limitations to your choice of metric?"
   ]
  },
  {
   "cell_type": "code",
   "execution_count": 9,
   "id": "bbf175e5-85c4-4e6e-b631-3fed97d5f257",
   "metadata": {},
   "outputs": [],
   "source": [
    "## we will consider model b as better performer.\n",
    "## We will shose model B as its mean absolute error is 8 which is less than model a RMSE that is 10.\n",
    "## So model b is better performer as we are getting less error."
   ]
  },
  {
   "cell_type": "markdown",
   "id": "bdaeaa6a-c536-4817-b561-78a67f6871e7",
   "metadata": {},
   "source": [
    "## Q10. You are comparing the performance of two regularized linear models using different types of regularization. Model A uses Ridge regularization with a regularization parameter of 0.1, while Model B uses Lasso regularization with a regularization parameter of 0.5. Which model would you choose as the better performer, and why? Are there any trade-offs or limitations to your choice of regularization method?"
   ]
  },
  {
   "cell_type": "code",
   "execution_count": 10,
   "id": "7a1f37cb-610a-493a-9efc-283c3e66886d",
   "metadata": {},
   "outputs": [],
   "source": [
    "## we will choose the model A.\n",
    "## As model a is having the regularization parameter of 0.1 and Model B with a regularization parameter of 0.5.\n",
    "## Less the value of regularization parameter that model is better for performance."
   ]
  }
 ],
 "metadata": {
  "kernelspec": {
   "display_name": "Python 3 (ipykernel)",
   "language": "python",
   "name": "python3"
  },
  "language_info": {
   "codemirror_mode": {
    "name": "ipython",
    "version": 3
   },
   "file_extension": ".py",
   "mimetype": "text/x-python",
   "name": "python",
   "nbconvert_exporter": "python",
   "pygments_lexer": "ipython3",
   "version": "3.10.8"
  }
 },
 "nbformat": 4,
 "nbformat_minor": 5
}
