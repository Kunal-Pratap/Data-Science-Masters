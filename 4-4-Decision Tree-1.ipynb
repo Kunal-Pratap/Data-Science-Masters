{
 "cells": [
  {
   "cell_type": "markdown",
   "id": "b79d3b11-39e5-4358-95a5-78a55c4888f6",
   "metadata": {},
   "source": [
    "## Decision Tree"
   ]
  },
  {
   "cell_type": "markdown",
   "id": "d9bba672-dfb1-424d-bd72-744cd1179f19",
   "metadata": {},
   "source": [
    "## Q1. Describe the decision tree classifier algorithm and how it works to make predictions."
   ]
  },
  {
   "cell_type": "code",
   "execution_count": 1,
   "id": "58f9dde9-cff4-425e-9de2-afcaeaa69306",
   "metadata": {},
   "outputs": [],
   "source": [
    "## It works on purity split check\n",
    "## It calculate entropy for each node\n",
    "## It also calculate Gini Impurity."
   ]
  },
  {
   "cell_type": "markdown",
   "id": "d5c07838-e445-4e7f-b630-ab0a48f872d2",
   "metadata": {},
   "source": [
    "## Q2. Provide a step-by-step explanation of the mathematical intuition behind decision tree classification."
   ]
  },
  {
   "cell_type": "code",
   "execution_count": 2,
   "id": "3ab119ab-1685-4ce3-a63e-90e5190a6c7b",
   "metadata": {},
   "outputs": [],
   "source": [
    "## First split is done on node.\n",
    "## Then for each node entropy or gini impurity is calculated.\n",
    "## If the value is 0 then it is pure split else it is impure split."
   ]
  },
  {
   "cell_type": "markdown",
   "id": "6efd40b7-5743-4a11-bf06-46a14bd099df",
   "metadata": {},
   "source": [
    "## Q3. Explain how a decision tree classifier can be used to solve a binary classification problem."
   ]
  },
  {
   "cell_type": "code",
   "execution_count": 3,
   "id": "602dded9-2764-4a51-802c-ae0823c603b9",
   "metadata": {},
   "outputs": [],
   "source": [
    "## First we perform purity split\n",
    "## If data is small then we go upto 2 or 3 levels down.\n",
    "## Then Information gain is calculated.\n",
    "## Then model is trained."
   ]
  },
  {
   "cell_type": "markdown",
   "id": "085ae2d4-397a-4a16-b75b-d334a9999e57",
   "metadata": {},
   "source": [
    "## Q4. Discuss the geometric intuition behind decision tree classification and how it can be used to make predictions."
   ]
  },
  {
   "cell_type": "code",
   "execution_count": 4,
   "id": "a1daf704-aa67-44a0-81e4-b7fad780bfbb",
   "metadata": {},
   "outputs": [],
   "source": [
    "## In classification data is categorical.\n",
    "## purity split check is done.\n",
    "## Entropy is calculated.\n",
    "## Then Information gain is calculated.\n",
    "## Whose information gain is grester is selected for splitting.\n",
    "## Then splitting is done bo different features.\n",
    "## Model is trained and predictions are done."
   ]
  },
  {
   "cell_type": "markdown",
   "id": "221e656f-6b32-4921-ad3f-71f0ecab1f23",
   "metadata": {},
   "source": [
    "## Q5. Define the confusion matrix and describe how it can be used to evaluate the performance of a classification model."
   ]
  },
  {
   "cell_type": "code",
   "execution_count": 5,
   "id": "5ae5d9b4-a4a5-488b-aec1-6d5a9ae7b2fe",
   "metadata": {},
   "outputs": [],
   "source": [
    "## Confusion matrics is a matrics which tells about accuracy.\n",
    "## We can calculate precision and recall using different cells of materics.\n",
    "## Thus this is how performancs is calculated."
   ]
  },
  {
   "cell_type": "markdown",
   "id": "7df03199-4dbe-428b-84a9-c77d114b5d93",
   "metadata": {},
   "source": [
    "## Q6. Provide an example of a confusion matrix and explain how precision, recall, and F1 score can be calculated from it."
   ]
  },
  {
   "cell_type": "code",
   "execution_count": 6,
   "id": "2472f95a-78f5-4231-a2d1-de991a89eb9f",
   "metadata": {},
   "outputs": [],
   "source": [
    "## Confusion matrics is a matrics which tells about accuracy.\n",
    "## We can calculate precision and recall using different cells of materics.\n",
    "## Precision is tp/tp+fp\n",
    "## Recall is tp/tp+fn"
   ]
  },
  {
   "cell_type": "markdown",
   "id": "70daf8e4-2570-4bfd-b481-a9c439c127a6",
   "metadata": {},
   "source": [
    "## Q7. Discuss the importance of choosing an appropriate evaluation metric for a classification problem and explain how this can be done."
   ]
  },
  {
   "cell_type": "code",
   "execution_count": 7,
   "id": "d25d5431-d413-4e1f-a7e6-18a84f51f319",
   "metadata": {},
   "outputs": [],
   "source": [
    "## It is imortant as it may reduce time complexity.\n",
    "## It may give high accuracy.\n",
    "## It can be done using grid search cv\n",
    "## It also can be done using Randomized search cv"
   ]
  },
  {
   "cell_type": "markdown",
   "id": "14b409b8-2f6c-49d8-87a7-a8f422638d5d",
   "metadata": {},
   "source": [
    "## Q8. Provide an example of a classification problem where precision is the most important metric, and explain why."
   ]
  },
  {
   "cell_type": "code",
   "execution_count": 8,
   "id": "8004d0d8-b596-48fa-864d-86870e9e5394",
   "metadata": {},
   "outputs": [],
   "source": [
    "## Precion is most important when False Positive is important.\n",
    "## If it is wrongly predicted then many problems can occur.\n",
    "## Spam classification"
   ]
  },
  {
   "cell_type": "markdown",
   "id": "99a3cc82-654a-4604-8d06-0db971a3b0ca",
   "metadata": {},
   "source": [
    "## Q9. Provide an example of a classification problem where recall is the most important metric, and explain why."
   ]
  },
  {
   "cell_type": "code",
   "execution_count": 9,
   "id": "e341e17e-41b1-4907-b613-1760d8b03006",
   "metadata": {},
   "outputs": [],
   "source": [
    "## Precion is most important when False Negative is important.\n",
    "## If it is wrongly predicted then many problems can occur.\n",
    "## Diabeties prediction."
   ]
  }
 ],
 "metadata": {
  "kernelspec": {
   "display_name": "Python 3 (ipykernel)",
   "language": "python",
   "name": "python3"
  },
  "language_info": {
   "codemirror_mode": {
    "name": "ipython",
    "version": 3
   },
   "file_extension": ".py",
   "mimetype": "text/x-python",
   "name": "python",
   "nbconvert_exporter": "python",
   "pygments_lexer": "ipython3",
   "version": "3.10.8"
  }
 },
 "nbformat": 4,
 "nbformat_minor": 5
}
