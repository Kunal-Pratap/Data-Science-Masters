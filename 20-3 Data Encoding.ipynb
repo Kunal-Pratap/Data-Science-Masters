{
 "cells": [
  {
   "cell_type": "markdown",
   "id": "56ba57d0-9d19-4162-93a8-b7124dd1c3e6",
   "metadata": {},
   "source": [
    "## Q1. What is data encoding? How is it useful in data science?"
   ]
  },
  {
   "cell_type": "code",
   "execution_count": 1,
   "id": "0b1a50c6-aaae-4125-92b1-8ada8ec84657",
   "metadata": {},
   "outputs": [],
   "source": [
    "## Data encoding is a method in which categorical values are converted ito mumerical values.\n",
    "## It is used in data science because categorical data is not understud by model so that data is converted into\n",
    "##    numerical data so model could understand it an used for training it."
   ]
  },
  {
   "cell_type": "markdown",
   "id": "1fc50876-390c-4f53-a820-80c4d53c69b8",
   "metadata": {},
   "source": [
    "## Q2. What is nominal encoding? Provide an example of how you would use it in a real-world scenario."
   ]
  },
  {
   "cell_type": "code",
   "execution_count": 2,
   "id": "5ed2d713-eab1-437e-984f-46a995c0a104",
   "metadata": {},
   "outputs": [],
   "source": [
    "## in nominal encoding if there are two catogaries then 0 and 1 values are assigned to them."
   ]
  },
  {
   "cell_type": "code",
   "execution_count": 4,
   "id": "522282cf-2433-4da3-baa5-e39a4ac71d5b",
   "metadata": {},
   "outputs": [],
   "source": [
    "import pandas as pd\n",
    "df = pd.DataFrame({'class':['red','blue','green','blue','red','green']})"
   ]
  },
  {
   "cell_type": "code",
   "execution_count": 5,
   "id": "621eb2e8-f3eb-4f83-a874-2f147b6a742a",
   "metadata": {},
   "outputs": [
    {
     "data": {
      "text/html": [
       "<div>\n",
       "<style scoped>\n",
       "    .dataframe tbody tr th:only-of-type {\n",
       "        vertical-align: middle;\n",
       "    }\n",
       "\n",
       "    .dataframe tbody tr th {\n",
       "        vertical-align: top;\n",
       "    }\n",
       "\n",
       "    .dataframe thead th {\n",
       "        text-align: right;\n",
       "    }\n",
       "</style>\n",
       "<table border=\"1\" class=\"dataframe\">\n",
       "  <thead>\n",
       "    <tr style=\"text-align: right;\">\n",
       "      <th></th>\n",
       "      <th>class</th>\n",
       "    </tr>\n",
       "  </thead>\n",
       "  <tbody>\n",
       "    <tr>\n",
       "      <th>0</th>\n",
       "      <td>red</td>\n",
       "    </tr>\n",
       "    <tr>\n",
       "      <th>1</th>\n",
       "      <td>blue</td>\n",
       "    </tr>\n",
       "    <tr>\n",
       "      <th>2</th>\n",
       "      <td>green</td>\n",
       "    </tr>\n",
       "    <tr>\n",
       "      <th>3</th>\n",
       "      <td>blue</td>\n",
       "    </tr>\n",
       "    <tr>\n",
       "      <th>4</th>\n",
       "      <td>red</td>\n",
       "    </tr>\n",
       "    <tr>\n",
       "      <th>5</th>\n",
       "      <td>green</td>\n",
       "    </tr>\n",
       "  </tbody>\n",
       "</table>\n",
       "</div>"
      ],
      "text/plain": [
       "   class\n",
       "0    red\n",
       "1   blue\n",
       "2  green\n",
       "3   blue\n",
       "4    red\n",
       "5  green"
      ]
     },
     "execution_count": 5,
     "metadata": {},
     "output_type": "execute_result"
    }
   ],
   "source": [
    "df"
   ]
  },
  {
   "cell_type": "code",
   "execution_count": 6,
   "id": "c7cdeaf4-93dc-4c65-92c3-e5f419cee228",
   "metadata": {},
   "outputs": [],
   "source": [
    "from sklearn.preprocessing import OneHotEncoder"
   ]
  },
  {
   "cell_type": "code",
   "execution_count": 7,
   "id": "be8c8ee0-76e1-4f47-a28c-5153468ef0b5",
   "metadata": {},
   "outputs": [],
   "source": [
    "encoder = OneHotEncoder()"
   ]
  },
  {
   "cell_type": "code",
   "execution_count": 9,
   "id": "e2b17e65-947c-4738-ae72-7477359d4fcc",
   "metadata": {},
   "outputs": [
    {
     "data": {
      "text/plain": [
       "array([[0., 0., 1.],\n",
       "       [1., 0., 0.],\n",
       "       [0., 1., 0.],\n",
       "       [1., 0., 0.],\n",
       "       [0., 0., 1.],\n",
       "       [0., 1., 0.]])"
      ]
     },
     "execution_count": 9,
     "metadata": {},
     "output_type": "execute_result"
    }
   ],
   "source": [
    "encoder.fit_transform(df[['class']]).toarray()"
   ]
  },
  {
   "cell_type": "markdown",
   "id": "3d38666c-0657-481f-ba4e-3f9616a8f871",
   "metadata": {},
   "source": [
    "## Q3. In what situations is nominal encoding preferred over one-hot encoding? Provide a practical example."
   ]
  },
  {
   "cell_type": "code",
   "execution_count": 10,
   "id": "25f7b461-fac9-4a62-9daa-0130c7b3ade1",
   "metadata": {},
   "outputs": [],
   "source": [
    "## When data is more in number but the categories are less."
   ]
  },
  {
   "cell_type": "markdown",
   "id": "bf879903-1306-428f-8c33-fea536bf40d2",
   "metadata": {},
   "source": [
    "## Q4. Suppose you have a dataset containing categorical data with 5 unique values. Which encoding technique would you use to transform this data into a format suitable for machine learning algorithms? Explain why you made this choice."
   ]
  },
  {
   "cell_type": "code",
   "execution_count": 11,
   "id": "468ff030-041e-4d60-8288-180062303be0",
   "metadata": {},
   "outputs": [],
   "source": [
    "## we can use ordinal encoding technique.\n",
    "## This method can be used because they will be assigned with numerical values from 0 to 4.\n",
    "## so model can understand the numerical data and it can take decitions."
   ]
  },
  {
   "cell_type": "markdown",
   "id": "032cf676-10fa-4948-a903-6db4a2a4e901",
   "metadata": {},
   "source": [
    "## Q5. In a machine learning project, you have a dataset with 1000 rows and 5 columns. Two of the columns are categorical, and the remaining three columns are numerical. If you were to use nominal encoding to transform the categorical data, how many new columns would be created? Show your calculations."
   ]
  },
  {
   "cell_type": "code",
   "execution_count": 12,
   "id": "57762cbc-ba3a-4091-b1b3-d972523c730d",
   "metadata": {},
   "outputs": [],
   "source": [
    "## There are total 5 columns\n",
    "## 3 are categorical and 2 are numerical\n",
    "## three new columns will be created."
   ]
  },
  {
   "cell_type": "markdown",
   "id": "6a5734bc-e53e-4481-83cd-1d9e5db580cc",
   "metadata": {},
   "source": [
    "## Q6. You are working with a dataset containing information about different types of animals, including their species, habitat, and diet. Which encoding technique would you use to transform the categorical data into a format suitable for machine learning algorithms? Justify your answer."
   ]
  },
  {
   "cell_type": "code",
   "execution_count": 13,
   "id": "3a3cb00e-6472-4ae3-81f5-fb27e808beb4",
   "metadata": {},
   "outputs": [],
   "source": [
    "## We will use target guided ordinal encoding.\n",
    "## This methos is used because if there are two or more data points with same category then mean of data is taken."
   ]
  },
  {
   "cell_type": "markdown",
   "id": "97004209-f8fb-4161-b5d4-519323313cc6",
   "metadata": {},
   "source": [
    "## Q7.You are working on a project that involves predicting customer churn for a telecommunications company. You have a dataset with 5 features, including the customer's gender, age, contract type, monthly charges, and tenure. Which encoding technique(s) would you use to transform the categorical data into numerical data? Provide a step-by-step explanation of how you would implement the encoding."
   ]
  },
  {
   "cell_type": "code",
   "execution_count": 14,
   "id": "2d46f309-cc95-48d2-a5ae-5d0edccd3ae2",
   "metadata": {},
   "outputs": [],
   "source": [
    "## we will use ordinal encoding.\n",
    "## data points are assigned the numerical values from 0 to till end.\n",
    "## then that converted data is used to train machine learning model."
   ]
  }
 ],
 "metadata": {
  "kernelspec": {
   "display_name": "Python 3 (ipykernel)",
   "language": "python",
   "name": "python3"
  },
  "language_info": {
   "codemirror_mode": {
    "name": "ipython",
    "version": 3
   },
   "file_extension": ".py",
   "mimetype": "text/x-python",
   "name": "python",
   "nbconvert_exporter": "python",
   "pygments_lexer": "ipython3",
   "version": "3.10.8"
  }
 },
 "nbformat": 4,
 "nbformat_minor": 5
}
