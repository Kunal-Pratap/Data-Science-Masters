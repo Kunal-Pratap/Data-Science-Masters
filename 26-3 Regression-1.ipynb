{
 "cells": [
  {
   "cell_type": "markdown",
   "id": "484126d8-4c61-47dc-81b8-4e3996384311",
   "metadata": {},
   "source": [
    "## Q1. Explain the difference between simple linear regression and multiple linear regression. Provide an example of each."
   ]
  },
  {
   "cell_type": "code",
   "execution_count": 1,
   "id": "920991b4-394c-4e6d-8a88-3e5a7701c14f",
   "metadata": {},
   "outputs": [],
   "source": [
    "## simple linear regression:-\n",
    "## In simple linear regression there is only one independent feature and one dependent feature.\n",
    "\n",
    "## multiple linear regression:-\n",
    "## In multiple linear regression there are multiple independent features and one dependent feature."
   ]
  },
  {
   "cell_type": "markdown",
   "id": "a97deac2-e8d8-4dc8-bf0e-9d6925c3c6a0",
   "metadata": {},
   "source": [
    "## Q2. Discuss the assumptions of linear regression. How can you check whether these assumptions hold in a given dataset?"
   ]
  },
  {
   "cell_type": "code",
   "execution_count": 2,
   "id": "8ed4052b-c482-4658-9c17-bb239d4179e6",
   "metadata": {},
   "outputs": [],
   "source": [
    "## 1) Data set follows linear distribution\n",
    "## 2) All values in data set follows normal distribution\n",
    "## We can check by finding graph of the dataset."
   ]
  },
  {
   "cell_type": "markdown",
   "id": "f098310f-197b-4e04-802d-1ed06e6dcca5",
   "metadata": {},
   "source": [
    "## Q3. How do you interpret the slope and intercept in a linear regression model? Provide an example using a real-world scenario."
   ]
  },
  {
   "cell_type": "code",
   "execution_count": 13,
   "id": "a4fc4515-b109-4aec-a35b-98ca60f1e6b0",
   "metadata": {},
   "outputs": [
    {
     "data": {
      "text/plain": [
       "<AxesSubplot: xlabel='x', ylabel='y'>"
      ]
     },
     "execution_count": 13,
     "metadata": {},
     "output_type": "execute_result"
    },
    {
     "data": {
      "image/png": "[encoded data removed]",
      "text/plain": [
       "<Figure size 640x480 with 1 Axes>"
      ]
     },
     "metadata": {},
     "output_type": "display_data"
    }
   ],
   "source": [
    "## Intercept is a value on y axis when x-axis value is 0.\n",
    "## slope is calculated by finding derivative.\n",
    "import pandas as pd\n",
    "df=pd.DataFrame({'x':[1,2,3],\n",
    "                 'y':[1,2,3]})\n",
    "import seaborn as sns\n",
    "sns.lineplot(x='x',y='y',data=df)"
   ]
  },
  {
   "cell_type": "markdown",
   "id": "cd3c60cf-a304-4fdd-a5fa-9e222a622cf6",
   "metadata": {},
   "source": [
    "## Q4. Explain the concept of gradient descent. How is it used in machine learning?"
   ]
  },
  {
   "cell_type": "code",
   "execution_count": 14,
   "id": "9344446c-2f25-43dd-826b-bfdacd5c7f47",
   "metadata": {},
   "outputs": [],
   "source": [
    "## Gradient descent is a curve. \n",
    "## It used to find the global minima and to find less error.\n",
    "## Convergence algorithm is used to reduce the value of cost function.\n",
    "## once the global minima is achieved then that value is chosen for finding best line."
   ]
  },
  {
   "cell_type": "markdown",
   "id": "5490f60a-f1aa-4ee9-ad6b-3fe094070b26",
   "metadata": {},
   "source": [
    "## Q5. Describe the multiple linear regression model. How does it differ from simple linear regression?"
   ]
  },
  {
   "cell_type": "code",
   "execution_count": 15,
   "id": "5ae336a2-5ec6-4be0-a8f5-78e2aa6ec014",
   "metadata": {},
   "outputs": [],
   "source": [
    "## I multiple linear regression multiple independent features are there which affect on output feature.\n",
    "## Data points are marked on three or multiple dimentions depending upon features.\n",
    "## Then that is converted into single plane and then best fit plane is selected."
   ]
  },
  {
   "cell_type": "markdown",
   "id": "6e836aa1-b08b-4ea7-a22f-08918af6563b",
   "metadata": {},
   "source": [
    "## Q6. Explain the concept of multicollinearity in multiple linear regression. How can you detect and address this issue?"
   ]
  },
  {
   "cell_type": "code",
   "execution_count": 18,
   "id": "f0b00fe7-32d5-4c25-a45c-13e07ce35ab0",
   "metadata": {},
   "outputs": [],
   "source": [
    "## Multicollinearity happens when independent variables in the regression model are highly correlated to each other. \n",
    "## It makes it hard to interpret of model and also creates an overfitting problem. \n",
    "## It is a common assumption that people test before selecting the variables into the regression model."
   ]
  },
  {
   "cell_type": "markdown",
   "id": "7008aaae-2f74-49a3-9924-d889710c0a83",
   "metadata": {},
   "source": [
    "## Q7. Describe the polynomial regression model. How is it different from linear regression?"
   ]
  },
  {
   "cell_type": "code",
   "execution_count": 16,
   "id": "99ac42f2-fcb4-4f39-b3e6-98ce63a77adc",
   "metadata": {},
   "outputs": [],
   "source": [
    "## If the data set does not follows linear pattern then Polynomial regression is used.\n",
    "## It follows non-linear pattern."
   ]
  },
  {
   "cell_type": "markdown",
   "id": "cca0df30-43b9-4d8c-ad81-0c14182a7f26",
   "metadata": {},
   "source": [
    "## Q8. What are the advantages and disadvantages of polynomial regression compared to linear regression? In what situations would you prefer to use polynomial regression?"
   ]
  },
  {
   "cell_type": "code",
   "execution_count": 17,
   "id": "0e36e024-eb4f-4f94-8c58-d139bd5b2534",
   "metadata": {},
   "outputs": [],
   "source": [
    "## It is used when data set follows non-linear distribution.\n",
    "## If data follows non linear pattern and if we use linear regression then error will be high.\n",
    "## So Polynominal regression is used."
   ]
  }
 ],
 "metadata": {
  "kernelspec": {
   "display_name": "Python 3 (ipykernel)",
   "language": "python",
   "name": "python3"
  },
  "language_info": {
   "codemirror_mode": {
    "name": "ipython",
    "version": 3
   },
   "file_extension": ".py",
   "mimetype": "text/x-python",
   "name": "python",
   "nbconvert_exporter": "python",
   "pygments_lexer": "ipython3",
   "version": "3.10.8"
  }
 },
 "nbformat": 4,
 "nbformat_minor": 5
}
