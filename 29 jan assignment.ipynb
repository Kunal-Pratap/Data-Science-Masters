{
 "cells": [
  {
   "cell_type": "markdown",
   "id": "ae78b647-fff5-4ca8-8a22-589a4187d202",
   "metadata": {},
   "source": [
    "### Q 1) Who developed python programming language."
   ]
  },
  {
   "cell_type": "markdown",
   "id": "9dbe8f12-e14f-44fc-9694-100532503a58",
   "metadata": {},
   "source": [
    "#### Ans:- Python programming language was developed by Guido van Rossum"
   ]
  },
  {
   "cell_type": "markdown",
   "id": "d353ca1b-3ba1-4c6b-b316-77489598eda3",
   "metadata": {},
   "source": [
    "### Q 2) Which type of programming does python support."
   ]
  },
  {
   "cell_type": "markdown",
   "id": "356730ea-8d7a-4160-a6d6-4308ac39c46a",
   "metadata": {},
   "source": [
    "#### Ans:- Pyton is an interpreted programming language, supporting object oriented, structed, and functional                        programming. And it is dynamically typed language. "
   ]
  },
  {
   "cell_type": "markdown",
   "id": "83a32117-3652-4503-8af4-3c96781db20d",
   "metadata": {},
   "source": [
    "### Q 3) Is Python case sensitive in case of identifiers."
   ]
  },
  {
   "cell_type": "markdown",
   "id": "55e94f67-b83f-4e38-a54e-4be45c32f3b8",
   "metadata": {},
   "source": [
    "#### Ans:- Python is case sensitive language. ex:- abc='name' and ABC='batch', abc and ABC are two different variables which stores different values. They both have different id. So identifers are case sensitive"
   ]
  },
  {
   "cell_type": "markdown",
   "id": "cfacfac4-2334-4c05-9a31-7c9551c117dc",
   "metadata": {},
   "source": [
    "### Q 4) What is correct extension of Python files."
   ]
  },
  {
   "cell_type": "markdown",
   "id": "4a2fac54-dbbb-4c47-aa99-0d33a798702d",
   "metadata": {},
   "source": [
    "#### Ans:- The correct extension of Python file is ( .py. Example:- sample.py"
   ]
  },
  {
   "cell_type": "markdown",
   "id": "095e185a-8b58-4a4a-a70d-b317ac2766f5",
   "metadata": {},
   "source": [
    "### Q 5) Is python code compiled or interpreted."
   ]
  },
  {
   "cell_type": "markdown",
   "id": "d363cab3-fd4e-4d59-8fb7-0415444191d5",
   "metadata": {},
   "source": [
    "#### Ans:- Python is interpreted language."
   ]
  },
  {
   "cell_type": "markdown",
   "id": "0bd2c0b2-795d-4918-a066-f2df3f391d00",
   "metadata": {},
   "source": [
    "### Q 6)Name the few block of code used to define in python language?"
   ]
  },
  {
   "cell_type": "markdown",
   "id": "6d3554e2-c353-45d1-966f-0774213c2c50",
   "metadata": {},
   "source": [
    "#### Indentation is used to define block of code in Python. So it makes unique in all languages."
   ]
  },
  {
   "cell_type": "markdown",
   "id": "539d3f2e-2fba-46a4-b586-375715883ecc",
   "metadata": {},
   "source": [
    "### Q.7) State a character used to give single-line comments in Python."
   ]
  },
  {
   "cell_type": "markdown",
   "id": "36e7c43b-7e21-40e2-bd64-d806fb079b51",
   "metadata": {},
   "source": [
    "#### Ans:- ## is used to give single-line comment in Python."
   ]
  },
  {
   "cell_type": "markdown",
   "id": "ad1d65aa-45f0-4754-b6d0-c305316df495",
   "metadata": {},
   "source": [
    "### Q.8) Mention function which can help us to find the version of python that we are currently working on?"
   ]
  },
  {
   "cell_type": "markdown",
   "id": "03b8a596-3d64-41b9-8879-6d10b8e745a8",
   "metadata": {},
   "source": [
    "#### Ans:- The function sys.version is used to find the version of python that we are currently working on."
   ]
  },
  {
   "cell_type": "markdown",
   "id": "1f36c848-aa98-48c0-9393-2c448a896e90",
   "metadata": {},
   "source": [
    "### Q.9) Python supports the creation of anonymus function at runtime, using constract called"
   ]
  },
  {
   "cell_type": "markdown",
   "id": "fb90c9a9-d068-463d-8602-7039a90cc855",
   "metadata": {},
   "source": [
    "#### Ans:- It uses constract called \"lambda\""
   ]
  },
  {
   "cell_type": "markdown",
   "id": "20906b7f-cb5e-439f-bb1b-06c2e0d06683",
   "metadata": {},
   "source": [
    "### Q.10) What does pip stands for python"
   ]
  },
  {
   "cell_type": "markdown",
   "id": "797c8062-b179-421c-8446-80e21de03982",
   "metadata": {},
   "source": [
    "#### Ans:- pip stands for preferred installer program."
   ]
  },
  {
   "cell_type": "markdown",
   "id": "672990da-a300-4ade-af60-b97c56308ef6",
   "metadata": {},
   "source": [
    "### Q.11) Mention few built in functions in python."
   ]
  },
  {
   "cell_type": "markdown",
   "id": "5edfd06c-ccac-4a5d-a7e2-f9e71af83feb",
   "metadata": {},
   "source": [
    "#### Ans:- Built in fuctions in python are print(), input(), len(), range(), pop()."
   ]
  },
  {
   "cell_type": "markdown",
   "id": "3f6ef8b5-d5b4-47b1-a93d-eb7aa4935b1e",
   "metadata": {},
   "source": [
    "### Q.12) What is maximum possible length of identifier in python."
   ]
  },
  {
   "cell_type": "markdown",
   "id": "3e93f325-b7a5-429b-a5b6-8af041a2ae3b",
   "metadata": {},
   "source": [
    "#### Ans:- Maximum possible length of identifier is 32."
   ]
  },
  {
   "cell_type": "markdown",
   "id": "05eea64c-72ba-4eb7-ba84-c71d38cc5f9a",
   "metadata": {},
   "source": [
    "### Q.13) What are benifits of using python."
   ]
  },
  {
   "cell_type": "markdown",
   "id": "ca4b690e-a2d9-43cc-ae89-4dae83d5dd24",
   "metadata": {},
   "source": [
    "#### Ans:- 1)Python is dynamically typed language. 2)There are different libraries which helps to build machine learning models. 3) Python is very easy language. 4)Syntax of python is just like english language.\n"
   ]
  },
  {
   "cell_type": "markdown",
   "id": "2a9ccd3d-0406-4634-ab12-12212c8b11ad",
   "metadata": {},
   "source": [
    "### Q.14) How is memory managed in python."
   ]
  },
  {
   "cell_type": "markdown",
   "id": "4a3f6c84-a0fd-4a19-9b17-989a002dbd1b",
   "metadata": {},
   "source": [
    "#### Ans:- Memory management in Python involves a private heap containing all Python objects and data structures. The management of this private heap is ensured internally by the Python memory manager."
   ]
  },
  {
   "cell_type": "markdown",
   "id": "010e4f0e-49d8-48dc-981d-27db83bcf278",
   "metadata": {},
   "source": [
    "### Q.15) How to install python on windows and set path variables."
   ]
  },
  {
   "cell_type": "markdown",
   "id": "8255943e-1a5c-463e-8091-3e106ed99080",
   "metadata": {},
   "source": [
    "#### Ans:- 1)Go to official python website. 2)Click on download for windows. 3)exe file will be downloaded. 4)open file and install windows.\n",
    "#### How to add path:-\n",
    "##### 1. Right-clicking This PC and going to Properties.\n",
    "##### 2. Clicking on the Advanced system settings in the menu on the left.\n",
    "##### 3. Clicking on the Environment Variables button o​n the bottom right.\n",
    "##### 4. In the System variables section, selecting the Path variable and clicking on Edit. The next screen will show all the directories that are currently a part of the PATH variable.\n",
    "##### 5. Clicking on New and entering Python’s install directory."
   ]
  },
  {
   "cell_type": "markdown",
   "id": "5b440f20-1152-4728-8b6d-81f3453daaab",
   "metadata": {},
   "source": [
    "### Q.16) Is indentation required in python."
   ]
  },
  {
   "cell_type": "markdown",
   "id": "54bdbbb0-cc8d-4259-98e1-23bd09d5af46",
   "metadata": {},
   "source": [
    "#### Ans:- Yes indentation is required in python. If proper indent is not given then error occurs. "
   ]
  },
  {
   "cell_type": "code",
   "execution_count": null,
   "id": "b951f48c-9f3a-45f4-86a7-21ee93768fb1",
   "metadata": {},
   "outputs": [],
   "source": []
  }
 ],
 "metadata": {
  "kernelspec": {
   "display_name": "Python 3 (ipykernel)",
   "language": "python",
   "name": "python3"
  },
  "language_info": {
   "codemirror_mode": {
    "name": "ipython",
    "version": 3
   },
   "file_extension": ".py",
   "mimetype": "text/x-python",
   "name": "python",
   "nbconvert_exporter": "python",
   "pygments_lexer": "ipython3",
   "version": "3.10.8"
  }
 },
 "nbformat": 4,
 "nbformat_minor": 5
}
