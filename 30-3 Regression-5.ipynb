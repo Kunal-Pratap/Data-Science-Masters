{
 "cells": [
  {
   "cell_type": "markdown",
   "id": "58229f79-25e6-4288-9e14-1e6436ae23ed",
   "metadata": {},
   "source": [
    "## Q1. What is Elastic Net Regression and how does it differ from other regression techniques?"
   ]
  },
  {
   "cell_type": "code",
   "execution_count": 1,
   "id": "711c68f3-f67a-4bb9-866a-6ab1a9303389",
   "metadata": {},
   "outputs": [],
   "source": [
    "## Elastic net regression is combination of both lasso regression and ridge regression.\n",
    "## It reduces overfitting and also it does feature selection."
   ]
  },
  {
   "cell_type": "markdown",
   "id": "538d6878-0898-4c35-b597-610e137cd5f8",
   "metadata": {},
   "source": [
    "## Q2. How do you choose the optimal values of the regularization parameters for Elastic Net Regression?"
   ]
  },
  {
   "cell_type": "code",
   "execution_count": 3,
   "id": "e5b3312b-4203-4cfe-968c-92f39ba47396",
   "metadata": {},
   "outputs": [],
   "source": [
    "## We choose lambda as 1\n",
    "## Also we choose theeta as 0."
   ]
  },
  {
   "cell_type": "markdown",
   "id": "a7b962d7-12cd-44e4-b55e-55e8462a402a",
   "metadata": {},
   "source": [
    "## Q3. What are the advantages and disadvantages of Elastic Net Regression?"
   ]
  },
  {
   "cell_type": "code",
   "execution_count": 4,
   "id": "cfad0f90-94bd-4a42-ab0d-05f059278306",
   "metadata": {},
   "outputs": [],
   "source": [
    "## Advantages:-\n",
    "## It reduces overfitting condition.\n",
    "## It does feature selection.\n",
    "\n",
    "## Disadvantages:- \n",
    "##  disadvantage of the classical elastic net is that the sequential cross-validation procedure used to \n",
    "##       determine the penalty parameters results in overshrinkage of the coefficients."
   ]
  },
  {
   "cell_type": "markdown",
   "id": "4c73d322-078f-4a6c-aba0-53ae97ea9309",
   "metadata": {},
   "source": [
    "## Q4. What are some common use cases for Elastic Net Regression?"
   ]
  },
  {
   "cell_type": "code",
   "execution_count": 5,
   "id": "f92b0fbc-fb5d-4f07-937c-ac79a3f91863",
   "metadata": {},
   "outputs": [],
   "source": [
    "## Sales Forecasting.\n",
    "## Risk Analysis.\n",
    "## Housing Applications To Predict the prices and other factors.\n",
    "## Finance Applications To Predict Stock prices, investment evaluation"
   ]
  },
  {
   "cell_type": "markdown",
   "id": "07398271-0f2d-408a-b23c-d24d73eea69c",
   "metadata": {},
   "source": [
    "## Q5. How do you interpret the coefficients in Elastic Net Regression?"
   ]
  },
  {
   "cell_type": "code",
   "execution_count": 6,
   "id": "30366303-947c-4290-bbe8-2d1bcb7d3625",
   "metadata": {},
   "outputs": [],
   "source": [
    "## there are two coefficient of ridge regression.\n",
    "## Intercept:- Point on y axis where best fit line cuts.\n",
    "## Slope :- Slope of line at any point. "
   ]
  },
  {
   "cell_type": "markdown",
   "id": "02410d5f-bfda-4fbf-9b3d-a7a265d362f8",
   "metadata": {},
   "source": [
    "## Q6. How do you handle missing values when using Elastic Net Regression?"
   ]
  },
  {
   "cell_type": "code",
   "execution_count": 7,
   "id": "8023214d-f2dc-4e01-b971-9c607aa552c2",
   "metadata": {},
   "outputs": [],
   "source": [
    "## If there is lot of data then we drop that rows.\n",
    "## We add the mean of that column if data points follows bell curve.\n",
    "## We add mode of the column if data is categorical.\n",
    "## We add the median if data has the outliers."
   ]
  },
  {
   "cell_type": "markdown",
   "id": "f0525518-6809-405f-8dd1-f367c12da9ff",
   "metadata": {},
   "source": [
    "## Q7. How do you use Elastic Net Regression for feature selection?"
   ]
  },
  {
   "cell_type": "code",
   "execution_count": 8,
   "id": "ad707271-a9d3-4000-a259-bdbdc27afe12",
   "metadata": {},
   "outputs": [],
   "source": [
    "## It works as lasso regression at the time of feature selection.\n",
    "## Select the indepedent feature which is highly correleted with output feature.\n",
    "## It removes the independent feature which are less correleted with output feature."
   ]
  },
  {
   "cell_type": "markdown",
   "id": "85e1edd1-b80d-43fc-b796-80da9d01e260",
   "metadata": {},
   "source": [
    "## Q8. How do you pickle and unpickle a trained Elastic Net Regression model in Python?"
   ]
  },
  {
   "cell_type": "code",
   "execution_count": 9,
   "id": "45326891-05df-4c55-ba3f-54ae90786338",
   "metadata": {},
   "outputs": [],
   "source": [
    "## We import pickle.\n",
    "## Then we open a file and dump the model in that file.\n",
    "## And then we use that pickle file for further use."
   ]
  },
  {
   "cell_type": "markdown",
   "id": "f7ed9961-caad-4500-ae26-e42fa974a3ca",
   "metadata": {},
   "source": [
    "## Q9. What is the purpose of pickling a model in machine learning?"
   ]
  },
  {
   "cell_type": "code",
   "execution_count": 10,
   "id": "3c46ebf7-b387-4e99-95e6-b72539506c6f",
   "metadata": {},
   "outputs": [],
   "source": [
    "## To access the complete model from single file name.\n",
    "## Use it to deploy on cloud platform for ferthur use."
   ]
  }
 ],
 "metadata": {
  "kernelspec": {
   "display_name": "Python 3 (ipykernel)",
   "language": "python",
   "name": "python3"
  },
  "language_info": {
   "codemirror_mode": {
    "name": "ipython",
    "version": 3
   },
   "file_extension": ".py",
   "mimetype": "text/x-python",
   "name": "python",
   "nbconvert_exporter": "python",
   "pygments_lexer": "ipython3",
   "version": "3.10.8"
  }
 },
 "nbformat": 4,
 "nbformat_minor": 5
}
