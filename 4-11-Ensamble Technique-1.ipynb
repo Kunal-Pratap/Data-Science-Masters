{
 "cells": [
  {
   "cell_type": "markdown",
   "id": "3de4448e-a213-4b25-906f-5a361c979af9",
   "metadata": {},
   "source": [
    "## Ensamble Technique -1 "
   ]
  },
  {
   "cell_type": "markdown",
   "id": "392e7bd2-5fb9-4765-8386-b9b0b5e4a2bb",
   "metadata": {},
   "source": [
    "## Q1. What is an ensemble technique in machine learning?"
   ]
  },
  {
   "cell_type": "code",
   "execution_count": 1,
   "id": "a29b6d2d-129d-414c-a21b-02426110d784",
   "metadata": {},
   "outputs": [],
   "source": [
    "## Number of machine learning algorithms are used together to train the model.\n",
    "## Mostly decision tree is used"
   ]
  },
  {
   "cell_type": "markdown",
   "id": "f3343244-355a-4784-8fcf-0b2c1398518d",
   "metadata": {},
   "source": [
    "## Q2. Why are ensemble techniques used in machine learning?"
   ]
  },
  {
   "cell_type": "code",
   "execution_count": 2,
   "id": "481ef6e8-e2dc-456f-846e-e36c2946053e",
   "metadata": {},
   "outputs": [],
   "source": [
    "## Ensamble technique are used in machine learning so as to get maximum accuracy of model.\n",
    "## To train the model well."
   ]
  },
  {
   "cell_type": "markdown",
   "id": "71c08c77-c9f0-4a26-ae5a-44085615e077",
   "metadata": {},
   "source": [
    "## Q3. What is bagging?"
   ]
  },
  {
   "cell_type": "code",
   "execution_count": 3,
   "id": "9950f240-cd19-4fa2-b83b-50acc0d3eb87",
   "metadata": {},
   "outputs": [],
   "source": [
    "## Bagging is a technique used to reduce variance."
   ]
  },
  {
   "cell_type": "markdown",
   "id": "371ba23d-c41e-47be-acdd-baa94524bc53",
   "metadata": {},
   "source": [
    "## Q4. What is boosting?"
   ]
  },
  {
   "cell_type": "code",
   "execution_count": 4,
   "id": "2954a9a8-e90a-41fb-bb21-d220f3ce41db",
   "metadata": {},
   "outputs": [],
   "source": [
    "## Boosting is a method used in machine learning to reduce errors in predictive data analysis."
   ]
  },
  {
   "cell_type": "markdown",
   "id": "1a1e9c82-175e-452f-9157-f4e9712e056a",
   "metadata": {},
   "source": [
    "## Q5. What are the benefits of using ensemble techniques?"
   ]
  },
  {
   "cell_type": "code",
   "execution_count": 5,
   "id": "760c0876-7131-4067-8602-a681370d96fe",
   "metadata": {},
   "outputs": [],
   "source": [
    "## Accuracy is increased.\n",
    "## Model is trained well on training data .\n",
    "## Also gives correct prediction."
   ]
  },
  {
   "cell_type": "markdown",
   "id": "28d269e5-bf12-4c14-b785-e20a0dcdfc0c",
   "metadata": {},
   "source": [
    "## Q6. Are ensemble techniques always better than individual models?"
   ]
  },
  {
   "cell_type": "code",
   "execution_count": 6,
   "id": "adb279db-8000-4214-88ef-ee4d660ad7c7",
   "metadata": {},
   "outputs": [],
   "source": [
    "## Yes ensemble techniques are always better than individual models\n",
    "## As lot of models are trained together in ensamble technique so it gives better result."
   ]
  },
  {
   "cell_type": "markdown",
   "id": "fd411542-7761-446c-9ca3-5f241340a970",
   "metadata": {},
   "source": [
    "## Q7. How is the confidence interval calculated using bootstrap?"
   ]
  },
  {
   "cell_type": "code",
   "execution_count": 7,
   "id": "2e0299d0-cbbd-4861-a91f-abd8e6b361d1",
   "metadata": {},
   "outputs": [],
   "source": [
    "## Once the standard error is calculated, the confidence interval is determined by multiplying the standard error \n",
    "## by a constant that reflects the level of significance desired, based on the normal distribution. \n",
    "## The constant for 95 percent confidence intervals is 1.96."
   ]
  },
  {
   "cell_type": "markdown",
   "id": "9fb39875-9208-4e85-b5ce-de578fb55346",
   "metadata": {},
   "source": [
    "## Q8. How does bootstrap work and What are the steps involved in bootstrap?"
   ]
  },
  {
   "cell_type": "code",
   "execution_count": 8,
   "id": "7530f585-2684-4ce8-9067-187d4b1b6529",
   "metadata": {},
   "outputs": [],
   "source": [
    "## bootstrapping is a method of inferring results for a population from results found on a collection of \n",
    "## smaller random samples of the population, using replacement during the sampling process."
   ]
  },
  {
   "cell_type": "markdown",
   "id": "bcc60a02-19c8-4e1b-a8de-bdf6c9bbe6f3",
   "metadata": {},
   "source": [
    "## Q9. A researcher wants to estimate the mean height of a population of trees. They measure the height of a sample of 50 trees and obtain a mean height of 15 meters and a standard deviation of 2 meters. Use bootstrap to estimate the 95% confidence interval for the population mean height."
   ]
  },
  {
   "cell_type": "code",
   "execution_count": 9,
   "id": "ec7ea78e-1674-4435-a42d-6e8ee03c4951",
   "metadata": {},
   "outputs": [],
   "source": [
    "## 15 + 2/Root(50) = 15.2828"
   ]
  }
 ],
 "metadata": {
  "kernelspec": {
   "display_name": "Python 3 (ipykernel)",
   "language": "python",
   "name": "python3"
  },
  "language_info": {
   "codemirror_mode": {
    "name": "ipython",
    "version": 3
   },
   "file_extension": ".py",
   "mimetype": "text/x-python",
   "name": "python",
   "nbconvert_exporter": "python",
   "pygments_lexer": "ipython3",
   "version": "3.10.8"
  }
 },
 "nbformat": 4,
 "nbformat_minor": 5
}
