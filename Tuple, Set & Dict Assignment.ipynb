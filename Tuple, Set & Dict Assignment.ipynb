{
 "cells": [
  {
   "cell_type": "markdown",
   "id": "22bc2273-f8ce-4edd-9796-4c5dd30bf027",
   "metadata": {},
   "source": [
    "## Q.1) What are the characteristics of the tuples? Is tuple immutable?"
   ]
  },
  {
   "cell_type": "code",
   "execution_count": 2,
   "id": "f130cb8d-34d2-44f9-a038-1808fad86894",
   "metadata": {},
   "outputs": [],
   "source": [
    "'''\n",
    "- Tuple contains set of elements of different data types.\n",
    "- Tuple contains data which is not to be modified.\n",
    "- Elements of tuple can be accessed using indexing.\n",
    "\n",
    "Tuple is not mutable.\n",
    "We cannot make changes in elements of tuple.\n",
    "'''\n",
    "t=(1,2,3)"
   ]
  },
  {
   "cell_type": "code",
   "execution_count": 4,
   "id": "77bf383e-5221-4f8b-a74d-45b662ea71dc",
   "metadata": {},
   "outputs": [
    {
     "name": "stdout",
     "output_type": "stream",
     "text": [
      "(1, 2, 3)\n",
      "<class 'tuple'>\n"
     ]
    }
   ],
   "source": [
    "print(t)\n",
    "print(type(t))"
   ]
  },
  {
   "cell_type": "markdown",
   "id": "5b0968e8-84ef-4d98-be81-5f087f89f5f3",
   "metadata": {},
   "source": [
    "### Q2. What are the two tuple methods in python? Give an example of each method. Give a reason why tuples have only two in-built methods as compared to Lists."
   ]
  },
  {
   "cell_type": "code",
   "execution_count": 8,
   "id": "d6f4a308-27a0-4947-811e-b45c268fdd23",
   "metadata": {},
   "outputs": [],
   "source": [
    "'''\n",
    "There are two tuple methods:-\n",
    "1) count function\n",
    "2) index function\n",
    "'''\n",
    "'''\n",
    "1)Count function:-\n",
    "  This function is is used to count number of occurence of perticular value.\n",
    "\n",
    "2)Index function:-\n",
    "  This function returns the index of first occurance of perticular element.\n",
    "'''\n",
    "\n",
    "\"\"\"\n",
    "Tuples have only two methods as they are immutable and list have many methods because list is mutable so we can do \n",
    "any changes in list.\n",
    "\"\"\"\n",
    "t=(2,1,3,5,2,4,2,3,1)"
   ]
  },
  {
   "cell_type": "code",
   "execution_count": 5,
   "id": "fb745c33-dbf3-4769-a4ed-94157b1280c7",
   "metadata": {},
   "outputs": [
    {
     "name": "stdout",
     "output_type": "stream",
     "text": [
      "3\n",
      "1\n"
     ]
    }
   ],
   "source": [
    "t=(2,1,3,5,2,4,2,3,1)\n",
    "print(t.count(2))\n",
    "print(t.index(1))"
   ]
  },
  {
   "cell_type": "markdown",
   "id": "7710c402-1abf-4362-b6e2-202de08f4cf7",
   "metadata": {},
   "source": [
    "## Q3. Which collection datatypes in python do not allow duplicate items? Write a code using a set to remove duplicates from the given list.\n",
    "### List = [1, 1, 1, 2, 1, 3, 1, 4, 2, 1, 2, 2, 2, 3, 2, 4, 3, 1, 3, 2, 3, 3, 3, 4, 4, 1, 4, 2, 4, 3, 4, 4]"
   ]
  },
  {
   "cell_type": "code",
   "execution_count": 12,
   "id": "6b6a3e17-c456-4029-a48b-48373be47685",
   "metadata": {},
   "outputs": [
    {
     "name": "stdout",
     "output_type": "stream",
     "text": [
      "{1, 2, 3, 4}\n"
     ]
    }
   ],
   "source": [
    "## Set does not allow duplicate items in python.\n",
    "List = [1, 1, 1, 2, 1, 3, 1, 4, 2, 1, 2, 2, 2, 3, 2, 4, 3, 1, 3, 2, 3, 3, 3, 4, 4, 1, 4, 2, 4, 3, 4, 4]\n",
    "set1=set(List)\n",
    "print(set1)"
   ]
  },
  {
   "cell_type": "markdown",
   "id": "3d1814b6-78ec-4028-83b1-077736776439",
   "metadata": {},
   "source": [
    "## Q4. Explain the difference between the union() and update() methods for a set. Give an example of each method."
   ]
  },
  {
   "cell_type": "code",
   "execution_count": 25,
   "id": "04e5c363-48a3-4c1c-919b-e638542d8722",
   "metadata": {},
   "outputs": [],
   "source": [
    "'''\n",
    "1) union() method:-\n",
    "   Consider two sets A and B. This method gives the set which contains the elements from both the sets but no \n",
    "   elements are repeated.\n",
    "   - This method gives new set.\n",
    "2) update() method:- \n",
    "   Consider two sets A and B. If we write a.update(b) then elements of b are added to a, and vice versa.\n",
    "   - This method modifies original set.\n",
    "'''\n",
    "a={1,2,3,4}\n",
    "b={1,2,'PW',12.5,'krish'}"
   ]
  },
  {
   "cell_type": "code",
   "execution_count": 17,
   "id": "919f180c-dc52-40ee-817b-913e9869f202",
   "metadata": {},
   "outputs": [
    {
     "data": {
      "text/plain": [
       "{1, 12.5, 2, 3, 4, 'PW', 'krish'}"
      ]
     },
     "execution_count": 17,
     "metadata": {},
     "output_type": "execute_result"
    }
   ],
   "source": [
    "## union method\n",
    "a.union(b)"
   ]
  },
  {
   "cell_type": "code",
   "execution_count": 26,
   "id": "8a2b28b3-9f1b-44d6-859c-f1ce00b5b19b",
   "metadata": {},
   "outputs": [],
   "source": [
    "## update method\n",
    "a.update(b)\n",
    "b.update(a)"
   ]
  },
  {
   "cell_type": "code",
   "execution_count": 24,
   "id": "0739e667-332b-4346-a75f-429bcdbcc40d",
   "metadata": {},
   "outputs": [
    {
     "name": "stdout",
     "output_type": "stream",
     "text": [
      "{1, 2, 3, 4, 'krish', 'PW', 12.5}\n",
      "{1, 2, 'krish', 3, 4, 'PW', 12.5}\n"
     ]
    }
   ],
   "source": [
    "print(a)\n",
    "print(b)"
   ]
  },
  {
   "cell_type": "markdown",
   "id": "bdacbe27-e564-4f02-9dd8-7046a22f83a9",
   "metadata": {},
   "source": [
    "## Q5. What is a dictionary? Give an example. Also, state whether a dictionary is ordered or unordered."
   ]
  },
  {
   "cell_type": "code",
   "execution_count": 27,
   "id": "f5f7968e-a9fe-40fb-8558-95b6ee998bae",
   "metadata": {},
   "outputs": [
    {
     "name": "stdout",
     "output_type": "stream",
     "text": [
      "{'name': 'kunal', 'roll_no': 56, 'batch': 'Data Science'}\n",
      "<class 'dict'>\n"
     ]
    }
   ],
   "source": [
    "'''\n",
    "- Dictionary is collection of ordered pairs of key and values.\n",
    "- It is written in curly brackets.\n",
    "- Syntax:- dict={'key1':'value1','key2':'value2'}\n",
    "\n",
    "- Dictionary is unordered collection of elements.\n",
    "- We cannot access elements by index.\n",
    "- We need to access values by key.\n",
    "'''\n",
    "dict={'name':'kunal','roll_no':56,'batch':'Data Science'}\n",
    "print(dict)\n",
    "print(type(dict))"
   ]
  },
  {
   "cell_type": "markdown",
   "id": "442932e6-f278-4d6e-8f86-dfb3235edc40",
   "metadata": {},
   "source": [
    "## Q6. Can we create a nested dictionary? If so, please give an example by creating a simple one-level nested dictionary."
   ]
  },
  {
   "cell_type": "code",
   "execution_count": 28,
   "id": "db9bb7fd-7202-4bbb-9f76-f8070d998f06",
   "metadata": {},
   "outputs": [
    {
     "data": {
      "text/plain": [
       "{'name': 'krish', 'key': {1: 'one', 2: 'two', 3: 'three', 4: 'four'}}"
      ]
     },
     "execution_count": 28,
     "metadata": {},
     "output_type": "execute_result"
    }
   ],
   "source": [
    "## Yes we can create nested dictionary.\n",
    "dict1={'name':'krish',\"key\":{1:\"one\",2:'two',3:'three',4:'four'}}\n",
    "dict1"
   ]
  },
  {
   "cell_type": "code",
   "execution_count": 29,
   "id": "53b08602-b0ce-444f-9969-c5c58505f048",
   "metadata": {},
   "outputs": [
    {
     "data": {
      "text/plain": [
       "{1: 'one', 2: 'two', 3: 'three', 4: 'four'}"
      ]
     },
     "execution_count": 29,
     "metadata": {},
     "output_type": "execute_result"
    }
   ],
   "source": [
    "dict1['key']"
   ]
  },
  {
   "cell_type": "markdown",
   "id": "03e38318-2084-4050-94b7-6bccca624065",
   "metadata": {},
   "source": [
    "## Q7. Using setdefault() method, create key named topics in the given dictionary and also add the value of the key as this list ['Python', 'Machine Learning’, 'Deep Learning']\n",
    "### dict1 = {'language' : 'Python', 'course': 'Data Science Masters'}"
   ]
  },
  {
   "cell_type": "code",
   "execution_count": null,
   "id": "5330d0e4-ec65-4d51-8eb2-9d04e0a7d078",
   "metadata": {},
   "outputs": [],
   "source": [
    "dict1 = {'language' : 'Python', 'course': 'Data Science Masters'}"
   ]
  },
  {
   "cell_type": "code",
   "execution_count": 5,
   "id": "de6d2d5e-fb44-4992-acd7-ff3e7ced7357",
   "metadata": {},
   "outputs": [
    {
     "data": {
      "text/plain": [
       "['Python', 'Machine Learning', 'Deep Learning']"
      ]
     },
     "execution_count": 5,
     "metadata": {},
     "output_type": "execute_result"
    }
   ],
   "source": [
    "dict1.setdefault('topics',['Python', 'Machine Learning', 'Deep Learning'])"
   ]
  },
  {
   "cell_type": "code",
   "execution_count": 6,
   "id": "0d9c9daa-d3e0-413e-b7dc-11fc92c60c3c",
   "metadata": {},
   "outputs": [
    {
     "data": {
      "text/plain": [
       "{'Sport': 'Cricket',\n",
       " 'Teams': ['India',\n",
       "  'Australia',\n",
       "  'England',\n",
       "  'South Africa',\n",
       "  'Sri Lanka',\n",
       "  'New Zealand'],\n",
       " 'topics': ['Python', 'Machine Learning', 'Deep Learning']}"
      ]
     },
     "execution_count": 6,
     "metadata": {},
     "output_type": "execute_result"
    }
   ],
   "source": [
    "dict1"
   ]
  },
  {
   "cell_type": "markdown",
   "id": "22087acb-4084-4009-900d-04632e54a7b8",
   "metadata": {},
   "source": [
    "## Q8. What are the three view objects in dictionaries? Use the three in-built methods in python to display these three view objects for the given dictionary.\n",
    "### dict1 = {'Sport': 'Cricket' , 'Teams': ['India', 'Australia', 'England', 'South Africa', 'Sri Lanka', 'New Zealand']}"
   ]
  },
  {
   "cell_type": "code",
   "execution_count": 1,
   "id": "3f04a62c-ed4a-43e1-9489-2e7493118837",
   "metadata": {},
   "outputs": [],
   "source": [
    "'''\n",
    "The three view objects in dictionary are key, value and items.\n",
    "'''\n",
    "dict1 = {'Sport': 'Cricket' , 'Teams': ['India', 'Australia', 'England', 'South Africa', 'Sri Lanka', 'New Zealand']}"
   ]
  },
  {
   "cell_type": "code",
   "execution_count": 2,
   "id": "4a4f4daf-5e9b-4d7d-9cdd-438ba3106976",
   "metadata": {},
   "outputs": [
    {
     "data": {
      "text/plain": [
       "dict_keys(['Sport', 'Teams'])"
      ]
     },
     "execution_count": 2,
     "metadata": {},
     "output_type": "execute_result"
    }
   ],
   "source": [
    "dict1.keys()"
   ]
  },
  {
   "cell_type": "code",
   "execution_count": 3,
   "id": "47ef7bfd-195d-4f56-9122-26b5af697b91",
   "metadata": {},
   "outputs": [
    {
     "data": {
      "text/plain": [
       "dict_values(['Cricket', ['India', 'Australia', 'England', 'South Africa', 'Sri Lanka', 'New Zealand']])"
      ]
     },
     "execution_count": 3,
     "metadata": {},
     "output_type": "execute_result"
    }
   ],
   "source": [
    "dict1.values()"
   ]
  },
  {
   "cell_type": "code",
   "execution_count": 4,
   "id": "0e04a294-227e-493b-9b07-61348e745a47",
   "metadata": {},
   "outputs": [
    {
     "data": {
      "text/plain": [
       "dict_items([('Sport', 'Cricket'), ('Teams', ['India', 'Australia', 'England', 'South Africa', 'Sri Lanka', 'New Zealand'])])"
      ]
     },
     "execution_count": 4,
     "metadata": {},
     "output_type": "execute_result"
    }
   ],
   "source": [
    "dict1.items()"
   ]
  }
 ],
 "metadata": {
  "kernelspec": {
   "display_name": "Python 3 (ipykernel)",
   "language": "python",
   "name": "python3"
  },
  "language_info": {
   "codemirror_mode": {
    "name": "ipython",
    "version": 3
   },
   "file_extension": ".py",
   "mimetype": "text/x-python",
   "name": "python",
   "nbconvert_exporter": "python",
   "pygments_lexer": "ipython3",
   "version": "3.10.8"
  }
 },
 "nbformat": 4,
 "nbformat_minor": 5
}
