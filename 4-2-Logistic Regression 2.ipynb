{
 "cells": [
  {
   "cell_type": "markdown",
   "id": "5e737023-b844-4a6d-83d7-0376cfc15f3e",
   "metadata": {},
   "source": [
    "## Logistic Regression"
   ]
  },
  {
   "cell_type": "markdown",
   "id": "ad0d500d-5aa8-4bae-934a-ce6d0b46047c",
   "metadata": {},
   "source": [
    "## Q1. What is the purpose of grid search cv in machine learning, and how does it work?"
   ]
  },
  {
   "cell_type": "code",
   "execution_count": 1,
   "id": "ff123c0c-9fec-4106-8001-c1bae9aaafa4",
   "metadata": {},
   "outputs": [],
   "source": [
    "## Grid Search CV is used for finding the best feature for model selection.\n",
    "## It forms different combination of different features and selects best feature for model training."
   ]
  },
  {
   "cell_type": "markdown",
   "id": "a64230ab-e61f-432d-8994-1c6e66cc4de9",
   "metadata": {},
   "source": [
    "## Q2. Describe the difference between grid search cv and randomize search cv, and when might you choose one over the other?"
   ]
  },
  {
   "cell_type": "code",
   "execution_count": 2,
   "id": "4f2db1bb-874a-42da-99b6-5a0f497e6b82",
   "metadata": {},
   "outputs": [],
   "source": [
    "## In GridSearchCV each combination is checked and then best feature is selected which gives more accuracy.\n",
    "## In Randomizes SearchCV we take less number of combinations and then select best feature.\n",
    "## When we have time costraints then we use Randomized SearchCV as it takes less time. "
   ]
  },
  {
   "cell_type": "markdown",
   "id": "f69025f4-64cd-4d8e-bc07-192f6ac61bb6",
   "metadata": {},
   "source": [
    "## Q3. What is data leakage, and why is it a problem in machine learning? Provide an example."
   ]
  },
  {
   "cell_type": "code",
   "execution_count": 3,
   "id": "a2ec21b9-0936-4ccf-b61e-6f763dd164ac",
   "metadata": {},
   "outputs": [],
   "source": [
    "## A scenario when ML model already has information of test data in training data, but this information \n",
    "##           would not be available at the time of prediction, called data leakage.\n",
    "\n",
    "## If test data is already known by machine learning model then overfitting condition can occur.\n",
    "## And when we give new data to model then it may not give correct result."
   ]
  },
  {
   "cell_type": "markdown",
   "id": "08e88354-151f-4bfb-8d72-4d1a59985f30",
   "metadata": {},
   "source": [
    "## Q4. How can you prevent data leakage when building a machine learning model?"
   ]
  },
  {
   "cell_type": "code",
   "execution_count": 4,
   "id": "a58a2f91-0ea2-42d4-9737-7f1815085a62",
   "metadata": {},
   "outputs": [],
   "source": [
    "## We will split the data into training data and test data.\n",
    "## We will not include values from test data into training data.\n",
    "## In this way data leakage can be prevented."
   ]
  },
  {
   "cell_type": "markdown",
   "id": "b1ec7d18-8232-47f7-85ad-419411f1e23d",
   "metadata": {},
   "source": [
    "## Q5. What is a confusion matrix, and what does it tell you about the performance of a classification model?"
   ]
  },
  {
   "cell_type": "code",
   "execution_count": 5,
   "id": "aab2626d-a84f-460a-b9c6-79c2d7e0e540",
   "metadata": {},
   "outputs": [],
   "source": [
    "## Confusio matrix is a matrix which formed on actual values and predected valued.\n",
    "## It tells us the accuracy of model, precision, f score and recall."
   ]
  },
  {
   "cell_type": "markdown",
   "id": "020ddc42-4180-4f93-8f25-59516246e013",
   "metadata": {},
   "source": [
    "## Q6. Explain the difference between precision and recall in the context of a confusion matrix."
   ]
  },
  {
   "cell_type": "code",
   "execution_count": 6,
   "id": "0ab54ed8-c6de-4e22-96c0-6a22a527df0a",
   "metadata": {},
   "outputs": [],
   "source": [
    "## Precision :- out of all actual values how many are correctly predected.\n",
    "## prescision = TP/TP+FP\n",
    "\n",
    "## Recall :- out of all predicted values how many are correctly predicted.\n",
    "## Recall = TP/TP+FN"
   ]
  },
  {
   "cell_type": "markdown",
   "id": "0d82fbb5-416c-4202-be44-20acf8958407",
   "metadata": {},
   "source": [
    "## Q7. How can you interpret a confusion matrix to determine which types of errors your model is making?"
   ]
  },
  {
   "cell_type": "code",
   "execution_count": 7,
   "id": "09df4603-abd7-4e7a-b284-7ed43fcf61c8",
   "metadata": {},
   "outputs": [],
   "source": [
    "## Accuracy = YP+TN/TP+FP+FN+TN\n",
    "## prescision = TP/TP+FP\n",
    "## Recall = TP/TP+FN"
   ]
  },
  {
   "cell_type": "markdown",
   "id": "43707780-8efb-4200-a929-5f8f575004fa",
   "metadata": {},
   "source": [
    "## Q8. What are some common metrics that can be derived from a confusion matrix, and how are they calculated?"
   ]
  },
  {
   "cell_type": "code",
   "execution_count": 8,
   "id": "d3ea4a64-4fec-45d8-a51b-3b95ee606b26",
   "metadata": {},
   "outputs": [],
   "source": [
    "## We can calculate accuracy, precision, recall\n",
    "## Accuracy = YP+TN/TP+FP+FN+TN\n",
    "## prescision = TP/TP+FP\n",
    "## Recall = TP/TP+FN"
   ]
  },
  {
   "cell_type": "markdown",
   "id": "aeb783c8-78e7-4c78-8aae-9f39c1755735",
   "metadata": {},
   "source": [
    "## Q9. What is the relationship between the accuracy of a model and the values in its confusion matrix?"
   ]
  },
  {
   "cell_type": "code",
   "execution_count": 9,
   "id": "d1002f56-d9cc-4afc-bb3f-035ad2bee66e",
   "metadata": {},
   "outputs": [],
   "source": [
    "## Accuracy is given by True positive + True Negative divided by True positive +False Positive + False Negative + True Negative"
   ]
  },
  {
   "cell_type": "markdown",
   "id": "ef50f06b-93b0-44d5-9fd4-bfe9aedb9b3a",
   "metadata": {},
   "source": [
    "## Q10. How can you use a confusion matrix to identify potential biases or limitations in your machine learning model? "
   ]
  },
  {
   "cell_type": "code",
   "execution_count": 10,
   "id": "10fdab04-bfa7-471a-8878-58d636a83348",
   "metadata": {},
   "outputs": [],
   "source": [
    "## If model will be biased then Only one block will be having more value.\n",
    "## And if model is preding more number of wrong outcomes then false positive and negative values will be more."
   ]
  }
 ],
 "metadata": {
  "kernelspec": {
   "display_name": "Python 3 (ipykernel)",
   "language": "python",
   "name": "python3"
  },
  "language_info": {
   "codemirror_mode": {
    "name": "ipython",
    "version": 3
   },
   "file_extension": ".py",
   "mimetype": "text/x-python",
   "name": "python",
   "nbconvert_exporter": "python",
   "pygments_lexer": "ipython3",
   "version": "3.10.8"
  }
 },
 "nbformat": 4,
 "nbformat_minor": 5
}
